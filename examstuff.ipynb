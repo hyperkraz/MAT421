{
  "nbformat": 4,
  "nbformat_minor": 0,
  "metadata": {
    "colab": {
      "name": "examstuff.ipynb",
      "provenance": [],
      "collapsed_sections": [],
      "authorship_tag": "ABX9TyOK3eVxAkRxwV8++v63YfhT",
      "include_colab_link": true
    },
    "kernelspec": {
      "name": "python3",
      "display_name": "Python 3"
    },
    "language_info": {
      "name": "python"
    }
  },
  "cells": [
    {
      "cell_type": "markdown",
      "metadata": {
        "id": "view-in-github",
        "colab_type": "text"
      },
      "source": [
        "<a href=\"https://colab.research.google.com/github/hyperkraz/MAT421/blob/main/examstuff.ipynb\" target=\"_parent\"><img src=\"https://colab.research.google.com/assets/colab-badge.svg\" alt=\"Open In Colab\"/></a>"
      ]
    },
    {
      "cell_type": "code",
      "execution_count": null,
      "metadata": {
        "id": "0OF21NEtzZM6"
      },
      "outputs": [],
      "source": [
        ""
      ]
    },
    {
      "cell_type": "markdown",
      "source": [
        "test"
      ],
      "metadata": {
        "id": "jQFuFTKSzaKL"
      }
    },
    {
      "cell_type": "code",
      "source": [
        "!apt install octave"
      ],
      "metadata": {
        "colab": {
          "base_uri": "https://localhost:8080/"
        },
        "id": "ueKaSBHfzcDG",
        "outputId": "0bf3541c-8620-4b5c-9397-c78359975c92"
      },
      "execution_count": null,
      "outputs": [
        {
          "output_type": "stream",
          "name": "stdout",
          "text": [
            "Reading package lists... Done\n",
            "Building dependency tree       \n",
            "Reading state information... Done\n",
            "octave is already the newest version (4.2.2-1ubuntu1).\n",
            "The following package was automatically installed and is no longer required:\n",
            "  libnvidia-common-470\n",
            "Use 'apt autoremove' to remove it.\n",
            "0 upgraded, 0 newly installed, 0 to remove and 39 not upgraded.\n"
          ]
        }
      ]
    },
    {
      "cell_type": "code",
      "source": [
        "%%writefile fibonacci_direct2edit.m\n",
        "function F = fibonacci_direct2edit(n)\n",
        "if n==0\n",
        "  F = 3;\n",
        "else\n",
        "  Fn1 = 3; F = 2;\n",
        "  for k = 2:n\n",
        "    Fn2 = Fn1; Fn1 = F;\n",
        "    F = (2*Fn1) - (rdivide((8*(Fn2)), 9));\n",
        "  end\n",
        "end"
      ],
      "metadata": {
        "colab": {
          "base_uri": "https://localhost:8080/"
        },
        "id": "fuwwN0iJze-W",
        "outputId": "3e10dcfa-5061-4a53-87c5-3f313b7b38b1"
      },
      "execution_count": null,
      "outputs": [
        {
          "output_type": "stream",
          "name": "stdout",
          "text": [
            "Overwriting fibonacci_direct2edit.m\n"
          ]
        }
      ]
    },
    {
      "cell_type": "code",
      "source": [
        "%%writefile runfib3.m\n",
        "n = 3;\n",
        "fibonacci_direct2edit(n)"
      ],
      "metadata": {
        "colab": {
          "base_uri": "https://localhost:8080/"
        },
        "id": "HaG1jSmi0SEl",
        "outputId": "b5f08ef8-5c8c-4c2f-cf4e-89b8e1dc73a0"
      },
      "execution_count": null,
      "outputs": [
        {
          "output_type": "stream",
          "name": "stdout",
          "text": [
            "Overwriting runfib3.m\n"
          ]
        }
      ]
    },
    {
      "cell_type": "code",
      "source": [
        "!octave -W runfib3.m"
      ],
      "metadata": {
        "colab": {
          "base_uri": "https://localhost:8080/"
        },
        "id": "7MSojSB30UJl",
        "outputId": "3e64adbd-c4e5-448b-d56d-960c210e65f2"
      },
      "execution_count": null,
      "outputs": [
        {
          "output_type": "stream",
          "name": "stdout",
          "text": [
            "ans =  0.88889\n"
          ]
        }
      ]
    },
    {
      "cell_type": "code",
      "source": [
        "%%writefile fibonacci_recursive.m\n",
        "function F = fibonacci_recursive(n)\n",
        "if n == 0\n",
        "F = 0;\n",
        "elseif n == 1\n",
        "F = 1;\n",
        "else\n",
        "F = fibonacci_recursive(n-1) + fibonacci_recursive(n-2);\n",
        "end"
      ],
      "metadata": {
        "colab": {
          "base_uri": "https://localhost:8080/"
        },
        "id": "7rJIRKoE0XDV",
        "outputId": "3f6066b8-1be1-40c5-dfe0-e1c86112b7bc"
      },
      "execution_count": null,
      "outputs": [
        {
          "output_type": "stream",
          "name": "stdout",
          "text": [
            "Overwriting fibonacci_recursive.m\n"
          ]
        }
      ]
    },
    {
      "cell_type": "code",
      "source": [
        "%%writefile runfib8.m\n",
        "n = 8;\n",
        "fibonacci_recursive(n)"
      ],
      "metadata": {
        "colab": {
          "base_uri": "https://localhost:8080/"
        },
        "id": "Wr11XJkp_yor",
        "outputId": "f29f1ae4-abfd-4a4a-b27e-d9e602d03a86"
      },
      "execution_count": null,
      "outputs": [
        {
          "output_type": "stream",
          "name": "stdout",
          "text": [
            "Overwriting runfib8.m\n"
          ]
        }
      ]
    },
    {
      "cell_type": "code",
      "source": [
        "!octave -W runfib8.m"
      ],
      "metadata": {
        "colab": {
          "base_uri": "https://localhost:8080/"
        },
        "id": "XwVAhgYE_3JU",
        "outputId": "a000f7bd-00a1-4a09-9419-bf45d8847ddc"
      },
      "execution_count": null,
      "outputs": [
        {
          "output_type": "stream",
          "name": "stdout",
          "text": [
            "ans =  21\n"
          ]
        }
      ]
    },
    {
      "cell_type": "code",
      "source": [
        "%%writefile exam_recursive.m\n",
        "max_recursion_depth(1024)\n",
        "function F = exam_recursive(n,x)\n",
        "if n == 0\n",
        "F = 1;\n",
        "elseif n == 0\n",
        "F = x;\n",
        "else\n",
        "F = 2*x*exam_recursive(n-1,x) - exam_recursive(n-2,x);\n",
        "end"
      ],
      "metadata": {
        "colab": {
          "base_uri": "https://localhost:8080/"
        },
        "id": "gT9QKhq__6vt",
        "outputId": "f5cb6766-8403-40b2-e118-d2c0bf43e13a"
      },
      "execution_count": null,
      "outputs": [
        {
          "output_type": "stream",
          "name": "stdout",
          "text": [
            "Overwriting exam_recursive.m\n"
          ]
        }
      ]
    },
    {
      "cell_type": "code",
      "source": [
        "%%writefile runrec.m\n",
        "max_recursion_depth(1024)\n",
        "n = 1;\n",
        "x = 3;\n",
        "exam_recursive(n,3)"
      ],
      "metadata": {
        "colab": {
          "base_uri": "https://localhost:8080/"
        },
        "id": "alLz3YZABA6z",
        "outputId": "cc3d1beb-dabc-41a9-a0c5-f6fd9d7c99d7"
      },
      "execution_count": null,
      "outputs": [
        {
          "output_type": "stream",
          "name": "stdout",
          "text": [
            "Overwriting runrec.m\n"
          ]
        }
      ]
    },
    {
      "cell_type": "code",
      "source": [
        "!octave -W runrec.m"
      ],
      "metadata": {
        "colab": {
          "base_uri": "https://localhost:8080/"
        },
        "id": "FcUVogOhBGUP",
        "outputId": "b7723211-4282-4b86-f019-728785210e0a"
      },
      "execution_count": null,
      "outputs": [
        {
          "output_type": "stream",
          "name": "stdout",
          "text": [
            "warning: function 'exam_recursive' defined within script file '/content/exam_recursive.m'\n",
            "warning: called from\n",
            "    runrec at line 4 column 1\n",
            "error: invalid use of script /content/exam_recursive.m in index expression\n",
            "error: called from\n",
            "    runrec at line 4 column 1\n"
          ]
        }
      ]
    },
    {
      "cell_type": "code",
      "source": [
        "def recur_fib(n):\n",
        "  if n == 0:\n",
        "    F = 0\n",
        "  elif n == 1:\n",
        "    F = 1\n",
        "  else:\n",
        "    F = recur_fib(n-1) + recur_fib(n-2)\n",
        "  return F"
      ],
      "metadata": {
        "id": "A0DFVrO9BOd4"
      },
      "execution_count": null,
      "outputs": []
    },
    {
      "cell_type": "code",
      "source": [
        "recur_fib(8)"
      ],
      "metadata": {
        "colab": {
          "base_uri": "https://localhost:8080/"
        },
        "id": "u4UwiyCMI28B",
        "outputId": "d6dd3f44-b633-4e21-dcfb-e49208f8fa4b"
      },
      "execution_count": null,
      "outputs": [
        {
          "output_type": "execute_result",
          "data": {
            "text/plain": [
              "21"
            ]
          },
          "metadata": {},
          "execution_count": 217
        }
      ]
    },
    {
      "cell_type": "code",
      "source": [
        "from functools import lru_cache\n",
        "\n",
        "@lru_cache(maxsize = 128)\n",
        "def recur_ex(n, x):\n",
        "  if n == 0:\n",
        "    F = 1\n",
        "  elif n == 1:\n",
        "    F = x\n",
        "  else:\n",
        "    F = 2*x*recur_ex(n-1, x) - recur_ex(n-2, x)\n",
        "  return F"
      ],
      "metadata": {
        "id": "Wk0wvN60I647"
      },
      "execution_count": null,
      "outputs": []
    },
    {
      "cell_type": "code",
      "source": [
        "def recur_ex_fast(n, x):\n",
        "  if n == 0:\n",
        "    F = 1\n",
        "  elif n == 1:\n",
        "    F = x\n",
        "  elif n == 2:\n",
        "    F = x\n",
        "  else:\n",
        "    if n%2:\n",
        "      F = 2*x*recur_ex(n-1, x) - recur_ex(n-2, x)\n",
        "\n",
        "      blahhh\n",
        "      \n",
        "  return F"
      ],
      "metadata": {
        "id": "LmE-Cafj84O_"
      },
      "execution_count": null,
      "outputs": []
    },
    {
      "cell_type": "code",
      "source": [
        "recur_ex(100, 0.99)"
      ],
      "metadata": {
        "colab": {
          "base_uri": "https://localhost:8080/"
        },
        "id": "uxenrEyyJNwG",
        "outputId": "6f6c0418-d0c9-4421-c2d2-a3cd96842a77"
      },
      "execution_count": null,
      "outputs": [
        {
          "output_type": "execute_result",
          "data": {
            "text/plain": [
              "-0.016779603791694797"
            ]
          },
          "metadata": {},
          "execution_count": 220
        }
      ]
    },
    {
      "cell_type": "code",
      "source": [
        "def testy(n, x):\n",
        "  rneg = x - (((x**2) - 1)**0.5)\n",
        "  rpos = x + (((x**2) - 1)**0.5)\n",
        "  cpos = (x - rneg)/(rpos - rneg)\n",
        "  cneg = (-x + rpos)/(rpos - rneg)\n",
        "  T = (cpos*((rpos)**n)) + (cneg*((rneg)**n))\n",
        "  return T"
      ],
      "metadata": {
        "id": "M5IzkmkeJRhF"
      },
      "execution_count": null,
      "outputs": []
    },
    {
      "cell_type": "code",
      "source": [
        "testy(3, 5)"
      ],
      "metadata": {
        "colab": {
          "base_uri": "https://localhost:8080/"
        },
        "id": "iDm4Gs6MUMl0",
        "outputId": "37a41396-b3a9-49c3-f65d-9e6b2bc3bde4"
      },
      "execution_count": null,
      "outputs": [
        {
          "output_type": "execute_result",
          "data": {
            "text/plain": [
              "484.99999999999994"
            ]
          },
          "metadata": {},
          "execution_count": 222
        }
      ]
    },
    {
      "cell_type": "code",
      "source": [
        "def dir_exhelp(n):\n",
        "  if n == 0:\n",
        "    F = 3\n",
        "  else:\n",
        "    Fn1 = 3\n",
        "    F = 2\n",
        "  for k in range(1, n):\n",
        "    Fn2 = Fn1\n",
        "    Fn1 = F\n",
        "    F = (2*Fn1) - ((8*(Fn2)) / 9)\n",
        "  return F\n"
      ],
      "metadata": {
        "id": "5HXfFjhJUO82"
      },
      "execution_count": null,
      "outputs": []
    },
    {
      "cell_type": "code",
      "source": [
        "dir_exhelp(3)"
      ],
      "metadata": {
        "colab": {
          "base_uri": "https://localhost:8080/"
        },
        "id": "lryvpu23V4wr",
        "outputId": "44389637-c773-494f-a018-e0a210635a52"
      },
      "execution_count": null,
      "outputs": [
        {
          "output_type": "execute_result",
          "data": {
            "text/plain": [
              "0.8888888888888893"
            ]
          },
          "metadata": {},
          "execution_count": 224
        }
      ]
    },
    {
      "cell_type": "code",
      "source": [
        "def dir_ex(n, x):\n",
        "  if n == 0:\n",
        "    F = 1\n",
        "  else:\n",
        "    Fn1 = 1\n",
        "    F = x\n",
        "  for k in range(1, n):\n",
        "    Fn2 = Fn1\n",
        "    Fn1 = F\n",
        "    F = (2*x*Fn1) - ((1*(Fn2)) / 1)\n",
        "  return F\n"
      ],
      "metadata": {
        "id": "SB0T25lYV6fY"
      },
      "execution_count": null,
      "outputs": []
    },
    {
      "cell_type": "code",
      "source": [
        "dir_ex(4, 5)"
      ],
      "metadata": {
        "colab": {
          "base_uri": "https://localhost:8080/"
        },
        "id": "s-gigXc3WbhN",
        "outputId": "1bc5e29e-c109-41e1-87d9-189019c86ea8"
      },
      "execution_count": null,
      "outputs": [
        {
          "output_type": "execute_result",
          "data": {
            "text/plain": [
              "4801.0"
            ]
          },
          "metadata": {},
          "execution_count": 226
        }
      ]
    },
    {
      "cell_type": "code",
      "source": [
        "def testyhelp(n):\n",
        "  rpos = 4/3\n",
        "  rneg = 2/3\n",
        "  cpos = 0\n",
        "  cneg = 3\n",
        "  T = (cpos*((rpos)**n)) + (cneg*((rneg)**n))\n",
        "  return T"
      ],
      "metadata": {
        "id": "CFrE7mBnWeHj"
      },
      "execution_count": null,
      "outputs": []
    },
    {
      "cell_type": "code",
      "source": [
        "testyhelp(3)"
      ],
      "metadata": {
        "colab": {
          "base_uri": "https://localhost:8080/"
        },
        "id": "V98ylQxNXHB5",
        "outputId": "60a81105-80f2-4b0b-c1a0-ba79aa3664ae"
      },
      "execution_count": null,
      "outputs": [
        {
          "output_type": "execute_result",
          "data": {
            "text/plain": [
              "0.8888888888888886"
            ]
          },
          "metadata": {},
          "execution_count": 228
        }
      ]
    },
    {
      "cell_type": "code",
      "source": [
        "def exlong(n, x):\n",
        "  T = (((x - (x - (((x**2) - 1)**0.5)))/((x + (((x**2) - 1)**0.5)) - (x - (((x**2) - 1)**0.5))))*(((x + (((x**2) - 1)**0.5)))**n)) + (((-x + (x + (((x**2) - 1)**0.5)))/((x + (((x**2) - 1)**0.5)) - (x - (((x**2) - 1)**0.5))))*(((x - (((x**2) - 1)**0.5)))**n))\n",
        "  return T\n"
      ],
      "metadata": {
        "id": "sNsKafrXXJjw"
      },
      "execution_count": null,
      "outputs": []
    },
    {
      "cell_type": "code",
      "source": [
        "exlong(5, 5)"
      ],
      "metadata": {
        "colab": {
          "base_uri": "https://localhost:8080/"
        },
        "id": "VxLvxW1Femsl",
        "outputId": "549f077e-bc9a-4ea5-db74-60e820e670be"
      },
      "execution_count": null,
      "outputs": [
        {
          "output_type": "execute_result",
          "data": {
            "text/plain": [
              "47524.999999999985"
            ]
          },
          "metadata": {},
          "execution_count": 230
        }
      ]
    },
    {
      "cell_type": "code",
      "source": [
        "from cmath import sqrt\n",
        "\n",
        "def explicit(n, x):\n",
        "  return (((x + sqrt((x**2) - 1))**n) + ((x - sqrt((x**2) - 1))**n))/2"
      ],
      "metadata": {
        "id": "fLNApdE3eoqL"
      },
      "execution_count": null,
      "outputs": []
    },
    {
      "cell_type": "code",
      "source": [
        "explicit(100, 0.99)"
      ],
      "metadata": {
        "colab": {
          "base_uri": "https://localhost:8080/"
        },
        "id": "lieGxa9vkbQG",
        "outputId": "a3d0f6e0-d273-4f12-b47a-620d06fcbd3f"
      },
      "execution_count": null,
      "outputs": [
        {
          "output_type": "execute_result",
          "data": {
            "text/plain": [
              "(-0.016779603791701292+0j)"
            ]
          },
          "metadata": {},
          "execution_count": 232
        }
      ]
    },
    {
      "cell_type": "code",
      "source": [
        ""
      ],
      "metadata": {
        "id": "yDJtbUdokcro"
      },
      "execution_count": null,
      "outputs": []
    },
    {
      "cell_type": "markdown",
      "source": [
        "**1c)**"
      ],
      "metadata": {
        "id": "Nh_IR7vqohOc"
      }
    },
    {
      "cell_type": "code",
      "source": [
        "import numpy as np\n",
        "\n",
        "arrayn0 = [0, 0, 0, 0]\n",
        "arrayn1 = [1, 1, 1, 1]\n",
        "arrayn2 = [2, 2, 2, 2]\n",
        "arrayn5 = [5, 5, 5, 5]\n",
        "arrayn10 = [10, 10, 10, 10]\n",
        "arrayn20 = [20, 20, 20, 20]\n",
        "arrayn100 = [100, 100, 100, 100]\n",
        "\n",
        "arrayx = [0.5, 0.99, 1.01, 1.5]\n",
        "\n",
        "\n",
        "explicit_vect = np.vectorize(explicit)\n",
        "\n",
        "recur_ex_vect = np.vectorize(recur_ex)\n",
        "\n",
        "\n",
        "\n",
        " \n",
        "explicitarray0 = explicit_vect(arrayn0, arrayx)\n",
        "recurarray0 = recur_ex_vect(arrayn0, arrayx)\n",
        " \n",
        "print(\"For the explicit when n = 0:\", explicitarray0)\n",
        "print(\"For the recursive when n = 0:\", recurarray0)\n",
        " \n",
        "errarray0 = abs(explicitarray0 - recurarray0)\n",
        " \n",
        "print(\"The absolute error when n = 0:\", errarray0)\n",
        " \n",
        "print(\"\\n\")\n",
        "\n",
        "\n",
        "\n",
        "explicitarray1 = explicit_vect(arrayn1, arrayx)\n",
        "recurarray1 = recur_ex_vect(arrayn1, arrayx)\n",
        "\n",
        "print(\"For the explicit when n = 1:\", explicitarray1)\n",
        "print(\"For the recursive when n = 1:\", recurarray1)\n",
        "\n",
        "errarray1 = abs(explicitarray1 - recurarray1)\n",
        "\n",
        "print(\"The absolute error when n = 1:\", errarray1)\n",
        "\n",
        "print(\"\\n\")\n",
        "\n",
        "\n",
        "\n",
        "explicitarray2 = explicit_vect(arrayn2, arrayx)\n",
        "recurarray2 = recur_ex_vect(arrayn2, arrayx)\n",
        "\n",
        "print(\"For the explicit when n = 2:\", explicitarray2)\n",
        "print(\"For the recursive when n = 2:\", recurarray2)\n",
        "\n",
        "errarray2 = abs(explicitarray2 - recurarray2)\n",
        "\n",
        "print(\"The absolute error when n = 2:\", errarray2)\n",
        "\n",
        "print(\"\\n\")\n",
        "\n",
        "\n",
        " \n",
        "explicitarray5 = explicit_vect(arrayn5, arrayx)\n",
        "recurarray5 = recur_ex_vect(arrayn5, arrayx)\n",
        " \n",
        "print(\"For the explicit when n = 5:\", explicitarray5)\n",
        "print(\"For the recursive when n = 5:\", recurarray5)\n",
        " \n",
        "errarray5 = abs(explicitarray5 - recurarray5)\n",
        " \n",
        "print(\"The absolute error when n = 5:\", errarray5)\n",
        " \n",
        "print(\"\\n\")\n",
        "\n",
        "\n",
        " \n",
        "explicitarray10 = explicit_vect(arrayn10, arrayx)\n",
        "recurarray10 = recur_ex_vect(arrayn10, arrayx)\n",
        " \n",
        "print(\"For the explicit when n = 10:\", explicitarray10)\n",
        "print(\"For the recursive when n = 10:\", recurarray10)\n",
        " \n",
        "errarray10 = abs(explicitarray10 - recurarray10)\n",
        " \n",
        "print(\"The absolute error when n = 10:\", errarray10)\n",
        " \n",
        "print(\"\\n\")\n",
        "\n",
        "\n",
        " \n",
        "explicitarray20 = explicit_vect(arrayn20, arrayx)\n",
        "recurarray20 = recur_ex_vect(arrayn20, arrayx)\n",
        " \n",
        "print(\"For the explicit when n = 20:\", explicitarray20)\n",
        "print(\"For the recursive when n = 20:\", recurarray20)\n",
        " \n",
        "errarray20 = abs(explicitarray20 - recurarray20)\n",
        " \n",
        "print(\"The absolute error when n = 20:\", errarray20)\n",
        " \n",
        "print(\"\\n\")\n",
        "\n",
        "\n",
        " \n",
        "explicitarray100 = explicit_vect(arrayn100, arrayx)\n",
        "recurarray100 = recur_ex_vect(arrayn100, arrayx)\n",
        " \n",
        "print(\"For the explicit when n = 100:\", explicitarray100)\n",
        "print(\"For the recursive when n = 100:\", recurarray100)\n",
        " \n",
        "errarray100 = abs(explicitarray100 - recurarray100)\n",
        " \n",
        "print(\"The absolute error when n = 100:\", errarray100)\n",
        " \n",
        "print(\"\\n\")\n",
        "\n"
      ],
      "metadata": {
        "colab": {
          "base_uri": "https://localhost:8080/"
        },
        "id": "JfpIlILHojM-",
        "outputId": "d9847718-7576-4c53-9192-527dd7f02486"
      },
      "execution_count": null,
      "outputs": [
        {
          "output_type": "stream",
          "name": "stdout",
          "text": [
            "For the explicit when n = 0: [1.+0.j 1.+0.j 1.+0.j 1.+0.j]\n",
            "For the recursive when n = 0: [1 1 1 1]\n",
            "The absolute error when n = 0: [0. 0. 0. 0.]\n",
            "\n",
            "\n",
            "For the explicit when n = 1: [0.5 +0.j 0.99+0.j 1.01+0.j 1.5 +0.j]\n",
            "For the recursive when n = 1: [0.5  0.99 1.01 1.5 ]\n",
            "The absolute error when n = 1: [0. 0. 0. 0.]\n",
            "\n",
            "\n",
            "For the explicit when n = 2: [-0.5   +0.j  0.9602+0.j  1.0402+0.j  3.5   +0.j]\n",
            "For the recursive when n = 2: [-0.5     0.9602  1.0402  3.5   ]\n",
            "The absolute error when n = 2: [1.11022302e-16 0.00000000e+00 0.00000000e+00 0.00000000e+00]\n",
            "\n",
            "\n",
            "For the explicit when n = 5: [ 0.5      +0.j  0.7598608+0.j  1.2601408+0.j 61.5      +0.j]\n",
            "For the recursive when n = 5: [ 0.5        0.7598608  1.2601408 61.5      ]\n",
            "The absolute error when n = 5: [3.33066907e-16 0.00000000e+00 4.44089210e-16 0.00000000e+00]\n",
            "\n",
            "\n",
            "For the explicit when n = 10: [-5.00000000e-01+0.j  1.54776866e-01+0.j  2.17590968e+00+0.j\n",
            "  7.56350000e+03+0.j]\n",
            "For the recursive when n = 10: [-5.00000000e-01  1.54776866e-01  2.17590968e+00  7.56350000e+03]\n",
            "The absolute error when n = 10: [5.55111512e-17 8.32667268e-16 1.33226763e-15 9.09494702e-13]\n",
            "\n",
            "\n",
            "For the explicit when n = 20: [-5.00000000e-01+0.j -9.52088244e-01+0.j  8.46916587e+00+0.j\n",
            "  1.14413063e+08+0.j]\n",
            "For the recursive when n = 20: [-5.00000000e-01 -9.52088244e-01  8.46916587e+00  1.14413064e+08]\n",
            "The absolute error when n = 20: [1.11022302e-15 8.88178420e-16 1.77635684e-14 1.49011612e-08]\n",
            "\n",
            "\n",
            "For the explicit when n = 100: [-5.00000000e-01+0.j -1.67796038e-02+0.j  6.85038122e+05+0.j\n",
            "  3.13688108e+41+0.j]\n",
            "For the recursive when n = 100: [-5.00000000e-01 -1.67796038e-02  6.85038122e+05  3.13688108e+41]\n",
            "The absolute error when n = 100: [0.00000000e+00 6.49480469e-15 8.96397978e-09 1.93428131e+26]\n",
            "\n",
            "\n"
          ]
        }
      ]
    },
    {
      "cell_type": "code",
      "source": [
        ""
      ],
      "metadata": {
        "id": "33FAKOzsp3ag"
      },
      "execution_count": null,
      "outputs": []
    },
    {
      "cell_type": "code",
      "source": [
        "import numpy as np\n",
        "\n",
        "arrayn0 = [0, 0, 0, 0]\n",
        "arrayn1 = [1, 1, 1, 1]\n",
        "arrayn2 = [2, 2, 2, 2]\n",
        "arrayn5 = [5, 5, 5, 5]\n",
        "arrayn10 = [10, 10, 10, 10]\n",
        "arrayn20 = [20, 20, 20, 20]\n",
        "arrayn100 = [100, 100, 100, 100]\n",
        "\n",
        "arrayx = [0.5, 0.99, 1.01, 1.5]\n",
        "\n",
        "\n",
        "explicit_vect = np.vectorize(explicit)\n",
        "\n",
        "recur_ex_vect = np.vectorize(recur_ex)\n",
        "\n",
        "\n",
        "\n",
        " \n",
        "explicitarray0 = explicit_vect(arrayn0, arrayx)\n",
        "recurarray0 = recur_ex_vect(arrayn0, arrayx)\n",
        " \n",
        "print(\"For the explicit when n = 0:\", explicitarray0)\n",
        "print(\"For the recursive when n = 0:\", recurarray0)\n",
        "\n",
        "print(\"\\n\")\n",
        "\n",
        "\n",
        "explicitarray1 = explicit_vect(arrayn1, arrayx)\n",
        "recurarray1 = recur_ex_vect(arrayn1, arrayx)\n",
        "\n",
        "print(\"For the explicit when n = 1:\", explicitarray1)\n",
        "print(\"For the recursive when n = 1:\", recurarray1)\n",
        " \n",
        "print(\"\\n\")\n",
        "\n",
        "\n",
        "explicitarray2 = explicit_vect(arrayn2, arrayx)\n",
        "recurarray2 = recur_ex_vect(arrayn2, arrayx)\n",
        "\n",
        "print(\"For the explicit when n = 2:\", explicitarray2)\n",
        "print(\"For the recursive when n = 2:\", recurarray2)\n",
        " \n",
        "print(\"\\n\")\n",
        "\n",
        " \n",
        "explicitarray5 = explicit_vect(arrayn5, arrayx)\n",
        "recurarray5 = recur_ex_vect(arrayn5, arrayx)\n",
        " \n",
        "print(\"For the explicit when n = 5:\", explicitarray5)\n",
        "print(\"For the recursive when n = 5:\", recurarray5)\n",
        " \n",
        "print(\"\\n\")\n",
        "\n",
        " \n",
        "explicitarray10 = explicit_vect(arrayn10, arrayx)\n",
        "recurarray10 = recur_ex_vect(arrayn10, arrayx)\n",
        " \n",
        "print(\"For the explicit when n = 10:\", explicitarray10)\n",
        "print(\"For the recursive when n = 10:\", recurarray10)\n",
        " \n",
        "print(\"\\n\")\n",
        "\n",
        " \n",
        "explicitarray20 = explicit_vect(arrayn20, arrayx)\n",
        "recurarray20 = recur_ex_vect(arrayn20, arrayx)\n",
        " \n",
        "print(\"For the explicit when n = 20:\", explicitarray20)\n",
        "print(\"For the recursive when n = 20:\", recurarray20)\n",
        " \n",
        "print(\"\\n\")\n",
        "\n",
        " \n",
        "explicitarray100 = explicit_vect(arrayn100, arrayx)\n",
        "recurarray100 = recur_ex_vect(arrayn100, arrayx)\n",
        " \n",
        "print(\"For the explicit when n = 100:\", explicitarray100)\n",
        "print(\"For the recursive when n = 100:\", recurarray100)\n",
        " \n",
        "print(\"\\n\")\n",
        "\n"
      ],
      "metadata": {
        "colab": {
          "base_uri": "https://localhost:8080/"
        },
        "id": "hzclIwLy6teP",
        "outputId": "2127bd0a-3b03-4fbd-cded-7222260a9e47"
      },
      "execution_count": null,
      "outputs": [
        {
          "output_type": "stream",
          "name": "stdout",
          "text": [
            "For the explicit when n = 0: [1.+0.j 1.+0.j 1.+0.j 1.+0.j]\n",
            "For the recursive when n = 0: [1 1 1 1]\n",
            "\n",
            "\n",
            "For the explicit when n = 1: [0.5 +0.j 0.99+0.j 1.01+0.j 1.5 +0.j]\n",
            "For the recursive when n = 1: [0.5  0.99 1.01 1.5 ]\n",
            "\n",
            "\n",
            "For the explicit when n = 2: [-0.5   +0.j  0.9602+0.j  1.0402+0.j  3.5   +0.j]\n",
            "For the recursive when n = 2: [-0.5     0.9602  1.0402  3.5   ]\n",
            "\n",
            "\n",
            "For the explicit when n = 5: [ 0.5      +0.j  0.7598608+0.j  1.2601408+0.j 61.5      +0.j]\n",
            "For the recursive when n = 5: [ 0.5        0.7598608  1.2601408 61.5      ]\n",
            "\n",
            "\n",
            "For the explicit when n = 10: [-5.00000000e-01+0.j  1.54776866e-01+0.j  2.17590968e+00+0.j\n",
            "  7.56350000e+03+0.j]\n",
            "For the recursive when n = 10: [-5.00000000e-01  1.54776866e-01  2.17590968e+00  7.56350000e+03]\n",
            "\n",
            "\n",
            "For the explicit when n = 20: [-5.00000000e-01+0.j -9.52088244e-01+0.j  8.46916587e+00+0.j\n",
            "  1.14413063e+08+0.j]\n",
            "For the recursive when n = 20: [-5.00000000e-01 -9.52088244e-01  8.46916587e+00  1.14413064e+08]\n",
            "\n",
            "\n",
            "For the explicit when n = 100: [-5.00000000e-01+0.j -1.67796038e-02+0.j  6.85038122e+05+0.j\n",
            "  3.13688108e+41+0.j]\n",
            "For the recursive when n = 100: [-5.00000000e-01 -1.67796038e-02  6.85038122e+05  3.13688108e+41]\n",
            "\n",
            "\n"
          ]
        }
      ]
    },
    {
      "cell_type": "code",
      "source": [
        " \n",
        "errarray0 = abs(explicitarray0 - recurarray0)\n",
        " \n",
        "print(\"The absolute error when n = 0:\", errarray0)\n",
        " \n",
        "print(\"\\n\")\n",
        "\n",
        "\n",
        "\n",
        "errarray1 = abs(explicitarray1 - recurarray1)\n",
        "\n",
        "print(\"The absolute error when n = 1:\", errarray1)\n",
        "\n",
        "print(\"\\n\")\n",
        "\n",
        "\n",
        "\n",
        "errarray2 = abs(explicitarray2 - recurarray2)\n",
        "\n",
        "print(\"The absolute error when n = 2:\", errarray2)\n",
        "\n",
        "print(\"\\n\")\n",
        "\n",
        "\n",
        " \n",
        "errarray5 = abs(explicitarray5 - recurarray5)\n",
        " \n",
        "print(\"The absolute error when n = 5:\", errarray5)\n",
        " \n",
        "print(\"\\n\")\n",
        "\n",
        "\n",
        "\n",
        "errarray10 = abs(explicitarray10 - recurarray10)\n",
        " \n",
        "print(\"The absolute error when n = 10:\", errarray10)\n",
        " \n",
        "print(\"\\n\")\n",
        "\n",
        "\n",
        "\n",
        "errarray20 = abs(explicitarray20 - recurarray20)\n",
        " \n",
        "print(\"The absolute error when n = 20:\", errarray20)\n",
        " \n",
        "print(\"\\n\")\n",
        "\n",
        " \n",
        "\n",
        "errarray100 = abs(explicitarray100 - recurarray100)\n",
        " \n",
        "print(\"The absolute error when n = 100:\", errarray100)\n",
        " \n",
        "print(\"\\n\")"
      ],
      "metadata": {
        "colab": {
          "base_uri": "https://localhost:8080/"
        },
        "id": "N4F101XyDIVf",
        "outputId": "fa93d035-9e0b-470d-9ba4-8a01530639a7"
      },
      "execution_count": null,
      "outputs": [
        {
          "output_type": "stream",
          "name": "stdout",
          "text": [
            "The absolute error when n = 0: [0. 0. 0. 0.]\n",
            "\n",
            "\n",
            "The absolute error when n = 1: [0. 0. 0. 0.]\n",
            "\n",
            "\n",
            "The absolute error when n = 2: [1.11022302e-16 0.00000000e+00 0.00000000e+00 0.00000000e+00]\n",
            "\n",
            "\n",
            "The absolute error when n = 5: [3.33066907e-16 0.00000000e+00 4.44089210e-16 0.00000000e+00]\n",
            "\n",
            "\n",
            "The absolute error when n = 10: [5.55111512e-17 8.32667268e-16 1.33226763e-15 9.09494702e-13]\n",
            "\n",
            "\n",
            "The absolute error when n = 20: [1.11022302e-15 8.88178420e-16 1.77635684e-14 1.49011612e-08]\n",
            "\n",
            "\n",
            "The absolute error when n = 100: [0.00000000e+00 6.49480469e-15 8.96397978e-09 1.93428131e+26]\n",
            "\n",
            "\n"
          ]
        }
      ]
    },
    {
      "cell_type": "code",
      "source": [
        "dam_e = explicit(100, 1.5)\n",
        "dam_r = recur_ex(100, 1.5)\n",
        "dam_e - dam_r"
      ],
      "metadata": {
        "colab": {
          "base_uri": "https://localhost:8080/"
        },
        "id": "hA6hwz1nD-Yo",
        "outputId": "3927eff5-e5d5-4e0d-8bb3-f2602ba53598"
      },
      "execution_count": null,
      "outputs": [
        {
          "output_type": "execute_result",
          "data": {
            "text/plain": [
              "(-1.9342813113834067e+26+0j)"
            ]
          },
          "metadata": {},
          "execution_count": 236
        }
      ]
    },
    {
      "cell_type": "code",
      "source": [
        ""
      ],
      "metadata": {
        "id": "j_oxl34rGl5l"
      },
      "execution_count": null,
      "outputs": []
    },
    {
      "cell_type": "code",
      "source": [
        ""
      ],
      "metadata": {
        "id": "qIX_Wy-fGn8w"
      },
      "execution_count": null,
      "outputs": []
    },
    {
      "cell_type": "markdown",
      "source": [
        "**Numbah 2**"
      ],
      "metadata": {
        "id": "OTgmYdcPKEmp"
      }
    },
    {
      "cell_type": "code",
      "source": [
        ""
      ],
      "metadata": {
        "id": "05OCUb5IGyDU"
      },
      "execution_count": null,
      "outputs": []
    }
  ]
}