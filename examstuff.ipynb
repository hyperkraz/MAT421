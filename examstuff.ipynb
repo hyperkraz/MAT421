{
  "nbformat": 4,
  "nbformat_minor": 0,
  "metadata": {
    "colab": {
      "name": "examstuff.ipynb",
      "provenance": [],
      "collapsed_sections": [],
      "authorship_tag": "ABX9TyNAFsbl+w//LkI2EAfJNLVx",
      "include_colab_link": true
    },
    "kernelspec": {
      "name": "python3",
      "display_name": "Python 3"
    },
    "language_info": {
      "name": "python"
    }
  },
  "cells": [
    {
      "cell_type": "markdown",
      "metadata": {
        "id": "view-in-github",
        "colab_type": "text"
      },
      "source": [
        "<a href=\"https://colab.research.google.com/github/hyperkraz/MAT421/blob/main/examstuff.ipynb\" target=\"_parent\"><img src=\"https://colab.research.google.com/assets/colab-badge.svg\" alt=\"Open In Colab\"/></a>"
      ]
    },
    {
      "cell_type": "code",
      "execution_count": 42,
      "metadata": {
        "id": "0OF21NEtzZM6"
      },
      "outputs": [],
      "source": [
        ""
      ]
    },
    {
      "cell_type": "markdown",
      "source": [
        "test"
      ],
      "metadata": {
        "id": "jQFuFTKSzaKL"
      }
    },
    {
      "cell_type": "code",
      "source": [
        "!apt install octave"
      ],
      "metadata": {
        "colab": {
          "base_uri": "https://localhost:8080/"
        },
        "id": "ueKaSBHfzcDG",
        "outputId": "2ba21651-c7b6-4d18-d607-f456a6380d6b"
      },
      "execution_count": 43,
      "outputs": [
        {
          "output_type": "stream",
          "name": "stdout",
          "text": [
            "Reading package lists... Done\n",
            "Building dependency tree       \n",
            "Reading state information... Done\n",
            "octave is already the newest version (4.2.2-1ubuntu1).\n",
            "0 upgraded, 0 newly installed, 0 to remove and 39 not upgraded.\n"
          ]
        }
      ]
    },
    {
      "cell_type": "code",
      "source": [
        "%%writefile fibonacci_direct2edit.m\n",
        "function F = fibonacci_direct2edit(n)\n",
        "if n==0\n",
        "  F = 3;\n",
        "else\n",
        "  Fn1 = 3; F = 2;\n",
        "  for k = 2:n\n",
        "    Fn2 = Fn1; Fn1 = F;\n",
        "    F = (2*Fn1) - (rdivide((8*(Fn2)), 9));\n",
        "  end\n",
        "end"
      ],
      "metadata": {
        "colab": {
          "base_uri": "https://localhost:8080/"
        },
        "id": "fuwwN0iJze-W",
        "outputId": "76ad9357-d9a9-485e-feef-fa6b6df0425a"
      },
      "execution_count": 44,
      "outputs": [
        {
          "output_type": "stream",
          "name": "stdout",
          "text": [
            "Overwriting fibonacci_direct2edit.m\n"
          ]
        }
      ]
    },
    {
      "cell_type": "code",
      "source": [
        "%%writefile runfib3.m\n",
        "n = 3;\n",
        "fibonacci_direct2edit(n)"
      ],
      "metadata": {
        "colab": {
          "base_uri": "https://localhost:8080/"
        },
        "id": "HaG1jSmi0SEl",
        "outputId": "6493dbe8-ed95-4487-d6ca-796b08ba7c9d"
      },
      "execution_count": 45,
      "outputs": [
        {
          "output_type": "stream",
          "name": "stdout",
          "text": [
            "Overwriting runfib3.m\n"
          ]
        }
      ]
    },
    {
      "cell_type": "code",
      "source": [
        "!octave -W runfib3.m"
      ],
      "metadata": {
        "colab": {
          "base_uri": "https://localhost:8080/"
        },
        "id": "7MSojSB30UJl",
        "outputId": "d0c77f4d-97b0-4464-80ca-c2dd009f73bd"
      },
      "execution_count": 46,
      "outputs": [
        {
          "output_type": "stream",
          "name": "stdout",
          "text": [
            "ans =  0.88889\n"
          ]
        }
      ]
    },
    {
      "cell_type": "code",
      "source": [
        "%%writefile fibonacci_recursive.m\n",
        "function F = fibonacci_recursive(n)\n",
        "if n == 0\n",
        "F = 0;\n",
        "elseif n == 1\n",
        "F = 1;\n",
        "else\n",
        "F = fibonacci_recursive(n-1) + fibonacci_recursive(n-2);\n",
        "end"
      ],
      "metadata": {
        "colab": {
          "base_uri": "https://localhost:8080/"
        },
        "id": "7rJIRKoE0XDV",
        "outputId": "e5b8e7a8-fd89-4488-a0a6-071e00118aaa"
      },
      "execution_count": 47,
      "outputs": [
        {
          "output_type": "stream",
          "name": "stdout",
          "text": [
            "Overwriting fibonacci_recursive.m\n"
          ]
        }
      ]
    },
    {
      "cell_type": "code",
      "source": [
        "%%writefile runfib8.m\n",
        "n = 8;\n",
        "fibonacci_recursive(n)"
      ],
      "metadata": {
        "colab": {
          "base_uri": "https://localhost:8080/"
        },
        "id": "Wr11XJkp_yor",
        "outputId": "8726ccc0-a5c6-4dfe-f054-500c0a694573"
      },
      "execution_count": 48,
      "outputs": [
        {
          "output_type": "stream",
          "name": "stdout",
          "text": [
            "Overwriting runfib8.m\n"
          ]
        }
      ]
    },
    {
      "cell_type": "code",
      "source": [
        "!octave -W runfib8.m"
      ],
      "metadata": {
        "colab": {
          "base_uri": "https://localhost:8080/"
        },
        "id": "XwVAhgYE_3JU",
        "outputId": "39e67b93-115e-46b6-9ff1-0310a49d681d"
      },
      "execution_count": 49,
      "outputs": [
        {
          "output_type": "stream",
          "name": "stdout",
          "text": [
            "ans =  21\n"
          ]
        }
      ]
    },
    {
      "cell_type": "code",
      "source": [
        "%%writefile exam_recursive.m\n",
        "max_recursion_depth(1024)\n",
        "function F = exam_recursive(n,x)\n",
        "if n == 0\n",
        "F = 1;\n",
        "elseif n == 0\n",
        "F = x;\n",
        "else\n",
        "F = 2*x*exam_recursive(n-1,x) - exam_recursive(n-2,x);\n",
        "end"
      ],
      "metadata": {
        "colab": {
          "base_uri": "https://localhost:8080/"
        },
        "id": "gT9QKhq__6vt",
        "outputId": "e899586d-a0c5-4969-8141-72394896887f"
      },
      "execution_count": 50,
      "outputs": [
        {
          "output_type": "stream",
          "name": "stdout",
          "text": [
            "Overwriting exam_recursive.m\n"
          ]
        }
      ]
    },
    {
      "cell_type": "code",
      "source": [
        "%%writefile runrec.m\n",
        "max_recursion_depth(1024)\n",
        "n = 1;\n",
        "x = 3;\n",
        "exam_recursive(n,3)"
      ],
      "metadata": {
        "colab": {
          "base_uri": "https://localhost:8080/"
        },
        "id": "alLz3YZABA6z",
        "outputId": "2672f203-0bf0-4112-9761-b295c07bdd7a"
      },
      "execution_count": 51,
      "outputs": [
        {
          "output_type": "stream",
          "name": "stdout",
          "text": [
            "Overwriting runrec.m\n"
          ]
        }
      ]
    },
    {
      "cell_type": "code",
      "source": [
        "!octave -W runrec.m"
      ],
      "metadata": {
        "colab": {
          "base_uri": "https://localhost:8080/"
        },
        "id": "FcUVogOhBGUP",
        "outputId": "98a33af9-7bcd-4f66-b4ec-7ee320aaf91f"
      },
      "execution_count": 52,
      "outputs": [
        {
          "output_type": "stream",
          "name": "stdout",
          "text": [
            "warning: function 'exam_recursive' defined within script file '/content/exam_recursive.m'\n",
            "warning: called from\n",
            "    runrec at line 4 column 1\n",
            "error: invalid use of script /content/exam_recursive.m in index expression\n",
            "error: called from\n",
            "    runrec at line 4 column 1\n"
          ]
        }
      ]
    },
    {
      "cell_type": "code",
      "source": [
        "def recur_fib(n):\n",
        "  if n == 0:\n",
        "    F = 0\n",
        "  elif n == 1:\n",
        "    F = 1\n",
        "  else:\n",
        "    F = recur_fib(n-1) + recur_fib(n-2)\n",
        "  return F"
      ],
      "metadata": {
        "id": "A0DFVrO9BOd4"
      },
      "execution_count": 53,
      "outputs": []
    },
    {
      "cell_type": "code",
      "source": [
        "recur_fib(8)"
      ],
      "metadata": {
        "colab": {
          "base_uri": "https://localhost:8080/"
        },
        "id": "u4UwiyCMI28B",
        "outputId": "dc00a32f-d679-45e0-ed7d-88d11385526f"
      },
      "execution_count": 54,
      "outputs": [
        {
          "output_type": "execute_result",
          "data": {
            "text/plain": [
              "21"
            ]
          },
          "metadata": {},
          "execution_count": 54
        }
      ]
    },
    {
      "cell_type": "code",
      "source": [
        "from functools import lru_cache\n",
        "\n",
        "@lru_cache(maxsize = 128)\n",
        "def recur_ex(n, x):\n",
        "  if n == 0:\n",
        "    F = 1\n",
        "  elif n == 1:\n",
        "    F = x\n",
        "  else:\n",
        "    F = 2*x*recur_ex(n-1, x) - recur_ex(n-2, x)\n",
        "  return F"
      ],
      "metadata": {
        "id": "Wk0wvN60I647"
      },
      "execution_count": 55,
      "outputs": []
    },
    {
      "cell_type": "code",
      "source": [
        "def recur_ex_fast(n, x):\n",
        "  if n == 0:\n",
        "    F = 1\n",
        "  elif n == 1:\n",
        "    F = x\n",
        "  elif n == 2:\n",
        "    F = x\n",
        "  else:\n",
        "    if n%2:\n",
        "      F = 2*x*recur_ex(n-1, x) - recur_ex(n-2, x)\n",
        "\n",
        "      blahhh\n",
        "      \n",
        "  return F"
      ],
      "metadata": {
        "id": "LmE-Cafj84O_"
      },
      "execution_count": 56,
      "outputs": []
    },
    {
      "cell_type": "code",
      "source": [
        "recur_ex(100, 0.99)"
      ],
      "metadata": {
        "colab": {
          "base_uri": "https://localhost:8080/"
        },
        "id": "uxenrEyyJNwG",
        "outputId": "9e92af7b-42f6-4755-88b2-6b50c7b6f8fd"
      },
      "execution_count": 57,
      "outputs": [
        {
          "output_type": "execute_result",
          "data": {
            "text/plain": [
              "-0.016779603791694797"
            ]
          },
          "metadata": {},
          "execution_count": 57
        }
      ]
    },
    {
      "cell_type": "code",
      "source": [
        "def testy(n, x):\n",
        "  rneg = x - (((x**2) - 1)**0.5)\n",
        "  rpos = x + (((x**2) - 1)**0.5)\n",
        "  cpos = (x - rneg)/(rpos - rneg)\n",
        "  cneg = (-x + rpos)/(rpos - rneg)\n",
        "  T = (cpos*((rpos)**n)) + (cneg*((rneg)**n))\n",
        "  return T"
      ],
      "metadata": {
        "id": "M5IzkmkeJRhF"
      },
      "execution_count": 58,
      "outputs": []
    },
    {
      "cell_type": "code",
      "source": [
        "testy(3, 5)"
      ],
      "metadata": {
        "colab": {
          "base_uri": "https://localhost:8080/"
        },
        "id": "iDm4Gs6MUMl0",
        "outputId": "a8097881-f765-4dc5-f315-19ea0bef7361"
      },
      "execution_count": 59,
      "outputs": [
        {
          "output_type": "execute_result",
          "data": {
            "text/plain": [
              "484.99999999999994"
            ]
          },
          "metadata": {},
          "execution_count": 59
        }
      ]
    },
    {
      "cell_type": "code",
      "source": [
        "def dir_exhelp(n):\n",
        "  if n == 0:\n",
        "    F = 3\n",
        "  else:\n",
        "    Fn1 = 3\n",
        "    F = 2\n",
        "  for k in range(1, n):\n",
        "    Fn2 = Fn1\n",
        "    Fn1 = F\n",
        "    F = (2*Fn1) - ((8*(Fn2)) / 9)\n",
        "  return F\n"
      ],
      "metadata": {
        "id": "5HXfFjhJUO82"
      },
      "execution_count": 60,
      "outputs": []
    },
    {
      "cell_type": "code",
      "source": [
        "dir_exhelp(3)"
      ],
      "metadata": {
        "colab": {
          "base_uri": "https://localhost:8080/"
        },
        "id": "lryvpu23V4wr",
        "outputId": "7e3a2697-12e3-44fb-bb65-cc5bddccb579"
      },
      "execution_count": 61,
      "outputs": [
        {
          "output_type": "execute_result",
          "data": {
            "text/plain": [
              "0.8888888888888893"
            ]
          },
          "metadata": {},
          "execution_count": 61
        }
      ]
    },
    {
      "cell_type": "code",
      "source": [
        "def dir_ex(n, x):\n",
        "  if n == 0:\n",
        "    F = 1\n",
        "  else:\n",
        "    Fn1 = 1\n",
        "    F = x\n",
        "  for k in range(1, n):\n",
        "    Fn2 = Fn1\n",
        "    Fn1 = F\n",
        "    F = (2*x*Fn1) - (Fn2)\n",
        "  return F\n"
      ],
      "metadata": {
        "id": "SB0T25lYV6fY"
      },
      "execution_count": 62,
      "outputs": []
    },
    {
      "cell_type": "code",
      "source": [
        "dir_ex(4, 5)"
      ],
      "metadata": {
        "colab": {
          "base_uri": "https://localhost:8080/"
        },
        "id": "s-gigXc3WbhN",
        "outputId": "61554ee2-c4e9-4c0a-df25-186d2936fe4a"
      },
      "execution_count": 63,
      "outputs": [
        {
          "output_type": "execute_result",
          "data": {
            "text/plain": [
              "4801"
            ]
          },
          "metadata": {},
          "execution_count": 63
        }
      ]
    },
    {
      "cell_type": "code",
      "source": [
        "def testyhelp(n):\n",
        "  rpos = 4/3\n",
        "  rneg = 2/3\n",
        "  cpos = 0\n",
        "  cneg = 3\n",
        "  T = (cpos*((rpos)**n)) + (cneg*((rneg)**n))\n",
        "  return T"
      ],
      "metadata": {
        "id": "CFrE7mBnWeHj"
      },
      "execution_count": 64,
      "outputs": []
    },
    {
      "cell_type": "code",
      "source": [
        "testyhelp(3)"
      ],
      "metadata": {
        "colab": {
          "base_uri": "https://localhost:8080/"
        },
        "id": "V98ylQxNXHB5",
        "outputId": "dd1e85f0-cc36-45bb-ce93-c11205fb585e"
      },
      "execution_count": 65,
      "outputs": [
        {
          "output_type": "execute_result",
          "data": {
            "text/plain": [
              "0.8888888888888886"
            ]
          },
          "metadata": {},
          "execution_count": 65
        }
      ]
    },
    {
      "cell_type": "code",
      "source": [
        "def exlong(n, x):\n",
        "  T = (((x - (x - (((x**2) - 1)**0.5)))/((x + (((x**2) - 1)**0.5)) - (x - (((x**2) - 1)**0.5))))*(((x + (((x**2) - 1)**0.5)))**n)) + (((-x + (x + (((x**2) - 1)**0.5)))/((x + (((x**2) - 1)**0.5)) - (x - (((x**2) - 1)**0.5))))*(((x - (((x**2) - 1)**0.5)))**n))\n",
        "  return T\n"
      ],
      "metadata": {
        "id": "sNsKafrXXJjw"
      },
      "execution_count": 66,
      "outputs": []
    },
    {
      "cell_type": "code",
      "source": [
        "exlong(5, 5)"
      ],
      "metadata": {
        "colab": {
          "base_uri": "https://localhost:8080/"
        },
        "id": "VxLvxW1Femsl",
        "outputId": "efb2f21c-c892-42cd-f277-b9188ceee9e8"
      },
      "execution_count": 67,
      "outputs": [
        {
          "output_type": "execute_result",
          "data": {
            "text/plain": [
              "47524.999999999985"
            ]
          },
          "metadata": {},
          "execution_count": 67
        }
      ]
    },
    {
      "cell_type": "code",
      "source": [
        "from cmath import sqrt\n",
        "\n",
        "def explicit(n, x):\n",
        "  return (((x + sqrt((x**2) - 1))**n) + ((x - sqrt((x**2) - 1))**n))/2"
      ],
      "metadata": {
        "id": "fLNApdE3eoqL"
      },
      "execution_count": 68,
      "outputs": []
    },
    {
      "cell_type": "code",
      "source": [
        "explicit(100, 0.99)"
      ],
      "metadata": {
        "colab": {
          "base_uri": "https://localhost:8080/"
        },
        "id": "lieGxa9vkbQG",
        "outputId": "b9ace9a4-abad-44e4-b938-99c58a30ab06"
      },
      "execution_count": 69,
      "outputs": [
        {
          "output_type": "execute_result",
          "data": {
            "text/plain": [
              "(-0.016779603791701292+0j)"
            ]
          },
          "metadata": {},
          "execution_count": 69
        }
      ]
    },
    {
      "cell_type": "code",
      "source": [
        ""
      ],
      "metadata": {
        "id": "yDJtbUdokcro"
      },
      "execution_count": 69,
      "outputs": []
    },
    {
      "cell_type": "markdown",
      "source": [
        "**1c)**"
      ],
      "metadata": {
        "id": "Nh_IR7vqohOc"
      }
    },
    {
      "cell_type": "code",
      "source": [
        "import numpy as np\n",
        "\n",
        "arrayn0 = [0, 0, 0, 0]\n",
        "arrayn1 = [1, 1, 1, 1]\n",
        "arrayn2 = [2, 2, 2, 2]\n",
        "arrayn5 = [5, 5, 5, 5]\n",
        "arrayn10 = [10, 10, 10, 10]\n",
        "arrayn20 = [20, 20, 20, 20]\n",
        "arrayn100 = [100, 100, 100, 100]\n",
        "\n",
        "arrayx = [0.5, 0.99, 1.01, 1.5]\n",
        "\n",
        "\n",
        "explicit_vect = np.vectorize(explicit)\n",
        "dir_ex_vect = np.vectorize(dir_ex)\n",
        "recur_ex_vect = np.vectorize(recur_ex)\n",
        "\n",
        "\n",
        "\n",
        " \n",
        "explicitarray0 = explicit_vect(arrayn0, arrayx)\n",
        "recurarray0 = recur_ex_vect(arrayn0, arrayx)\n",
        "dirarray0 = dir_ex_vect(arrayn0, arrayx) \n",
        "print(\"For the explicit when n = 0:\", explicitarray0)\n",
        "print(\"For the recursive when n = 0:\", recurarray0)\n",
        "print(\"For the direct when n = 0:\", dirarray0) \n",
        "errarray0 = abs(explicitarray0 - recurarray0)\n",
        "print(\"\\n\") \n",
        "print(\"The absolute error when n = 0:\", errarray0)\n",
        " \n",
        "print(\"\\n\")\n",
        "print(\"\\n\")\n",
        "\n",
        "\n",
        "\n",
        "explicitarray1 = explicit_vect(arrayn1, arrayx)\n",
        "recurarray1 = recur_ex_vect(arrayn1, arrayx)\n",
        "dirarray1 = dir_ex_vect(arrayn1, arrayx)\n",
        "print(\"For the explicit when n = 1:\", explicitarray1)\n",
        "print(\"For the recursive when n = 1:\", recurarray1)\n",
        "print(\"For the direct when n = 1:\", dirarray1)\n",
        "errarray1 = abs(explicitarray1 - recurarray1)\n",
        "print(\"\\n\")\n",
        "print(\"The absolute error when n = 1:\", errarray1)\n",
        "\n",
        "print(\"\\n\")\n",
        "print(\"\\n\")\n",
        "\n",
        "\n",
        "\n",
        "explicitarray2 = explicit_vect(arrayn2, arrayx)\n",
        "recurarray2 = recur_ex_vect(arrayn2, arrayx)\n",
        "dirarray2 = dir_ex_vect(arrayn2, arrayx)\n",
        "print(\"For the explicit when n = 2:\", explicitarray2)\n",
        "print(\"For the recursive when n = 2:\", recurarray2)\n",
        "print(\"For the direct when n = 2:\", dirarray2)\n",
        "errarray2 = abs(explicitarray2 - recurarray2)\n",
        "print(\"\\n\")\n",
        "print(\"The absolute error when n = 2:\", errarray2)\n",
        "\n",
        "print(\"\\n\")\n",
        "print(\"\\n\")\n",
        "\n",
        "\n",
        " \n",
        "explicitarray5 = explicit_vect(arrayn5, arrayx)\n",
        "recurarray5 = recur_ex_vect(arrayn5, arrayx)\n",
        "dirarray5 = dir_ex_vect(arrayn5, arrayx)\n",
        "print(\"For the explicit when n = 5:\", explicitarray5)\n",
        "print(\"For the recursive when n = 5:\", recurarray5)\n",
        "print(\"For the direct when n = 5:\", dirarray5) \n",
        "errarray5 = abs(explicitarray5 - recurarray5)\n",
        "print(\"\\n\") \n",
        "print(\"The absolute error when n = 5:\", errarray5)\n",
        " \n",
        "print(\"\\n\")\n",
        "print(\"\\n\")\n",
        "\n",
        "\n",
        " \n",
        "explicitarray10 = explicit_vect(arrayn10, arrayx)\n",
        "recurarray10 = recur_ex_vect(arrayn10, arrayx)\n",
        "dirarray10 = dir_ex_vect(arrayn10, arrayx) \n",
        "print(\"For the explicit when n = 10:\", explicitarray10)\n",
        "print(\"For the recursive when n = 10:\", recurarray10)\n",
        "print(\"For the direct when n = 10:\", dirarray10) \n",
        "errarray10 = abs(explicitarray10 - recurarray10)\n",
        "print(\"\\n\") \n",
        "print(\"The absolute error when n = 10:\", errarray10)\n",
        " \n",
        "print(\"\\n\")\n",
        "print(\"\\n\")\n",
        "\n",
        "\n",
        " \n",
        "explicitarray20 = explicit_vect(arrayn20, arrayx)\n",
        "recurarray20 = recur_ex_vect(arrayn20, arrayx)\n",
        "dirarray20 = dir_ex_vect(arrayn20, arrayx) \n",
        "print(\"For the explicit when n = 20:\", explicitarray20)\n",
        "print(\"For the recursive when n = 20:\", recurarray20)\n",
        "print(\"For the direct when n = 20:\", dirarray20) \n",
        "errarray20 = abs(explicitarray20 - recurarray20)\n",
        "print(\"\\n\") \n",
        "print(\"The absolute error when n = 20:\", errarray20)\n",
        " \n",
        "print(\"\\n\")\n",
        "print(\"\\n\")\n",
        "\n",
        "\n",
        " \n",
        "explicitarray100 = explicit_vect(arrayn100, arrayx)\n",
        "recurarray100 = recur_ex_vect(arrayn100, arrayx)\n",
        "dirarray100 = dir_ex_vect(arrayn100, arrayx) \n",
        "print(\"For the explicit when n = 100:\", explicitarray100)\n",
        "print(\"For the recursive when n = 100:\", recurarray100)\n",
        "print(\"For the direct when n = 100:\", dirarray100) \n",
        "errarray100 = abs(explicitarray100 - recurarray100)\n",
        "print(\"\\n\") \n",
        "print(\"The absolute error when n = 100:\", errarray100)\n",
        " \n",
        "print(\"\\n\")\n",
        "print(\"\\n\")\n",
        "\n"
      ],
      "metadata": {
        "colab": {
          "base_uri": "https://localhost:8080/"
        },
        "id": "JfpIlILHojM-",
        "outputId": "1069b867-cb47-4bf5-efe5-d2be00f2f48e"
      },
      "execution_count": 70,
      "outputs": [
        {
          "output_type": "stream",
          "name": "stdout",
          "text": [
            "For the explicit when n = 0: [1.+0.j 1.+0.j 1.+0.j 1.+0.j]\n",
            "For the recursive when n = 0: [1 1 1 1]\n",
            "For the direct when n = 0: [1 1 1 1]\n",
            "\n",
            "\n",
            "The absolute error when n = 0: [0. 0. 0. 0.]\n",
            "\n",
            "\n",
            "\n",
            "\n",
            "For the explicit when n = 1: [0.5 +0.j 0.99+0.j 1.01+0.j 1.5 +0.j]\n",
            "For the recursive when n = 1: [0.5  0.99 1.01 1.5 ]\n",
            "For the direct when n = 1: [0.5  0.99 1.01 1.5 ]\n",
            "\n",
            "\n",
            "The absolute error when n = 1: [0. 0. 0. 0.]\n",
            "\n",
            "\n",
            "\n",
            "\n",
            "For the explicit when n = 2: [-0.5   +0.j  0.9602+0.j  1.0402+0.j  3.5   +0.j]\n",
            "For the recursive when n = 2: [-0.5     0.9602  1.0402  3.5   ]\n",
            "For the direct when n = 2: [-0.5     0.9602  1.0402  3.5   ]\n",
            "\n",
            "\n",
            "The absolute error when n = 2: [1.11022302e-16 0.00000000e+00 0.00000000e+00 0.00000000e+00]\n",
            "\n",
            "\n",
            "\n",
            "\n",
            "For the explicit when n = 5: [ 0.5      +0.j  0.7598608+0.j  1.2601408+0.j 61.5      +0.j]\n",
            "For the recursive when n = 5: [ 0.5        0.7598608  1.2601408 61.5      ]\n",
            "For the direct when n = 5: [ 0.5        0.7598608  1.2601408 61.5      ]\n",
            "\n",
            "\n",
            "The absolute error when n = 5: [3.33066907e-16 0.00000000e+00 4.44089210e-16 0.00000000e+00]\n",
            "\n",
            "\n",
            "\n",
            "\n",
            "For the explicit when n = 10: [-5.00000000e-01+0.j  1.54776866e-01+0.j  2.17590968e+00+0.j\n",
            "  7.56350000e+03+0.j]\n",
            "For the recursive when n = 10: [-5.00000000e-01  1.54776866e-01  2.17590968e+00  7.56350000e+03]\n",
            "For the direct when n = 10: [-5.00000000e-01  1.54776866e-01  2.17590968e+00  7.56350000e+03]\n",
            "\n",
            "\n",
            "The absolute error when n = 10: [5.55111512e-17 8.32667268e-16 1.33226763e-15 9.09494702e-13]\n",
            "\n",
            "\n",
            "\n",
            "\n",
            "For the explicit when n = 20: [-5.00000000e-01+0.j -9.52088244e-01+0.j  8.46916587e+00+0.j\n",
            "  1.14413063e+08+0.j]\n",
            "For the recursive when n = 20: [-5.00000000e-01 -9.52088244e-01  8.46916587e+00  1.14413064e+08]\n",
            "For the direct when n = 20: [-5.00000000e-01 -9.52088244e-01  8.46916587e+00  1.14413064e+08]\n",
            "\n",
            "\n",
            "The absolute error when n = 20: [1.11022302e-15 8.88178420e-16 1.77635684e-14 1.49011612e-08]\n",
            "\n",
            "\n",
            "\n",
            "\n",
            "For the explicit when n = 100: [-5.00000000e-01+0.j -1.67796038e-02+0.j  6.85038122e+05+0.j\n",
            "  3.13688108e+41+0.j]\n",
            "For the recursive when n = 100: [-5.00000000e-01 -1.67796038e-02  6.85038122e+05  3.13688108e+41]\n",
            "For the direct when n = 100: [-5.00000000e-01 -1.67796038e-02  6.85038122e+05  3.13688108e+41]\n",
            "\n",
            "\n",
            "The absolute error when n = 100: [0.00000000e+00 6.49480469e-15 8.96397978e-09 1.93428131e+26]\n",
            "\n",
            "\n",
            "\n",
            "\n"
          ]
        }
      ]
    },
    {
      "cell_type": "code",
      "source": [
        ""
      ],
      "metadata": {
        "id": "33FAKOzsp3ag"
      },
      "execution_count": 70,
      "outputs": []
    },
    {
      "cell_type": "code",
      "source": [
        "import numpy as np\n",
        "\n",
        "arrayn0 = [0, 0, 0, 0]\n",
        "arrayn1 = [1, 1, 1, 1]\n",
        "arrayn2 = [2, 2, 2, 2]\n",
        "arrayn5 = [5, 5, 5, 5]\n",
        "arrayn10 = [10, 10, 10, 10]\n",
        "arrayn20 = [20, 20, 20, 20]\n",
        "arrayn100 = [100, 100, 100, 100]\n",
        "\n",
        "arrayx = [0.5, 0.99, 1.01, 1.5]\n",
        "\n",
        "\n",
        "explicit_vect = np.vectorize(explicit)\n",
        "\n",
        "recur_ex_vect = np.vectorize(recur_ex)\n",
        "\n",
        "\n",
        "\n",
        " \n",
        "explicitarray0 = explicit_vect(arrayn0, arrayx)\n",
        "recurarray0 = recur_ex_vect(arrayn0, arrayx)\n",
        " \n",
        "print(\"For the explicit when n = 0:\", explicitarray0)\n",
        "print(\"For the recursive when n = 0:\", recurarray0)\n",
        "\n",
        "print(\"\\n\")\n",
        "\n",
        "\n",
        "explicitarray1 = explicit_vect(arrayn1, arrayx)\n",
        "recurarray1 = recur_ex_vect(arrayn1, arrayx)\n",
        "\n",
        "print(\"For the explicit when n = 1:\", explicitarray1)\n",
        "print(\"For the recursive when n = 1:\", recurarray1)\n",
        " \n",
        "print(\"\\n\")\n",
        "\n",
        "\n",
        "explicitarray2 = explicit_vect(arrayn2, arrayx)\n",
        "recurarray2 = recur_ex_vect(arrayn2, arrayx)\n",
        "\n",
        "print(\"For the explicit when n = 2:\", explicitarray2)\n",
        "print(\"For the recursive when n = 2:\", recurarray2)\n",
        " \n",
        "print(\"\\n\")\n",
        "\n",
        " \n",
        "explicitarray5 = explicit_vect(arrayn5, arrayx)\n",
        "recurarray5 = recur_ex_vect(arrayn5, arrayx)\n",
        " \n",
        "print(\"For the explicit when n = 5:\", explicitarray5)\n",
        "print(\"For the recursive when n = 5:\", recurarray5)\n",
        " \n",
        "print(\"\\n\")\n",
        "\n",
        " \n",
        "explicitarray10 = explicit_vect(arrayn10, arrayx)\n",
        "recurarray10 = recur_ex_vect(arrayn10, arrayx)\n",
        " \n",
        "print(\"For the explicit when n = 10:\", explicitarray10)\n",
        "print(\"For the recursive when n = 10:\", recurarray10)\n",
        " \n",
        "print(\"\\n\")\n",
        "\n",
        " \n",
        "explicitarray20 = explicit_vect(arrayn20, arrayx)\n",
        "recurarray20 = recur_ex_vect(arrayn20, arrayx)\n",
        " \n",
        "print(\"For the explicit when n = 20:\", explicitarray20)\n",
        "print(\"For the recursive when n = 20:\", recurarray20)\n",
        " \n",
        "print(\"\\n\")\n",
        "\n",
        " \n",
        "explicitarray100 = explicit_vect(arrayn100, arrayx)\n",
        "recurarray100 = recur_ex_vect(arrayn100, arrayx)\n",
        " \n",
        "print(\"For the explicit when n = 100:\", explicitarray100)\n",
        "print(\"For the recursive when n = 100:\", recurarray100)\n",
        " \n",
        "print(\"\\n\")\n",
        "\n"
      ],
      "metadata": {
        "colab": {
          "base_uri": "https://localhost:8080/"
        },
        "id": "hzclIwLy6teP",
        "outputId": "92317f80-68e4-4e45-9833-bdcb41c90be4"
      },
      "execution_count": 71,
      "outputs": [
        {
          "output_type": "stream",
          "name": "stdout",
          "text": [
            "For the explicit when n = 0: [1.+0.j 1.+0.j 1.+0.j 1.+0.j]\n",
            "For the recursive when n = 0: [1 1 1 1]\n",
            "\n",
            "\n",
            "For the explicit when n = 1: [0.5 +0.j 0.99+0.j 1.01+0.j 1.5 +0.j]\n",
            "For the recursive when n = 1: [0.5  0.99 1.01 1.5 ]\n",
            "\n",
            "\n",
            "For the explicit when n = 2: [-0.5   +0.j  0.9602+0.j  1.0402+0.j  3.5   +0.j]\n",
            "For the recursive when n = 2: [-0.5     0.9602  1.0402  3.5   ]\n",
            "\n",
            "\n",
            "For the explicit when n = 5: [ 0.5      +0.j  0.7598608+0.j  1.2601408+0.j 61.5      +0.j]\n",
            "For the recursive when n = 5: [ 0.5        0.7598608  1.2601408 61.5      ]\n",
            "\n",
            "\n",
            "For the explicit when n = 10: [-5.00000000e-01+0.j  1.54776866e-01+0.j  2.17590968e+00+0.j\n",
            "  7.56350000e+03+0.j]\n",
            "For the recursive when n = 10: [-5.00000000e-01  1.54776866e-01  2.17590968e+00  7.56350000e+03]\n",
            "\n",
            "\n",
            "For the explicit when n = 20: [-5.00000000e-01+0.j -9.52088244e-01+0.j  8.46916587e+00+0.j\n",
            "  1.14413063e+08+0.j]\n",
            "For the recursive when n = 20: [-5.00000000e-01 -9.52088244e-01  8.46916587e+00  1.14413064e+08]\n",
            "\n",
            "\n",
            "For the explicit when n = 100: [-5.00000000e-01+0.j -1.67796038e-02+0.j  6.85038122e+05+0.j\n",
            "  3.13688108e+41+0.j]\n",
            "For the recursive when n = 100: [-5.00000000e-01 -1.67796038e-02  6.85038122e+05  3.13688108e+41]\n",
            "\n",
            "\n"
          ]
        }
      ]
    },
    {
      "cell_type": "code",
      "source": [
        " \n",
        "errarray0 = abs(explicitarray0 - recurarray0)\n",
        " \n",
        "print(\"The absolute error when n = 0:\", errarray0)\n",
        " \n",
        "print(\"\\n\")\n",
        "\n",
        "\n",
        "\n",
        "errarray1 = abs(explicitarray1 - recurarray1)\n",
        "\n",
        "print(\"The absolute error when n = 1:\", errarray1)\n",
        "\n",
        "print(\"\\n\")\n",
        "\n",
        "\n",
        "\n",
        "errarray2 = abs(explicitarray2 - recurarray2)\n",
        "\n",
        "print(\"The absolute error when n = 2:\", errarray2)\n",
        "\n",
        "print(\"\\n\")\n",
        "\n",
        "\n",
        " \n",
        "errarray5 = abs(explicitarray5 - recurarray5)\n",
        " \n",
        "print(\"The absolute error when n = 5:\", errarray5)\n",
        " \n",
        "print(\"\\n\")\n",
        "\n",
        "\n",
        "\n",
        "errarray10 = abs(explicitarray10 - recurarray10)\n",
        " \n",
        "print(\"The absolute error when n = 10:\", errarray10)\n",
        " \n",
        "print(\"\\n\")\n",
        "\n",
        "\n",
        "\n",
        "errarray20 = abs(explicitarray20 - recurarray20)\n",
        " \n",
        "print(\"The absolute error when n = 20:\", errarray20)\n",
        " \n",
        "print(\"\\n\")\n",
        "\n",
        " \n",
        "\n",
        "errarray100 = abs(explicitarray100 - recurarray100)\n",
        " \n",
        "print(\"The absolute error when n = 100:\", errarray100)\n",
        " \n",
        "print(\"\\n\")"
      ],
      "metadata": {
        "colab": {
          "base_uri": "https://localhost:8080/"
        },
        "id": "N4F101XyDIVf",
        "outputId": "6c7b7aa0-eb8e-4b16-9b32-df7eabe83652"
      },
      "execution_count": 72,
      "outputs": [
        {
          "output_type": "stream",
          "name": "stdout",
          "text": [
            "The absolute error when n = 0: [0. 0. 0. 0.]\n",
            "\n",
            "\n",
            "The absolute error when n = 1: [0. 0. 0. 0.]\n",
            "\n",
            "\n",
            "The absolute error when n = 2: [1.11022302e-16 0.00000000e+00 0.00000000e+00 0.00000000e+00]\n",
            "\n",
            "\n",
            "The absolute error when n = 5: [3.33066907e-16 0.00000000e+00 4.44089210e-16 0.00000000e+00]\n",
            "\n",
            "\n",
            "The absolute error when n = 10: [5.55111512e-17 8.32667268e-16 1.33226763e-15 9.09494702e-13]\n",
            "\n",
            "\n",
            "The absolute error when n = 20: [1.11022302e-15 8.88178420e-16 1.77635684e-14 1.49011612e-08]\n",
            "\n",
            "\n",
            "The absolute error when n = 100: [0.00000000e+00 6.49480469e-15 8.96397978e-09 1.93428131e+26]\n",
            "\n",
            "\n"
          ]
        }
      ]
    },
    {
      "cell_type": "code",
      "source": [
        "dam_e = explicit(100, 1.5)\n",
        "dam_r = recur_ex(100, 1.5)\n",
        "dam_e - dam_r"
      ],
      "metadata": {
        "colab": {
          "base_uri": "https://localhost:8080/"
        },
        "id": "hA6hwz1nD-Yo",
        "outputId": "807e48b8-4812-448c-cf82-2ed516b6580d"
      },
      "execution_count": 73,
      "outputs": [
        {
          "output_type": "execute_result",
          "data": {
            "text/plain": [
              "(-1.9342813113834067e+26+0j)"
            ]
          },
          "metadata": {},
          "execution_count": 73
        }
      ]
    },
    {
      "cell_type": "code",
      "source": [
        ""
      ],
      "metadata": {
        "id": "j_oxl34rGl5l"
      },
      "execution_count": 73,
      "outputs": []
    },
    {
      "cell_type": "code",
      "source": [
        ""
      ],
      "metadata": {
        "id": "qIX_Wy-fGn8w"
      },
      "execution_count": 73,
      "outputs": []
    },
    {
      "cell_type": "markdown",
      "source": [
        "**Numbah 2**"
      ],
      "metadata": {
        "id": "OTgmYdcPKEmp"
      }
    },
    {
      "cell_type": "code",
      "source": [
        ""
      ],
      "metadata": {
        "id": "05OCUb5IGyDU"
      },
      "execution_count": 73,
      "outputs": []
    }
  ]
}