{
  "nbformat": 4,
  "nbformat_minor": 0,
  "metadata": {
    "colab": {
      "name": "HW6.ipynb",
      "provenance": [],
      "collapsed_sections": [],
      "authorship_tag": "ABX9TyP5XAsVYRJ+UXjoilHAiOGJ",
      "include_colab_link": true
    },
    "kernelspec": {
      "name": "python3",
      "display_name": "Python 3"
    },
    "language_info": {
      "name": "python"
    }
  },
  "cells": [
    {
      "cell_type": "markdown",
      "metadata": {
        "id": "view-in-github",
        "colab_type": "text"
      },
      "source": [
        "<a href=\"https://colab.research.google.com/github/hyperkraz/MAT421/blob/main/HW6.ipynb\" target=\"_parent\"><img src=\"https://colab.research.google.com/assets/colab-badge.svg\" alt=\"Open In Colab\"/></a>"
      ]
    },
    {
      "cell_type": "code",
      "execution_count": null,
      "metadata": {
        "id": "PrPpGfSSENoX"
      },
      "outputs": [],
      "source": [
        ""
      ]
    },
    {
      "cell_type": "markdown",
      "source": [
        "**HW6**"
      ],
      "metadata": {
        "id": "Ir9y13USEPi2"
      }
    },
    {
      "cell_type": "markdown",
      "source": [
        "*Use the linear approximation of sin(x) around a = 0 to show that sin(x) / x ≈ 1 for small x.*"
      ],
      "metadata": {
        "id": "6LGulkSLEzrv"
      }
    },
    {
      "cell_type": "markdown",
      "source": [
        "Using Taylor series approximation with a = 0, we find that this comes out to [(-1)^0]*[x^(2*0)] / (1!)\n",
        "\n",
        "It is clear from this that the function approximates to 1 for any value of x.\n",
        "\n",
        "And we can prove that the function sin(x) / x ≈ 1 for small x using NumPy:"
      ],
      "metadata": {
        "id": "z3fhRGh-GVpt"
      }
    },
    {
      "cell_type": "code",
      "source": [
        "import numpy as np\n",
        "\n",
        "sol0_01 = np.sin(0.01) / (0.01)\n",
        "\n",
        "print ('At x = 0.01 :', sol0_01)\n",
        "print ('\\n')\n",
        "\n",
        "sol0_001 = np.sin(0.001) / (0.001)\n",
        "\n",
        "print ('At x = 0.001 :', sol0_001)"
      ],
      "metadata": {
        "colab": {
          "base_uri": "https://localhost:8080/"
        },
        "id": "zQ78ZQ3dGKQ7",
        "outputId": "a39e1feb-6c78-450a-b1e1-a989e61a5ebf"
      },
      "execution_count": null,
      "outputs": [
        {
          "output_type": "stream",
          "name": "stdout",
          "text": [
            "At x = 0.01 : 0.9999833334166665\n",
            "\n",
            "\n",
            "At x = 0.001 : 0.9999998333333416\n"
          ]
        }
      ]
    },
    {
      "cell_type": "markdown",
      "source": [
        "-"
      ],
      "metadata": {
        "id": "24ctt3eHKtvD"
      }
    }
  ]
}