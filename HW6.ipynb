{
  "nbformat": 4,
  "nbformat_minor": 0,
  "metadata": {
    "colab": {
      "name": "HW6.ipynb",
      "provenance": [],
      "collapsed_sections": [],
      "authorship_tag": "ABX9TyMZZRJ2//dQSvesYN4erBGw",
      "include_colab_link": true
    },
    "kernelspec": {
      "name": "python3",
      "display_name": "Python 3"
    },
    "language_info": {
      "name": "python"
    }
  },
  "cells": [
    {
      "cell_type": "markdown",
      "metadata": {
        "id": "view-in-github",
        "colab_type": "text"
      },
      "source": [
        "<a href=\"https://colab.research.google.com/github/hyperkraz/MAT421/blob/main/HW6.ipynb\" target=\"_parent\"><img src=\"https://colab.research.google.com/assets/colab-badge.svg\" alt=\"Open In Colab\"/></a>"
      ]
    },
    {
      "cell_type": "code",
      "execution_count": 123,
      "metadata": {
        "id": "PrPpGfSSENoX"
      },
      "outputs": [],
      "source": [
        ""
      ]
    },
    {
      "cell_type": "markdown",
      "source": [
        "**HW6**\n"
      ],
      "metadata": {
        "id": "Ir9y13USEPi2"
      }
    },
    {
      "cell_type": "markdown",
      "source": [
        "*Use the linear approximation of sin(x) around a = 0 to show that sin(x) / x ≈ 1 for small x.*"
      ],
      "metadata": {
        "id": "6LGulkSLEzrv"
      }
    },
    {
      "cell_type": "markdown",
      "source": [
        "Using Taylor series approximation with a = 0, we find that this comes out to [(-1)^0]*[x^(2*0)] / (1!)\n",
        "\n",
        "It is clear from this that the function approximates to 1 for any value of x.\n",
        "\n",
        "And we can prove that the function sin(x) / x ≈ 1 for small x using NumPy:"
      ],
      "metadata": {
        "id": "z3fhRGh-GVpt"
      }
    },
    {
      "cell_type": "code",
      "source": [
        "import numpy as np\n",
        "\n",
        "sol0_01 = np.sin(0.01) / (0.01)\n",
        "\n",
        "print ('At x = 0.01 :', sol0_01)\n",
        "print ('\\n')\n",
        "\n",
        "sol0_001 = np.sin(0.001) / (0.001)\n",
        "\n",
        "print ('At x = 0.001 :', sol0_001)\n",
        "\n",
        "print(\"\\n\")\n",
        "print(\"\\n\")"
      ],
      "metadata": {
        "colab": {
          "base_uri": "https://localhost:8080/"
        },
        "id": "zQ78ZQ3dGKQ7",
        "outputId": "ad029322-a65f-4133-b85c-b25abd734b08"
      },
      "execution_count": 124,
      "outputs": [
        {
          "output_type": "stream",
          "name": "stdout",
          "text": [
            "At x = 0.01 : 0.9999833334166665\n",
            "\n",
            "\n",
            "At x = 0.001 : 0.9999998333333416\n",
            "\n",
            "\n",
            "\n",
            "\n"
          ]
        }
      ]
    },
    {
      "cell_type": "markdown",
      "source": [
        "*Write the Taylor series expansion for e^(x^2) around a = 0. Write a function my_double_exp(x, n), which computes an approximation of e(x^2) using the first n terms of the Taylor series expansion. Be sure that my_double_exp can take array inputs.*"
      ],
      "metadata": {
        "id": "24ctt3eHKtvD"
      }
    },
    {
      "cell_type": "code",
      "source": [
        "import numpy as np\n",
        "\n",
        "def my_double_exp(x, n):\n",
        "  for j, k in zip(x, n):\n",
        "    e = 0\n",
        "    tmpvariable = j\n",
        "\n",
        "    for eqorder in range(k):\n",
        "      e = e + (tmpvariable)**(2*eqorder) / np.math.factorial(eqorder)\n",
        "    \n",
        "    print(\"Using first\", k, end = \" \")\n",
        "    print(\"term(s) for x =\", j, end = \" \")\n",
        "    print(\"the approximation is\", e)\n",
        "\n",
        "my_double_exp([3, 3, 3, 3], [1, 5, 15, 30])\n"
      ],
      "metadata": {
        "colab": {
          "base_uri": "https://localhost:8080/"
        },
        "id": "bEQs1ggi-UXI",
        "outputId": "e9da2b16-3cd2-41c0-bd20-884cfc85ce08"
      },
      "execution_count": 125,
      "outputs": [
        {
          "output_type": "stream",
          "name": "stdout",
          "text": [
            "Using first 1 term(s) for x = 3 the approximation is 1.0\n",
            "Using first 5 term(s) for x = 3 the approximation is 445.375\n",
            "Using first 15 term(s) for x = 3 the approximation is 7767.078812100289\n",
            "Using first 30 term(s) for x = 3 the approximation is 8103.08370349121\n"
          ]
        }
      ]
    },
    {
      "cell_type": "code",
      "source": [
        "print(\"Actual value of e^(2^2) is: \", np.exp(3**2))\n",
        "\n",
        "print(\"\\n\")\n",
        "print(\"\\n\")"
      ],
      "metadata": {
        "colab": {
          "base_uri": "https://localhost:8080/"
        },
        "id": "UVw5e370SK6o",
        "outputId": "dc4326b0-a323-47b5-ec63-dc404cd5629a"
      },
      "execution_count": 126,
      "outputs": [
        {
          "output_type": "stream",
          "name": "stdout",
          "text": [
            "Actual value of e^(2^2) is:  8103.083927575384\n",
            "\n",
            "\n",
            "\n",
            "\n"
          ]
        }
      ]
    },
    {
      "cell_type": "markdown",
      "source": [
        "*Write a function that gives the Taylor series approximation to the np.exp function around 0 for order 1 through 7. Calculate the truncation error bound for order 7.*"
      ],
      "metadata": {
        "id": "3iTCKH48UwHR"
      }
    },
    {
      "cell_type": "code",
      "source": [
        "import numpy as np\n",
        "\n",
        "x = 3\n",
        "e_2_t = 0\n",
        "\n",
        "for j in range(7):\n",
        "  e_2_t += x**j / math.factorial(j)\n",
        "  print(f\"Using {j+1} term(s) when x is 3 = {e_2_t}\")\n",
        "\n",
        "print(\"\\n\")\n",
        "print(\"The value using Taylor series when x is 3 =\", e_2_t)\n",
        "print(\"\\n\")\n",
        "\n",
        "npe = np.exp(3)\n",
        "\n",
        "print(\"The value using NumPy when x is 3 =\", npe)\n",
        "print(\"\\n\")\n",
        "err = abs(e_2_t - np.exp(3))\n",
        "print(\"The truncation error when x is 3 =\", err)\n",
        "\n",
        "print(\"\\n\")\n",
        "print(\"\\n\")"
      ],
      "metadata": {
        "colab": {
          "base_uri": "https://localhost:8080/"
        },
        "id": "f2eERJ36V4bj",
        "outputId": "17ee498a-fd62-4733-bdb2-393a1acce6ce"
      },
      "execution_count": 127,
      "outputs": [
        {
          "output_type": "stream",
          "name": "stdout",
          "text": [
            "Using 1 term(s) when x is 3 = 1.0\n",
            "Using 2 term(s) when x is 3 = 4.0\n",
            "Using 3 term(s) when x is 3 = 8.5\n",
            "Using 4 term(s) when x is 3 = 13.0\n",
            "Using 5 term(s) when x is 3 = 16.375\n",
            "Using 6 term(s) when x is 3 = 18.4\n",
            "Using 7 term(s) when x is 3 = 19.412499999999998\n",
            "\n",
            "\n",
            "The value using Taylor series when x is 3 = 19.412499999999998\n",
            "\n",
            "\n",
            "The value using NumPy when x is 3 = 20.085536923187668\n",
            "\n",
            "\n",
            "The truncation error when x is 3 = 0.67303692318767\n",
            "\n",
            "\n",
            "\n",
            "\n"
          ]
        }
      ]
    },
    {
      "cell_type": "markdown",
      "source": [
        "*Use the 4th order Taylor series to approximate cos(0.2) and determine the truncation error bound.*"
      ],
      "metadata": {
        "id": "gkvm6ymZpKpW"
      }
    },
    {
      "cell_type": "code",
      "source": [
        "import numpy as np\n",
        "import math\n",
        "\n",
        "def cosf(x, n):\n",
        "  approxcos = 0\n",
        "  \n",
        "  for j in range(n):\n",
        "    co = (-1)**j\n",
        "    number = x**(2*j)\n",
        "\n",
        "    d = math.factorial(2*j)\n",
        "    approxcos += (co) * (number / d)\n",
        "  \n",
        "  return approxcos\n",
        "\n",
        "appcos = cosf(0.2, 4)\n",
        "print(\"The approximated value is:\", appcos)\n",
        "\n",
        "print(\"\\n\")\n",
        "\n",
        "npcos = np.cos(0.2)\n",
        "print(\"The value calculated through NumPy is:\", npcos)\n",
        "\n",
        "print(\"\\n\")\n",
        "\n",
        "print(\"The truncation error bound =\", abs(appcos - npcos))\n",
        "\n",
        "print(\"\\n\")"
      ],
      "metadata": {
        "colab": {
          "base_uri": "https://localhost:8080/"
        },
        "id": "-BC5F0LLpQ3H",
        "outputId": "56c22bc2-da7e-4a2b-cd12-9149ba245b14"
      },
      "execution_count": 128,
      "outputs": [
        {
          "output_type": "stream",
          "name": "stdout",
          "text": [
            "The approximated value is: 0.9800665777777777\n",
            "\n",
            "\n",
            "The value calculated through NumPy is: 0.9800665778412416\n",
            "\n",
            "\n",
            "The truncation error bound = 6.346390080125275e-11\n",
            "\n",
            "\n"
          ]
        }
      ]
    }
  ]
}