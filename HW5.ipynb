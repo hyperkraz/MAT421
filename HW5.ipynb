{
  "nbformat": 4,
  "nbformat_minor": 0,
  "metadata": {
    "colab": {
      "name": "HW5.ipynb",
      "provenance": [],
      "collapsed_sections": [],
      "authorship_tag": "ABX9TyOHxC7WoeP78T2FlrQhm4MF",
      "include_colab_link": true
    },
    "kernelspec": {
      "name": "python3",
      "display_name": "Python 3"
    },
    "language_info": {
      "name": "python"
    }
  },
  "cells": [
    {
      "cell_type": "markdown",
      "metadata": {
        "id": "view-in-github",
        "colab_type": "text"
      },
      "source": [
        "<a href=\"https://colab.research.google.com/github/hyperkraz/MAT421/blob/main/HW5.ipynb\" target=\"_parent\"><img src=\"https://colab.research.google.com/assets/colab-badge.svg\" alt=\"Open In Colab\"/></a>"
      ]
    },
    {
      "cell_type": "code",
      "execution_count": 18,
      "metadata": {
        "id": "ieBYI4DpY8YX"
      },
      "outputs": [],
      "source": [
        ""
      ]
    },
    {
      "cell_type": "markdown",
      "source": [
        "**HW5**"
      ],
      "metadata": {
        "id": "-Omyiz11Y_uT"
      }
    },
    {
      "cell_type": "markdown",
      "source": [
        "***Gram-Schmidt and QR Decomposition***"
      ],
      "metadata": {
        "id": "rOUnO28NZB8j"
      }
    },
    {
      "cell_type": "markdown",
      "source": [
        "First we take a look at NumPy's built-in QR Decomposition function:"
      ],
      "metadata": {
        "id": "BosWpl9qZqhm"
      }
    },
    {
      "cell_type": "code",
      "source": [
        "import numpy as np\n",
        "\n",
        "arr = np.array([[5, 11, -15], [12, 34, -51], [-24, -43, 92]], dtype=np.int32)\n",
        "array = np.array([[5, 11, -15], [12, 34, -51], [-24, -43, 92]], dtype=np.int32)"
      ],
      "metadata": {
        "id": "t3WA-TzdkcMF"
      },
      "execution_count": 19,
      "outputs": []
    },
    {
      "cell_type": "code",
      "source": [
        "q, r = np.linalg.qr(arr)\n",
        "\n",
        "print('\\nQ: \\n', q)\n",
        "print('\\nR: \\n', r)\n",
        "\n",
        "print ('\\n')\n",
        "\n",
        "print ('Q * R: ')\n",
        "\n",
        "print (np.dot(q, r))"
      ],
      "metadata": {
        "colab": {
          "base_uri": "https://localhost:8080/"
        },
        "id": "Gy2At9sNbNae",
        "outputId": "fc094d44-6cd4-4bb6-f218-c3eb60473394"
      },
      "execution_count": 20,
      "outputs": [
        {
          "output_type": "stream",
          "name": "stdout",
          "text": [
            "\n",
            "Q: \n",
            " [[-0.18318583 -0.08610905  0.97929984]\n",
            " [-0.43964598 -0.88381371 -0.15995231]\n",
            " [ 0.87929197 -0.45984624  0.12404465]]\n",
            "\n",
            "R: \n",
            " [[-27.29468813 -54.77256208 106.06459346]\n",
            " [  0.         -11.22347731   4.06028083]\n",
            " [  0.           0.           4.88017756]]\n",
            "\n",
            "\n",
            "Q * R: \n",
            "[[  5.  11. -15.]\n",
            " [ 12.  34. -51.]\n",
            " [-24. -43.  92.]]\n"
          ]
        }
      ]
    },
    {
      "cell_type": "markdown",
      "source": [
        "As it can be seen, the built-in function works very well as we can then take the product of both the orthogonal matrix Q and the upper triangular matrix R and it will result in the original matrix.\n",
        "\n",
        "Now we can take a look at a custom function that attempts to do the same:"
      ],
      "metadata": {
        "id": "8yI5ehw-oLyB"
      }
    },
    {
      "cell_type": "code",
      "source": [
        "def GrammyS(A):\n",
        "    \n",
        "    Q = np.zeros(A.shape)\n",
        "\n",
        "    R = np.zeros((A.shape[1], A.shape[1]))\n",
        "    \n",
        "    \n",
        "    for i in range(0, A.shape[1]):\n",
        "\n",
        "        R[i, i] = np.sqrt(np.dot(A[:, i], A[:, i]))\n",
        "        Q[:, i] = A[:, i] / R[i, i]\n",
        "        \n",
        "        for j in range(i+1, A.shape[1]):\n",
        "            \n",
        "            R[i, j] = np.dot(Q[:, i], A[:, j])\n",
        "            A[:, j] = A[:, j] - R[i, j] * Q[:, i]\n",
        "    \n",
        "    return Q, R\n"
      ],
      "metadata": {
        "id": "9HfcFWt3ai4P"
      },
      "execution_count": 21,
      "outputs": []
    },
    {
      "cell_type": "code",
      "source": [
        "Q, R = GrammyS(array)\n",
        "\n",
        "print('\\nQ: \\n', Q)\n",
        "print('\\nR: \\n', R)\n",
        "\n",
        "print ('\\n')\n",
        "\n",
        "print ('Q * R: ')\n",
        "\n",
        "print (np.dot(Q, R))\n"
      ],
      "metadata": {
        "colab": {
          "base_uri": "https://localhost:8080/"
        },
        "id": "KQvSWCX0ayPO",
        "outputId": "431ef3ef-b31e-4836-d301-3b68172d012b"
      },
      "execution_count": 22,
      "outputs": [
        {
          "output_type": "stream",
          "name": "stdout",
          "text": [
            "\n",
            "Q: \n",
            " [[ 0.18318583  0.          1.        ]\n",
            " [ 0.43964598  0.87415728  0.        ]\n",
            " [-0.87929197  0.48564293  0.        ]]\n",
            "\n",
            "R: \n",
            " [[  27.29468813   54.77256208 -106.06459346]\n",
            " [   0.           10.29563014   -3.98227204]\n",
            " [   0.            0.            4.        ]]\n",
            "\n",
            "\n",
            "Q * R: \n",
            "[[  5.          10.03355705 -15.4295302 ]\n",
            " [ 12.          33.08053691 -50.11200456]\n",
            " [-24.         -43.16107383  91.3277827 ]]\n"
          ]
        }
      ]
    },
    {
      "cell_type": "markdown",
      "source": [
        "The above function is similar except it results in reversed poisitive and negative signs for some of the values in matrices Q and R. Once the product of Q and R is calculated, however, the result is very close to the original matrix.\n",
        "\n",
        "Now we can show another custom function that attempts the QR Decomposition except done in a different way (note the use of linalg.norm from NumPy in order to normalize):"
      ],
      "metadata": {
        "id": "vvLIB5ROr-QI"
      }
    },
    {
      "cell_type": "code",
      "source": [
        "def QR_fact(A):\n",
        "  \n",
        "    m, n = A.shape\n",
        "    \n",
        "    R = np.zeros((n, n))\n",
        "    Q = np.zeros((m, n))\n",
        "    \n",
        "\n",
        "    for j in range(n):\n",
        "\n",
        "        x = A[:, j]\n",
        "\n",
        "        for i in range(j - 1):\n",
        "            \n",
        "            q = Q[:, i]\n",
        "            \n",
        "            R[i, j] = q.dot(x)\n",
        "            \n",
        "            x = x - R[i, j] * q\n",
        "\n",
        "        length = np.linalg.norm(x)\n",
        "        \n",
        "        R[j, j] = length\n",
        "        Q[:, j] = x / length\n",
        "        \n",
        "\n",
        "    return Q, R\n",
        "\n",
        "QR_fact(arr)\n",
        "\n",
        "Q2, R2 = QR_fact(arr)\n",
        "\n",
        "print('\\nQ: \\n', Q2)\n",
        "print('\\nR: \\n', R2)\n",
        "\n",
        "print ('\\n')\n",
        "\n",
        "print ('Q * R: ')\n",
        "\n",
        "print (np.dot(Q2, R2))"
      ],
      "metadata": {
        "colab": {
          "base_uri": "https://localhost:8080/"
        },
        "id": "HI-L3skDhMNG",
        "outputId": "f3891747-15d7-45e9-b667-aaaf03eae768"
      },
      "execution_count": 23,
      "outputs": [
        {
          "output_type": "stream",
          "name": "stdout",
          "text": [
            "\n",
            "Q: \n",
            " [[ 0.18318583  0.19674251  0.69774108]\n",
            " [ 0.43964598  0.6081132  -0.68822643]\n",
            " [-0.87929197 -0.76908434 -0.19875049]]\n",
            "\n",
            "R: \n",
            " [[  27.29468813    0.         -106.06459346]\n",
            " [   0.           55.91064299    0.        ]\n",
            " [   0.            0.            6.34838668]]\n",
            "\n",
            "\n",
            "Q * R: \n",
            "[[  5.  11. -15.]\n",
            " [ 12.  34. -51.]\n",
            " [-24. -43.  92.]]\n"
          ]
        }
      ]
    },
    {
      "cell_type": "markdown",
      "source": [
        "It can be observed that both the orthogonal matrix Q and the upper triangular matrix R are vastly different from the ones computed by NumPy's built-in QR Decomposition function. But, the product of Q and R here produce the exact same matrix as the one that we started out with."
      ],
      "metadata": {
        "id": "AAMgqyFs5T0e"
      }
    },
    {
      "cell_type": "code",
      "source": [
        ""
      ],
      "metadata": {
        "id": "vwQ6z92wvLUM"
      },
      "execution_count": 23,
      "outputs": []
    },
    {
      "cell_type": "markdown",
      "source": [
        "***Eigenvalues and Eigenvectors***"
      ],
      "metadata": {
        "id": "2Wrh9Hhs7qn3"
      }
    },
    {
      "cell_type": "markdown",
      "source": [
        "As shown above, we can make use of NumPy's built-in functions to calculate many things.\n",
        "\n",
        "Another example of this is NumPy's built-in linalg.eig function that can be used to calculate eigenvectors and the corresponding eigenvalues:\n"
      ],
      "metadata": {
        "id": "XtFpdU9P712S"
      }
    },
    {
      "cell_type": "code",
      "source": [
        "somearray = np.array([[1, 2, 3], \n",
        "              [4, 5, 6],\n",
        "              [7, 8, 9]])\n",
        "\n",
        "l, x = np.linalg.eig(somearray)\n",
        "\n",
        "print('Eigenvalue: ', l)\n",
        "print('\\nEigenvector: ', x)\n",
        "\n",
        "print ('\\n\\nA * x: ')\n",
        "\n",
        "print (np.dot(somearray, x))\n",
        "\n",
        "print ('\\nλ * x: ')\n",
        "\n",
        "print (np.multiply(l, x))"
      ],
      "metadata": {
        "colab": {
          "base_uri": "https://localhost:8080/"
        },
        "id": "pE3S64wW70Px",
        "outputId": "62ef6dac-b45a-406d-f04d-2bd36eea869d"
      },
      "execution_count": 24,
      "outputs": [
        {
          "output_type": "stream",
          "name": "stdout",
          "text": [
            "Eigenvalue:  [ 1.61168440e+01 -1.11684397e+00 -9.75918483e-16]\n",
            "\n",
            "Eigenvector:  [[-0.23197069 -0.78583024  0.40824829]\n",
            " [-0.52532209 -0.08675134 -0.81649658]\n",
            " [-0.8186735   0.61232756  0.40824829]]\n",
            "\n",
            "\n",
            "A * x: \n",
            "[[-3.73863537e+00  8.77649763e-01 -3.88578059e-16]\n",
            " [-8.46653421e+00  9.68877101e-02 -7.77156117e-16]\n",
            " [-1.31944331e+01 -6.83874343e-01 -7.21644966e-16]]\n",
            "\n",
            "λ * x: \n",
            "[[-3.73863537e+00  8.77649763e-01 -3.98417052e-16]\n",
            " [-8.46653421e+00  9.68877101e-02  7.96834105e-16]\n",
            " [-1.31944331e+01 -6.83874343e-01 -3.98417052e-16]]\n"
          ]
        }
      ]
    },
    {
      "cell_type": "markdown",
      "source": [
        "As demonstrated above, we can compute the dot product of the resulting eigenvector and the original matrix and compare it to the product of the eigenvalue (lambda) and the eigenvector and see that the result is the same."
      ],
      "metadata": {
        "id": "Z_CjrLC__KCV"
      }
    },
    {
      "cell_type": "code",
      "source": [
        ""
      ],
      "metadata": {
        "id": "8FoNAVEN84Sr"
      },
      "execution_count": 24,
      "outputs": []
    }
  ]
}