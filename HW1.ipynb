{
  "nbformat": 4,
  "nbformat_minor": 0,
  "metadata": {
    "colab": {
      "name": "HW1.ipynb",
      "provenance": [],
      "collapsed_sections": [],
      "toc_visible": true,
      "authorship_tag": "ABX9TyM7HUu3SYDjpEnhh3dFxikn",
      "include_colab_link": true
    },
    "kernelspec": {
      "name": "python3",
      "display_name": "Python 3"
    },
    "language_info": {
      "name": "python"
    }
  },
  "cells": [
    {
      "cell_type": "markdown",
      "metadata": {
        "id": "view-in-github",
        "colab_type": "text"
      },
      "source": [
        "<a href=\"https://colab.research.google.com/github/hyperkraz/MAT421/blob/main/HW1.ipynb\" target=\"_parent\"><img src=\"https://colab.research.google.com/assets/colab-badge.svg\" alt=\"Open In Colab\"/></a>"
      ]
    },
    {
      "cell_type": "code",
      "execution_count": null,
      "metadata": {
        "id": "XE5ine_hBXbM"
      },
      "outputs": [],
      "source": [
        ""
      ]
    },
    {
      "cell_type": "markdown",
      "source": [
        "**HW 1**"
      ],
      "metadata": {
        "id": "LivI7fJ6zJR9"
      }
    },
    {
      "cell_type": "markdown",
      "source": [
        "***Problem 1***"
      ],
      "metadata": {
        "id": "DGMwZGKwzUTO"
      }
    },
    {
      "cell_type": "code",
      "source": [
        "def my_bin_2_dec(b):\n",
        "  d = 0  # Begin with d equaling 0\n",
        "  for i in b: # From left to right, take the digit in b\n",
        "    d = 2*d + i # Take the existing d and multiply by 2 and then add the digit\n",
        "\n",
        "  return d # Output the decimal number, d"
      ],
      "metadata": {
        "id": "9fGisfO_zTao"
      },
      "execution_count": 42,
      "outputs": []
    },
    {
      "cell_type": "code",
      "source": [
        "my_bin_2_dec([1,1,1])\n"
      ],
      "metadata": {
        "colab": {
          "base_uri": "https://localhost:8080/"
        },
        "id": "qJCgvVSI3-uN",
        "outputId": "850682b6-2dc5-4186-cc87-f5ade1a62bf6"
      },
      "execution_count": 43,
      "outputs": [
        {
          "output_type": "execute_result",
          "data": {
            "text/plain": [
              "7"
            ]
          },
          "metadata": {},
          "execution_count": 43
        }
      ]
    },
    {
      "cell_type": "code",
      "source": [
        "my_bin_2_dec([1,0,1,0,1,0,1])"
      ],
      "metadata": {
        "colab": {
          "base_uri": "https://localhost:8080/"
        },
        "id": "vkgAhtpN4E5a",
        "outputId": "caada187-89e3-4e85-bced-36d41985c0e7"
      },
      "execution_count": 44,
      "outputs": [
        {
          "output_type": "execute_result",
          "data": {
            "text/plain": [
              "85"
            ]
          },
          "metadata": {},
          "execution_count": 44
        }
      ]
    },
    {
      "cell_type": "code",
      "source": [
        "my_bin_2_dec([1]*25)"
      ],
      "metadata": {
        "colab": {
          "base_uri": "https://localhost:8080/"
        },
        "id": "BmFnnBfH8GXK",
        "outputId": "232567e2-63b4-45b6-d643-bad3145473f7"
      },
      "execution_count": 45,
      "outputs": [
        {
          "output_type": "execute_result",
          "data": {
            "text/plain": [
              "33554431"
            ]
          },
          "metadata": {},
          "execution_count": 45
        }
      ]
    },
    {
      "cell_type": "code",
      "source": [
        ""
      ],
      "metadata": {
        "id": "yUBJfnao8NhM"
      },
      "execution_count": null,
      "outputs": []
    },
    {
      "cell_type": "markdown",
      "source": [
        "***Problem 2***"
      ],
      "metadata": {
        "id": "sRhSAdb98VP4"
      }
    },
    {
      "cell_type": "code",
      "source": [
        "def my_dec_2_bin(d):\n",
        "  b = [] # Make an empty list\n",
        "  if d == 0: # If decimal input is 0,\n",
        "    b.append(0) # then have leading term be 0\n",
        "\n",
        "  while d >= 1: # When d is not zero,\n",
        "    b.append(d%2) # Divide d by 2 to get a remainder and add any remainder to the list\n",
        "    d = d//2 # Now simply divide d by 2 but ignore the remainder and set the whole number to d\n",
        "  \n",
        "  # Now we have the correct list but in the incorrect order\n",
        "  \n",
        "  b.reverse() # Reverse the list of ones and zeros\n",
        "\n",
        "  return b # Output the list of ones and zeros, b\n"
      ],
      "metadata": {
        "id": "igT0WrlT8a7_"
      },
      "execution_count": 46,
      "outputs": []
    },
    {
      "cell_type": "code",
      "source": [
        "my_dec_2_bin(0)"
      ],
      "metadata": {
        "colab": {
          "base_uri": "https://localhost:8080/"
        },
        "id": "-C4FSpYAAJ5B",
        "outputId": "17ff5d4a-8508-427a-a02d-82b5f4305cd9"
      },
      "execution_count": 47,
      "outputs": [
        {
          "output_type": "execute_result",
          "data": {
            "text/plain": [
              "[0]"
            ]
          },
          "metadata": {},
          "execution_count": 47
        }
      ]
    },
    {
      "cell_type": "code",
      "source": [
        "my_dec_2_bin(23)"
      ],
      "metadata": {
        "colab": {
          "base_uri": "https://localhost:8080/"
        },
        "id": "YE9f2AR3AN0f",
        "outputId": "4d689169-5144-4800-b000-efaa99be0f55"
      },
      "execution_count": 48,
      "outputs": [
        {
          "output_type": "execute_result",
          "data": {
            "text/plain": [
              "[1, 0, 1, 1, 1]"
            ]
          },
          "metadata": {},
          "execution_count": 48
        }
      ]
    },
    {
      "cell_type": "code",
      "source": [
        "my_dec_2_bin(2097)"
      ],
      "metadata": {
        "colab": {
          "base_uri": "https://localhost:8080/"
        },
        "id": "SXjn3IJHASm6",
        "outputId": "34a4da2c-629f-4bae-e218-8170a6cd29aa"
      },
      "execution_count": 49,
      "outputs": [
        {
          "output_type": "execute_result",
          "data": {
            "text/plain": [
              "[1, 0, 0, 0, 0, 0, 1, 1, 0, 0, 0, 1]"
            ]
          },
          "metadata": {},
          "execution_count": 49
        }
      ]
    },
    {
      "cell_type": "code",
      "source": [
        ""
      ],
      "metadata": {
        "id": "Vb1S2F1_AXpz"
      },
      "execution_count": null,
      "outputs": []
    }
  ]
}