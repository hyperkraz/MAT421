{
  "nbformat": 4,
  "nbformat_minor": 0,
  "metadata": {
    "colab": {
      "name": "HW1.ipynb",
      "provenance": [],
      "collapsed_sections": [],
      "toc_visible": true,
      "authorship_tag": "ABX9TyNbi94VAbUkIOd8KRO0Ciw4",
      "include_colab_link": true
    },
    "kernelspec": {
      "name": "python3",
      "display_name": "Python 3"
    },
    "language_info": {
      "name": "python"
    }
  },
  "cells": [
    {
      "cell_type": "markdown",
      "metadata": {
        "id": "view-in-github",
        "colab_type": "text"
      },
      "source": [
        "<a href=\"https://colab.research.google.com/github/hyperkraz/MAT421/blob/main/HW1.ipynb\" target=\"_parent\"><img src=\"https://colab.research.google.com/assets/colab-badge.svg\" alt=\"Open In Colab\"/></a>"
      ]
    },
    {
      "cell_type": "code",
      "execution_count": null,
      "metadata": {
        "id": "XE5ine_hBXbM"
      },
      "outputs": [],
      "source": [
        ""
      ]
    },
    {
      "cell_type": "markdown",
      "source": [
        "**HW 1**"
      ],
      "metadata": {
        "id": "LivI7fJ6zJR9"
      }
    },
    {
      "cell_type": "markdown",
      "source": [
        "***Problem 1***"
      ],
      "metadata": {
        "id": "DGMwZGKwzUTO"
      }
    },
    {
      "cell_type": "code",
      "source": [
        "def my_bin_2_dec(b):\n",
        "  d = 0  # Begin with d equaling 0\n",
        "  for i in b: # From left to right, take the digit in b\n",
        "    d = 2*d + i # Take the existing d and multiply by 2 and then add the digit\n",
        "\n",
        "  return d # Output the decimal number, d"
      ],
      "metadata": {
        "id": "9fGisfO_zTao"
      },
      "execution_count": null,
      "outputs": []
    },
    {
      "cell_type": "code",
      "source": [
        "my_bin_2_dec([1,1,1])\n"
      ],
      "metadata": {
        "colab": {
          "base_uri": "https://localhost:8080/"
        },
        "id": "qJCgvVSI3-uN",
        "outputId": "850682b6-2dc5-4186-cc87-f5ade1a62bf6"
      },
      "execution_count": null,
      "outputs": [
        {
          "output_type": "execute_result",
          "data": {
            "text/plain": [
              "7"
            ]
          },
          "metadata": {},
          "execution_count": 43
        }
      ]
    },
    {
      "cell_type": "code",
      "source": [
        "my_bin_2_dec([1,0,1,0,1,0,1])"
      ],
      "metadata": {
        "colab": {
          "base_uri": "https://localhost:8080/"
        },
        "id": "vkgAhtpN4E5a",
        "outputId": "caada187-89e3-4e85-bced-36d41985c0e7"
      },
      "execution_count": null,
      "outputs": [
        {
          "output_type": "execute_result",
          "data": {
            "text/plain": [
              "85"
            ]
          },
          "metadata": {},
          "execution_count": 44
        }
      ]
    },
    {
      "cell_type": "code",
      "source": [
        "my_bin_2_dec([1]*25)"
      ],
      "metadata": {
        "colab": {
          "base_uri": "https://localhost:8080/"
        },
        "id": "BmFnnBfH8GXK",
        "outputId": "232567e2-63b4-45b6-d643-bad3145473f7"
      },
      "execution_count": null,
      "outputs": [
        {
          "output_type": "execute_result",
          "data": {
            "text/plain": [
              "33554431"
            ]
          },
          "metadata": {},
          "execution_count": 45
        }
      ]
    },
    {
      "cell_type": "code",
      "source": [
        ""
      ],
      "metadata": {
        "id": "yUBJfnao8NhM"
      },
      "execution_count": null,
      "outputs": []
    },
    {
      "cell_type": "markdown",
      "source": [
        "***Problem 2***"
      ],
      "metadata": {
        "id": "sRhSAdb98VP4"
      }
    },
    {
      "cell_type": "code",
      "source": [
        "def my_dec_2_bin(d):\n",
        "  b = [] # Make an empty list\n",
        "  if d == 0: # If decimal input is 0,\n",
        "    b.append(0) # then have leading term be 0\n",
        "\n",
        "  while d >= 1: # When d is not zero,\n",
        "    b.append(d%2) # Divide d by 2 to get a remainder and add any remainder to the list\n",
        "    d = d//2 # Now simply divide d by 2 but ignore the remainder and set the whole number to d\n",
        "  \n",
        "  # Now we have the correct list but in the incorrect order\n",
        "  \n",
        "  b.reverse() # Reverse the list of ones and zeros\n",
        "\n",
        "  return b # Output the list of ones and zeros, b\n"
      ],
      "metadata": {
        "id": "igT0WrlT8a7_"
      },
      "execution_count": null,
      "outputs": []
    },
    {
      "cell_type": "code",
      "source": [
        "my_dec_2_bin(0)"
      ],
      "metadata": {
        "colab": {
          "base_uri": "https://localhost:8080/"
        },
        "id": "-C4FSpYAAJ5B",
        "outputId": "17ff5d4a-8508-427a-a02d-82b5f4305cd9"
      },
      "execution_count": null,
      "outputs": [
        {
          "output_type": "execute_result",
          "data": {
            "text/plain": [
              "[0]"
            ]
          },
          "metadata": {},
          "execution_count": 47
        }
      ]
    },
    {
      "cell_type": "code",
      "source": [
        "my_dec_2_bin(23)"
      ],
      "metadata": {
        "colab": {
          "base_uri": "https://localhost:8080/"
        },
        "id": "YE9f2AR3AN0f",
        "outputId": "4d689169-5144-4800-b000-efaa99be0f55"
      },
      "execution_count": null,
      "outputs": [
        {
          "output_type": "execute_result",
          "data": {
            "text/plain": [
              "[1, 0, 1, 1, 1]"
            ]
          },
          "metadata": {},
          "execution_count": 48
        }
      ]
    },
    {
      "cell_type": "code",
      "source": [
        "my_dec_2_bin(2097)"
      ],
      "metadata": {
        "colab": {
          "base_uri": "https://localhost:8080/"
        },
        "id": "SXjn3IJHASm6",
        "outputId": "34a4da2c-629f-4bae-e218-8170a6cd29aa"
      },
      "execution_count": null,
      "outputs": [
        {
          "output_type": "execute_result",
          "data": {
            "text/plain": [
              "[1, 0, 0, 0, 0, 0, 1, 1, 0, 0, 0, 1]"
            ]
          },
          "metadata": {},
          "execution_count": 49
        }
      ]
    },
    {
      "cell_type": "code",
      "source": [
        ""
      ],
      "metadata": {
        "id": "Vb1S2F1_AXpz"
      },
      "execution_count": null,
      "outputs": []
    },
    {
      "cell_type": "markdown",
      "source": [
        "***Problem 3***"
      ],
      "metadata": {
        "id": "SB9J5CAlBcYS"
      }
    },
    {
      "cell_type": "code",
      "source": [
        "d = my_bin_2_dec(my_dec_2_bin(12654))\n",
        "d"
      ],
      "metadata": {
        "colab": {
          "base_uri": "https://localhost:8080/"
        },
        "id": "4Pd8nDo0BfWU",
        "outputId": "87c30787-dc6c-4667-89d6-87bd5cb75201"
      },
      "execution_count": null,
      "outputs": [
        {
          "output_type": "execute_result",
          "data": {
            "text/plain": [
              "12654"
            ]
          },
          "metadata": {},
          "execution_count": 52
        }
      ]
    },
    {
      "cell_type": "markdown",
      "source": [
        "Yes, this is the same number."
      ],
      "metadata": {
        "id": "C9E5-RmQBzK9"
      }
    },
    {
      "cell_type": "code",
      "source": [
        ""
      ],
      "metadata": {
        "id": "zxLn83HBBrD6"
      },
      "execution_count": null,
      "outputs": []
    },
    {
      "cell_type": "markdown",
      "source": [
        "***Problem 4***"
      ],
      "metadata": {
        "id": "Ivh32ELBCgol"
      }
    },
    {
      "cell_type": "code",
      "source": [
        "def my_bin_adder(b1, b2):\n",
        "  b = [] # Create an empty list, b\n",
        "  \n",
        "  length = max(len(b1), len(b2)) # Set the length to the maximum of the two lengths of the two lists\n",
        "\n",
        "  b2 = ((length - len(b2))*[0]) + b2\n",
        "  b1 = ((length - len(b1))*[0]) + b1\n",
        "\n",
        "  # ^-- Make the two lists the same length by adding zeros at the beginning\n",
        "\n",
        "  extra = 0\n",
        "\n",
        "  for i in range(length-1, -1, -1):\n",
        "    sum = b2[i] + b1[i] + extra\n",
        "    digit = 0 if sum % 2 == 0 else 1 # Create a binary digit of either zero or one\n",
        "\n",
        "    b.append(digit) # Add this digit to list b\n",
        "    extra = 1 if sum >= 2 else 0 # Assign the extra digit as 1 if the sum was indeed greater than or equal to 2\n",
        "\n",
        "  if extra == 1:\n",
        "    b.append(1) # Add the extra digit to the beginning of list b\n",
        "\n",
        "  # Now we have the correct list but in the incorrect order, so reverse it\n",
        "  b.reverse()\n",
        "  return b\n",
        "\n",
        "\n",
        "  \n",
        "\n"
      ],
      "metadata": {
        "id": "8Oo853xjCm9Z"
      },
      "execution_count": null,
      "outputs": []
    },
    {
      "cell_type": "code",
      "source": [
        "my_bin_adder([1, 1, 1, 1, 1], [1])"
      ],
      "metadata": {
        "colab": {
          "base_uri": "https://localhost:8080/"
        },
        "id": "O0ME23PgTbwC",
        "outputId": "85c11ce7-23e2-4d69-ae3c-d02412e19f6c"
      },
      "execution_count": null,
      "outputs": [
        {
          "output_type": "execute_result",
          "data": {
            "text/plain": [
              "[1, 0, 0, 0, 0, 0]"
            ]
          },
          "metadata": {},
          "execution_count": 58
        }
      ]
    },
    {
      "cell_type": "code",
      "source": [
        "my_bin_adder([1, 1, 1, 1, 1], [1, 0, 1, 0, 1, 0, 0])"
      ],
      "metadata": {
        "colab": {
          "base_uri": "https://localhost:8080/"
        },
        "id": "IMK6s5ooTscr",
        "outputId": "87a6b843-e7e4-4e88-bbdb-3f573061d6ed"
      },
      "execution_count": null,
      "outputs": [
        {
          "output_type": "execute_result",
          "data": {
            "text/plain": [
              "[1, 1, 1, 0, 0, 1, 1]"
            ]
          },
          "metadata": {},
          "execution_count": 59
        }
      ]
    },
    {
      "cell_type": "code",
      "source": [
        "my_bin_adder([1, 1, 0], [1, 0, 1])"
      ],
      "metadata": {
        "colab": {
          "base_uri": "https://localhost:8080/"
        },
        "id": "5lBzSJSNT_cp",
        "outputId": "68820b01-e73f-4aa6-b892-2d83388ea1c7"
      },
      "execution_count": null,
      "outputs": [
        {
          "output_type": "execute_result",
          "data": {
            "text/plain": [
              "[1, 0, 1, 1]"
            ]
          },
          "metadata": {},
          "execution_count": 60
        }
      ]
    },
    {
      "cell_type": "code",
      "source": [
        ""
      ],
      "metadata": {
        "id": "SQrqWrI1UEL7"
      },
      "execution_count": null,
      "outputs": []
    },
    {
      "cell_type": "markdown",
      "source": [
        "***Problem 5***"
      ],
      "metadata": {
        "id": "MlQp8p4qUHeK"
      }
    },
    {
      "cell_type": "markdown",
      "source": [
        "If more bits are allocated to the fraction, there will be more precision but the range of values will decrease since less bits will be available for the exponent and the characteristic part of the IEEE754 number will have a smaller maximum and a larger minimum.\n",
        "\n",
        "If more bits are allocated to the exponent, the characteristic part of the IEEE754 number will be able to take on a larger range of values making the IEEE754 number able to take on a larger range of values, but with less precision as the fraction part of the IEEE754 number will then have less bits allocated to it.\n",
        "\n",
        "\n",
        "\n",
        "Only one bit is needed for the sign since there are only two options available: positive or negative. Allocating more bits to the sign would be a waste of bits and serve no purpose."
      ],
      "metadata": {
        "id": "BZkTcPj9Vmz5"
      }
    },
    {
      "cell_type": "code",
      "source": [
        ""
      ],
      "metadata": {
        "id": "eqIZx3z0UQAc"
      },
      "execution_count": null,
      "outputs": []
    },
    {
      "cell_type": "markdown",
      "source": [
        "***Problem 6***"
      ],
      "metadata": {
        "id": "T6qJakCvYBC8"
      }
    },
    {
      "cell_type": "code",
      "source": [
        "def my_ieee_2_dec(x):\n",
        "  f = 0 # Create variable for fraction\n",
        "  e = 0 # Create variable for exponent\n",
        "  s = x[0] # s is equal to the first bit\n",
        "\n",
        "  k = len(range(0, 10)) # The powers required for converting 11 binary bits to base10\n",
        "\n",
        "  for i in range(1, 12):\n",
        "    e += int(x[i])*2**k\n",
        "    k -= 1\n",
        "  \n",
        "  e = e - 1023\n",
        "\n",
        "  k = 1\n",
        "  for j in range(12, 53):\n",
        "    f += int(x[j])*.5**k\n",
        "    k += 1\n",
        "\n",
        "  d = (-1)**int(s)*2**e*(1 + f)\n",
        "  \n",
        "  return d\n",
        "\n"
      ],
      "metadata": {
        "id": "x7IV9FNcypQP"
      },
      "execution_count": null,
      "outputs": []
    },
    {
      "cell_type": "code",
      "source": [
        "ieee = '1100000001001000000000000000000000000000000000000000000000000000'\n",
        "my_ieee_2_dec(ieee)"
      ],
      "metadata": {
        "colab": {
          "base_uri": "https://localhost:8080/"
        },
        "id": "jxlkZJZLzPkp",
        "outputId": "aaa35383-2f6d-4b5e-80cb-ba2fca41f731"
      },
      "execution_count": null,
      "outputs": [
        {
          "output_type": "execute_result",
          "data": {
            "text/plain": [
              "-48.0"
            ]
          },
          "metadata": {},
          "execution_count": 41
        }
      ]
    },
    {
      "cell_type": "code",
      "source": [
        "ieee = '0100000000001011001100110011001100110011001100110011001100110011'\n",
        "my_ieee_2_dec(ieee)"
      ],
      "metadata": {
        "colab": {
          "base_uri": "https://localhost:8080/"
        },
        "id": "xBycomNlEe3Q",
        "outputId": "976deefb-f622-4cce-c48d-db6593688d67"
      },
      "execution_count": null,
      "outputs": [
        {
          "output_type": "execute_result",
          "data": {
            "text/plain": [
              "3.399999999999636"
            ]
          },
          "metadata": {},
          "execution_count": 42
        }
      ]
    },
    {
      "cell_type": "code",
      "source": [
        ""
      ],
      "metadata": {
        "id": "FKDOpmG1Eh-R"
      },
      "execution_count": null,
      "outputs": []
    },
    {
      "cell_type": "markdown",
      "source": [
        "***Problem 9***"
      ],
      "metadata": {
        "id": "yd-MwJogyrEk"
      }
    },
    {
      "cell_type": "code",
      "source": [
        "import numpy as np\n",
        "\n",
        "np.spacing(1)\n"
      ],
      "metadata": {
        "colab": {
          "base_uri": "https://localhost:8080/"
        },
        "id": "R3qpezAsyvct",
        "outputId": "31d85b55-5650-4ce2-dca1-9432596991d5"
      },
      "execution_count": 7,
      "outputs": [
        {
          "output_type": "execute_result",
          "data": {
            "text/plain": [
              "2.220446049250313e-16"
            ]
          },
          "metadata": {},
          "execution_count": 7
        }
      ]
    },
    {
      "cell_type": "code",
      "source": [
        ""
      ],
      "metadata": {
        "id": "zzeij7nV1fq_"
      },
      "execution_count": null,
      "outputs": []
    },
    {
      "cell_type": "markdown",
      "source": [
        "***Problem 10***"
      ],
      "metadata": {
        "id": "JfujzIcC11SR"
      }
    },
    {
      "cell_type": "markdown",
      "source": [
        "*Advantages of Binary:*\n",
        ">  Components (as well as electrons) inside electronic devices are either off or on and everything operates from those two states. Binary is a good way of representing this and thus computers more readily understand binary.\n",
        "\n",
        "\n",
        ">  Using binary then makes it easier for the computer to understand the command or statement as it does not need to make any conversion or interpretation.\n",
        "\n",
        "\n",
        "*Disadvantages of Binary:*\n",
        "\n",
        ">  Humans do not understand binary as readily—as such it is not as practical to do basic arithmetic with binary.\n",
        "  \n",
        ">  Binary form takes up a lot of screen space. Also, a simple typo can drastically change the value and meaning of the binary.\n",
        "\n",
        "  "
      ],
      "metadata": {
        "id": "VGzoVUGl4sCm"
      }
    },
    {
      "cell_type": "code",
      "source": [
        ""
      ],
      "metadata": {
        "id": "213fT1Kq2Dne"
      },
      "execution_count": null,
      "outputs": []
    },
    {
      "cell_type": "markdown",
      "source": [
        "***Problem 11***"
      ],
      "metadata": {
        "id": "TMekwQFK7WPt"
      }
    },
    {
      "cell_type": "markdown",
      "source": [
        "13 (base10) = 1111111111111 (base1)\n",
        "\n",
        "*Addition in Base1:*\n",
        "\n",
        ">  7 (base10) + 2 (base10) =\n",
        "<br> 1111111 (base1) + 11 (base1) = 111111111 (base1)  \n",
        "<br> Addition in base1 is achieved by simply sticking the two base1 numbers together.\n",
        "\n",
        "*Multiplication in Base1:*\n",
        "\n",
        ">  7 (base10) * 2 (base10) =\n",
        "<br> 1111111 (base1) + 1111111 (base1) = 11 (base1) + 11 (base1) + 11 (base1) + 11 (base1) + 11 (base1) + 11 (base1) + 11 (base1) = 11111111111111 (base1)\n",
        "<br> <br> Multiplication is achieved by reiterating the multiplicand the number of times determined by the multiplier and then stick everything together to form the new base1 number.\n"
      ],
      "metadata": {
        "id": "SrthunQc8w9j"
      }
    },
    {
      "cell_type": "code",
      "source": [
        ""
      ],
      "metadata": {
        "id": "461V6ZkK7YC8"
      },
      "execution_count": null,
      "outputs": []
    },
    {
      "cell_type": "markdown",
      "source": [
        "***Problem 12***"
      ],
      "metadata": {
        "id": "wur_DuN_MMfF"
      }
    },
    {
      "cell_type": "markdown",
      "source": [
        "If we consider the possibility of representing either a 1 or a 0 on one given finger, then 10 fingers could represent 10 digits. Thus there would be 2^10 numbers possible. That is 1024 numbers including 0. So, the highest number you would be able to count to on your fingers would be 1023."
      ],
      "metadata": {
        "id": "qBYWEOxhPJ01"
      }
    },
    {
      "cell_type": "code",
      "source": [
        ""
      ],
      "metadata": {
        "id": "5yYTPB35MPHw"
      },
      "execution_count": null,
      "outputs": []
    },
    {
      "cell_type": "markdown",
      "source": [
        "***Problem 13***"
      ],
      "metadata": {
        "id": "4XoDBkwbQMK-"
      }
    },
    {
      "cell_type": "markdown",
      "source": [
        "Just as a base10 number can be divided by 10 by removing a digit at the end, the same is true for base2 (binary) numbers. The digit removed is the remainder.\n",
        "\n",
        "For base10 multiplication we can simply add a zero at the end to multiply by 10, and the same is true for base2 (binary) multiplication. To multiply a binary number by 2, simply add a zero to the end."
      ],
      "metadata": {
        "id": "YfdBoi1jiY1E"
      }
    },
    {
      "cell_type": "code",
      "source": [
        ""
      ],
      "metadata": {
        "id": "T6TouR_fQObQ"
      },
      "execution_count": null,
      "outputs": []
    }
  ]
}