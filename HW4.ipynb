{
  "nbformat": 4,
  "nbformat_minor": 0,
  "metadata": {
    "colab": {
      "name": "HW4.ipynb",
      "provenance": [],
      "collapsed_sections": [],
      "authorship_tag": "ABX9TyPtVJJBYR51sMERqVYYxKhw",
      "include_colab_link": true
    },
    "kernelspec": {
      "name": "python3",
      "display_name": "Python 3"
    },
    "language_info": {
      "name": "python"
    }
  },
  "cells": [
    {
      "cell_type": "markdown",
      "metadata": {
        "id": "view-in-github",
        "colab_type": "text"
      },
      "source": [
        "<a href=\"https://colab.research.google.com/github/hyperkraz/MAT421/blob/main/HW4.ipynb\" target=\"_parent\"><img src=\"https://colab.research.google.com/assets/colab-badge.svg\" alt=\"Open In Colab\"/></a>"
      ]
    },
    {
      "cell_type": "code",
      "execution_count": null,
      "metadata": {
        "id": "ZJYJkcEBac5I"
      },
      "outputs": [],
      "source": [
        ""
      ]
    },
    {
      "cell_type": "markdown",
      "source": [
        "**HW4**"
      ],
      "metadata": {
        "id": "w_qi-46QagX5"
      }
    },
    {
      "cell_type": "markdown",
      "source": [
        "***Problem 1***"
      ],
      "metadata": {
        "id": "Km8l97mgaiOA"
      }
    },
    {
      "cell_type": "code",
      "source": [
        "def my_newton(f, df, x0, tol):\n",
        "  # We can define a function my_newton like in 19.4\n",
        "  if abs(f(x0)) < tol:\n",
        "      return x0\n",
        "  else:\n",
        "      return my_newton(f, df, x0 - f(x0)/df(x0), tol)\n",
        "\n",
        "def my_nth_root(x, n, tol):\n",
        "  # We first need to define a formula or function object f\n",
        "  f = lambda z: z**n - x\n",
        "  # Then we need to define the derivative of f\n",
        "  f_p = lambda z: n*(z**(n - 1))\n",
        "  # We can set the initial guess to 1 because zero might be a little complicated\n",
        "  guess = 1\n",
        "  guess = my_newton(f, f_p, guess, tol)\n",
        "  return guess\n",
        "\n",
        "r = my_nth_root(32, 2, 1e-6)\n",
        "print(\"For x = 32 and n = 2 with tolerance of 1e-6, r is equal to\", r)"
      ],
      "metadata": {
        "colab": {
          "base_uri": "https://localhost:8080/"
        },
        "id": "wAfPNHdQamt7",
        "outputId": "71fe0635-75ea-478d-efa4-07646009a9f1"
      },
      "execution_count": null,
      "outputs": [
        {
          "output_type": "stream",
          "name": "stdout",
          "text": [
            "For x = 32 and n = 2 with tolerance of 1e-6, r is equal to 5.656854250817684\n"
          ]
        }
      ]
    },
    {
      "cell_type": "code",
      "source": [
        ""
      ],
      "metadata": {
        "id": "F1NEcb_bfOlJ"
      },
      "execution_count": null,
      "outputs": []
    },
    {
      "cell_type": "markdown",
      "source": [
        "***Problem 2***"
      ],
      "metadata": {
        "id": "tEkQtUhWjZBS"
      }
    },
    {
      "cell_type": "code",
      "source": [
        "def my_fixed_point(f, g, tol, max_iter):\n",
        "  F = lambda z: f(z) - g(z)\n",
        "  # Define a function to make a guess\n",
        "  def guess_func(f, init):\n",
        "    start = init - 1\n",
        "    end = init + 1\n",
        "    lim = 10000000\n",
        "    i = 1\n",
        "    while i < lim:\n",
        "      if (f(end) > 0) & (f(start) < 0):\n",
        "        a = start;\n",
        "        b = end;\n",
        "        return [a, b]\n",
        "      elif f(end) < 0:\n",
        "        end = end + 2*end\n",
        "      else:\n",
        "        start = start - 2*start\n",
        "      i += 1\n",
        "  [a, b] = guess_func(F, 0)\n",
        "  i = 1\n",
        "  # Define a function to return the sign of input\n",
        "  def sign_func(q):\n",
        "    return (q > 0) - (q < 0)\n",
        "\n",
        "  while(i, max_iter):\n",
        "    w = (a + b)/2\n",
        "    if (abs(F(w)) < tol):\n",
        "      return w\n",
        "    elif (sign_func(F(w)) == sign_func(F(a))):\n",
        "      a = w\n",
        "    else:\n",
        "      b = w\n",
        "  return []\n",
        "\n",
        "# Then we run the my_fixed_point function\n",
        "g = lambda z: 16;\n",
        "f = lambda z: z**2\n",
        "err_tol = 1e-6;\n",
        "lim = 10000;\n",
        "result = my_fixed_point(f, g, err_tol, lim)\n",
        "print(\"For f(x) = x^2 and g(x) = 16, the solution X for f(X) = g(X) is\", result)"
      ],
      "metadata": {
        "id": "zQh0NG_ijb-Q",
        "colab": {
          "base_uri": "https://localhost:8080/"
        },
        "outputId": "f5cd1645-c420-465b-c708-9382dfee2b80"
      },
      "execution_count": 1,
      "outputs": [
        {
          "output_type": "stream",
          "name": "stdout",
          "text": [
            "For f(x) = x^2 and g(x) = 16, the solution X for f(X) = g(X) is 4.0\n"
          ]
        }
      ]
    },
    {
      "cell_type": "code",
      "source": [
        ""
      ],
      "metadata": {
        "id": "cWbT9Xpws48O"
      },
      "execution_count": null,
      "outputs": []
    },
    {
      "cell_type": "markdown",
      "source": [
        "***Problem 3***"
      ],
      "metadata": {
        "id": "BGbiKR2I9azC"
      }
    },
    {
      "cell_type": "markdown",
      "source": [
        "The bisection method uses the intermediate value theorem iteratively to find roots. Here, the function f(x) = 1/x is not defined at x = 0 and is therefore not continuous. Thus, the function f(x) = 1/x violates the intermediate value theorem since 1/x is not continuous."
      ],
      "metadata": {
        "id": "cYmYdPoS4gHg"
      }
    },
    {
      "cell_type": "code",
      "source": [
        ""
      ],
      "metadata": {
        "id": "r8VMgqro9uaF"
      },
      "execution_count": null,
      "outputs": []
    }
  ]
}