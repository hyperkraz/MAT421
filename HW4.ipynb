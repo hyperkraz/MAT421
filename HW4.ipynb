{
  "nbformat": 4,
  "nbformat_minor": 0,
  "metadata": {
    "colab": {
      "name": "HW4.ipynb",
      "provenance": [],
      "collapsed_sections": [],
      "authorship_tag": "ABX9TyNn75KsTyxYpIYe4E+das7r",
      "include_colab_link": true
    },
    "kernelspec": {
      "name": "python3",
      "display_name": "Python 3"
    },
    "language_info": {
      "name": "python"
    }
  },
  "cells": [
    {
      "cell_type": "markdown",
      "metadata": {
        "id": "view-in-github",
        "colab_type": "text"
      },
      "source": [
        "<a href=\"https://colab.research.google.com/github/hyperkraz/MAT421/blob/main/HW4.ipynb\" target=\"_parent\"><img src=\"https://colab.research.google.com/assets/colab-badge.svg\" alt=\"Open In Colab\"/></a>"
      ]
    },
    {
      "cell_type": "code",
      "execution_count": 31,
      "metadata": {
        "id": "ZJYJkcEBac5I"
      },
      "outputs": [],
      "source": [
        ""
      ]
    },
    {
      "cell_type": "markdown",
      "source": [
        "**HW4**"
      ],
      "metadata": {
        "id": "w_qi-46QagX5"
      }
    },
    {
      "cell_type": "markdown",
      "source": [
        "***Problem 1***"
      ],
      "metadata": {
        "id": "Km8l97mgaiOA"
      }
    },
    {
      "cell_type": "code",
      "source": [
        "def my_newton(f, df, x0, tol):\n",
        "  # We can define a function my_newton like in 19.4\n",
        "  if abs(f(x0)) < tol:\n",
        "      return x0\n",
        "  else:\n",
        "      return my_newton(f, df, x0 - f(x0)/df(x0), tol)\n",
        "\n",
        "def my_nth_root(x, n, tol):\n",
        "  # We first need to define a formula or function object f\n",
        "  f = lambda z: z**n - x\n",
        "  # Then we need to define the derivative of f\n",
        "  f_p = lambda z: n*(z**(n - 1))\n",
        "  # We can set the initial guess to 1 because zero might be a little complicated\n",
        "  guess = 1\n",
        "  guess = my_newton(f, f_p, guess, tol)\n",
        "  return guess\n",
        "\n",
        "r = my_nth_root(32, 2, 1e-6)\n",
        "print(\"For x = 32 and n = 2 with tolerance of 1e-6, r is equal to\", r)"
      ],
      "metadata": {
        "colab": {
          "base_uri": "https://localhost:8080/"
        },
        "id": "wAfPNHdQamt7",
        "outputId": "4128f855-6318-42f8-c670-8b5f2394eea6"
      },
      "execution_count": 32,
      "outputs": [
        {
          "output_type": "stream",
          "name": "stdout",
          "text": [
            "For x = 32 and n = 2 with tolerance of 1e-6, r is equal to 5.656854250817684\n"
          ]
        }
      ]
    },
    {
      "cell_type": "code",
      "source": [
        ""
      ],
      "metadata": {
        "id": "F1NEcb_bfOlJ"
      },
      "execution_count": 32,
      "outputs": []
    },
    {
      "cell_type": "markdown",
      "source": [
        "***Problem 2***"
      ],
      "metadata": {
        "id": "tEkQtUhWjZBS"
      }
    },
    {
      "cell_type": "code",
      "source": [
        "def my_fixed_point(f, g, tol, max_iter):\n",
        "  F = lambda z: f(z) - g(z)\n",
        "  # Define a function to make a guess\n",
        "  def guess_func(f, init):\n",
        "    start = init - 1\n",
        "    end = init + 1\n",
        "    lim = 10000000\n",
        "    i = 1\n",
        "    while i < lim:\n",
        "      if (f(end) > 0) & (f(start) < 0):\n",
        "        a = start;\n",
        "        b = end;\n",
        "        return [a, b]\n",
        "      elif f(end) < 0:\n",
        "        end = end + 2*end\n",
        "      else:\n",
        "        start = start - 2*start\n",
        "      i += 1\n",
        "  [a, b] = guess_func(F, 0)\n",
        "  i = 1\n",
        "  # Define a function to return the sign of input\n",
        "  def sign_func(q):\n",
        "    return (q > 0) - (q < 0)\n",
        "\n",
        "  while(i, max_iter):\n",
        "    w = (a + b)/2\n",
        "    if (abs(F(w)) < tol):\n",
        "      return w\n",
        "    elif (sign_func(F(w)) == sign_func(F(a))):\n",
        "      a = w\n",
        "    else:\n",
        "      b = w\n",
        "  return []\n",
        "\n",
        "# Then we run the my_fixed_point function\n",
        "g = lambda z: 16;\n",
        "f = lambda z: z**2\n",
        "err_tol = 1e-6;\n",
        "lim = 10000;\n",
        "result = my_fixed_point(f, g, err_tol, lim)\n",
        "print(\"For f(x) = x^2 and g(x) = 16, the solution X for f(X) = g(X) is\", result)"
      ],
      "metadata": {
        "id": "zQh0NG_ijb-Q",
        "colab": {
          "base_uri": "https://localhost:8080/"
        },
        "outputId": "45fe20a0-c325-43c2-a6e0-b307e5460aab"
      },
      "execution_count": 33,
      "outputs": [
        {
          "output_type": "stream",
          "name": "stdout",
          "text": [
            "For f(x) = x^2 and g(x) = 16, the solution X for f(X) = g(X) is 4.0\n"
          ]
        }
      ]
    },
    {
      "cell_type": "code",
      "source": [
        ""
      ],
      "metadata": {
        "id": "cWbT9Xpws48O"
      },
      "execution_count": 33,
      "outputs": []
    },
    {
      "cell_type": "markdown",
      "source": [
        "***Problem 3***"
      ],
      "metadata": {
        "id": "BGbiKR2I9azC"
      }
    },
    {
      "cell_type": "markdown",
      "source": [
        "The bisection method uses the intermediate value theorem iteratively to find roots. Here, the function f(x) = 1/x is not defined at x = 0 and is therefore not continuous. Thus, the function f(x) = 1/x violates the intermediate value theorem since 1/x is not continuous."
      ],
      "metadata": {
        "id": "cYmYdPoS4gHg"
      }
    },
    {
      "cell_type": "code",
      "source": [
        ""
      ],
      "metadata": {
        "id": "r8VMgqro9uaF"
      },
      "execution_count": 33,
      "outputs": []
    },
    {
      "cell_type": "markdown",
      "source": [
        "***Problem 4***"
      ],
      "metadata": {
        "id": "II4cnutODFJ0"
      }
    },
    {
      "cell_type": "code",
      "source": [
        "import numpy as np\n",
        "\n",
        "def my_bisection(f, a, b, tol):\n",
        "\n",
        "  x = a\n",
        "  y = b\n",
        "\n",
        "  m = np.ceil(np.log2((y - x)/tol))\n",
        "  \n",
        "  E = np.zeros(int(m))\n",
        "\n",
        "  R = np.zeros(int(m))\n",
        "\n",
        "  lim = m;\n",
        "\n",
        "  j = 0\n",
        "\n",
        "  def sign_func(x):\n",
        "    if (0 == x):\n",
        "      return x\n",
        "    return x/abs(x)\n",
        "\n",
        "  while(j < lim):\n",
        "    R[j] = (x + y)/2\n",
        "    E[j] = abs(f(R[j]))\n",
        "    if (E[j] < tol):\n",
        "      E[np.isnan(R)] = []\n",
        "      R[np.isnan(R)] = []\n",
        "      \n",
        "    elif (sign_func(f(x)) == sign_func(f(R[j]))):\n",
        "      x = R[j]\n",
        "\n",
        "    else:\n",
        "      y = R[j]\n",
        "    \n",
        "    j += 1\n",
        "\n",
        "  return [R, E]\n",
        "\n",
        "# Then use the function to run the test cases\n",
        "\n",
        "f = lambda x: x**2 - 2\n",
        "[R, E] = my_bisection(f, 0, 2, 1e-1)\n",
        "\n",
        "print([R, E])\n",
        "\n",
        "f = lambda x: np.sin(x) - np.cos(x)\n",
        "[R, E] = my_bisection(f, 0, 2, 1e-2)\n",
        "\n",
        "print([R, E])"
      ],
      "metadata": {
        "colab": {
          "base_uri": "https://localhost:8080/"
        },
        "id": "x-S_Aj_5DHu7",
        "outputId": "3b2dafff-3d3a-41de-d678-b200d72682a0"
      },
      "execution_count": 34,
      "outputs": [
        {
          "output_type": "stream",
          "name": "stdout",
          "text": [
            "[array([1.    , 1.5   , 1.25  , 1.375 , 1.4375]), array([1.        , 0.25      , 0.4375    , 0.109375  , 0.06640625])]\n",
            "[array([1.     , 0.5    , 0.75   , 0.875  , 0.8125 , 0.78125, 0.78125,\n",
            "       0.78125]), array([0.30116868, 0.39815702, 0.05005011, 0.12654664, 0.03832309,\n",
            "       0.00586637, 0.00586637, 0.00586637])]\n"
          ]
        }
      ]
    },
    {
      "cell_type": "code",
      "source": [
        ""
      ],
      "metadata": {
        "id": "_Wby7xJILevm"
      },
      "execution_count": 34,
      "outputs": []
    },
    {
      "cell_type": "markdown",
      "source": [
        "***Problem 5***"
      ],
      "metadata": {
        "id": "RIlEpUQfPBXM"
      }
    },
    {
      "cell_type": "code",
      "source": [
        "import numpy as np\n",
        "\n",
        "def my_newton(f, df, x0, tol):\n",
        "  E = []\n",
        "  R = []\n",
        "  # First, append the value of x0 to R\n",
        "  R.append(x0)\n",
        "  # Then, take the absolute value of the tailing term of R and append it to E\n",
        "  E.append(abs(f(R[-1])))\n",
        "  # Then, the while loop should have a limit of some kind\n",
        "  lim = 10000\n",
        "\n",
        "  j = 0\n",
        "\n",
        "  while j < lim:\n",
        "    R.append(x0 - (f(x0)/df(x0)))\n",
        "    E.append(abs(f(R[-1])))\n",
        "    # If the final value of R isn't within the tolerence defined, then update the value of x0\n",
        "    x0 = R[-1]\n",
        "    j += 1\n",
        "    # If the final value of E is within the tolerance defined...\n",
        "    if E[-1] < tol:\n",
        "      return [R, E]\n",
        "  return [R, E]\n",
        "\n",
        "\n",
        "# Then run the test cases\n",
        "\n",
        "f = lambda x: x**2 - 2\n",
        "df = lambda x: 2*x\n",
        "[R, E] = my_newton(f, df, 1, 1e-5)\n",
        "\n",
        "print([R, E])\n",
        "\n",
        "    \n",
        "f = lambda x: np.sin(x) - np.cos(x)\n",
        "df = lambda x: np.cos(x) + np.sin(x)\n",
        "[R, E] = my_newton(f, df, 1, 1e-5)\n",
        "\n",
        "print([R, E])\n"
      ],
      "metadata": {
        "colab": {
          "base_uri": "https://localhost:8080/"
        },
        "id": "ZRQmm-zSPGkS",
        "outputId": "5e8cdc3e-7787-44fd-a8ce-7fb7c86e409e"
      },
      "execution_count": 35,
      "outputs": [
        {
          "output_type": "stream",
          "name": "stdout",
          "text": [
            "[[1, 1.5, 1.4166666666666667, 1.4142156862745099], [1, 0.25, 0.006944444444444642, 6.007304882871267e-06]]\n",
            "[[1, 0.782041901539138, 0.7853981759997019], [0.30116867893975674, 0.004746462127804163, 1.7822277875723103e-08]]\n"
          ]
        }
      ]
    },
    {
      "cell_type": "code",
      "source": [
        ""
      ],
      "metadata": {
        "id": "Kmb1HoQTR5Br"
      },
      "execution_count": 35,
      "outputs": []
    }
  ]
}