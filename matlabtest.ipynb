{
  "nbformat": 4,
  "nbformat_minor": 0,
  "metadata": {
    "colab": {
      "name": "matlabtest.ipynb",
      "provenance": [],
      "collapsed_sections": [],
      "authorship_tag": "ABX9TyPrQ0wk87HheYNwE9iHBbfB",
      "include_colab_link": true
    },
    "kernelspec": {
      "name": "python3",
      "display_name": "Python 3"
    },
    "language_info": {
      "name": "python"
    }
  },
  "cells": [
    {
      "cell_type": "markdown",
      "metadata": {
        "id": "view-in-github",
        "colab_type": "text"
      },
      "source": [
        "<a href=\"https://colab.research.google.com/github/hyperkraz/MAT421/blob/main/matlabtest.ipynb\" target=\"_parent\"><img src=\"https://colab.research.google.com/assets/colab-badge.svg\" alt=\"Open In Colab\"/></a>"
      ]
    },
    {
      "cell_type": "code",
      "execution_count": 1153,
      "metadata": {
        "id": "ClWVuFaNyu0i"
      },
      "outputs": [],
      "source": [
        ""
      ]
    },
    {
      "cell_type": "markdown",
      "source": [
        "matlab fun"
      ],
      "metadata": {
        "id": "KRRFjxdsyyGZ"
      }
    },
    {
      "cell_type": "code",
      "source": [
        "!apt install octave"
      ],
      "metadata": {
        "colab": {
          "base_uri": "https://localhost:8080/"
        },
        "id": "TAbwm8vQyzI4",
        "outputId": "91896a65-51bc-47c1-cb2c-bf9f50a04aeb"
      },
      "execution_count": 1154,
      "outputs": [
        {
          "output_type": "stream",
          "name": "stdout",
          "text": [
            "Reading package lists... Done\n",
            "Building dependency tree       \n",
            "Reading state information... Done\n",
            "octave is already the newest version (4.2.2-1ubuntu1).\n",
            "The following packages were automatically installed and are no longer required:\n",
            "  cuda-command-line-tools-10-0 cuda-command-line-tools-10-1\n",
            "  cuda-command-line-tools-11-0 cuda-compiler-10-0 cuda-compiler-10-1\n",
            "  cuda-compiler-11-0 cuda-cuobjdump-10-0 cuda-cuobjdump-10-1\n",
            "  cuda-cuobjdump-11-0 cuda-cupti-10-0 cuda-cupti-10-1 cuda-cupti-11-0\n",
            "  cuda-cupti-dev-11-0 cuda-documentation-10-0 cuda-documentation-10-1\n",
            "  cuda-documentation-11-0 cuda-documentation-11-1 cuda-gdb-10-0 cuda-gdb-10-1\n",
            "  cuda-gdb-11-0 cuda-gpu-library-advisor-10-0 cuda-gpu-library-advisor-10-1\n",
            "  cuda-libraries-10-0 cuda-libraries-10-1 cuda-libraries-11-0\n",
            "  cuda-memcheck-10-0 cuda-memcheck-10-1 cuda-memcheck-11-0 cuda-nsight-10-0\n",
            "  cuda-nsight-10-1 cuda-nsight-11-0 cuda-nsight-11-1 cuda-nsight-compute-10-0\n",
            "  cuda-nsight-compute-10-1 cuda-nsight-compute-11-0 cuda-nsight-compute-11-1\n",
            "  cuda-nsight-systems-10-1 cuda-nsight-systems-11-0 cuda-nsight-systems-11-1\n",
            "  cuda-nvcc-10-0 cuda-nvcc-10-1 cuda-nvcc-11-0 cuda-nvdisasm-10-0\n",
            "  cuda-nvdisasm-10-1 cuda-nvdisasm-11-0 cuda-nvml-dev-10-0 cuda-nvml-dev-10-1\n",
            "  cuda-nvml-dev-11-0 cuda-nvprof-10-0 cuda-nvprof-10-1 cuda-nvprof-11-0\n",
            "  cuda-nvprune-10-0 cuda-nvprune-10-1 cuda-nvprune-11-0 cuda-nvtx-10-0\n",
            "  cuda-nvtx-10-1 cuda-nvtx-11-0 cuda-nvvp-10-0 cuda-nvvp-10-1 cuda-nvvp-11-0\n",
            "  cuda-nvvp-11-1 cuda-samples-10-0 cuda-samples-10-1 cuda-samples-11-0\n",
            "  cuda-samples-11-1 cuda-sanitizer-11-0 cuda-sanitizer-api-10-1\n",
            "  cuda-toolkit-10-0 cuda-toolkit-10-1 cuda-toolkit-11-0 cuda-toolkit-11-1\n",
            "  cuda-tools-10-0 cuda-tools-10-1 cuda-tools-11-0 cuda-tools-11-1\n",
            "  cuda-visual-tools-10-0 cuda-visual-tools-10-1 cuda-visual-tools-11-0\n",
            "  cuda-visual-tools-11-1 default-jre dkms freeglut3 freeglut3-dev\n",
            "  keyboard-configuration libargon2-0 libcap2 libcryptsetup12\n",
            "  libdevmapper1.02.1 libfontenc1 libip4tc0 libjansson4 libnvidia-cfg1-510\n",
            "  libnvidia-common-460 libnvidia-common-510 libnvidia-extra-510\n",
            "  libnvidia-fbc1-510 libnvidia-gl-510 libpam-systemd libpolkit-agent-1-0\n",
            "  libpolkit-backend-1-0 libpolkit-gobject-1-0 libxfont2 libxi-dev libxkbfile1\n",
            "  libxmu-dev libxmu-headers libxnvctrl0 libxtst6 nsight-compute-2020.2.1\n",
            "  nsight-compute-2022.1.0 nsight-systems-2020.3.2 nsight-systems-2020.3.4\n",
            "  nsight-systems-2021.5.2 nvidia-dkms-510 nvidia-kernel-common-510\n",
            "  nvidia-kernel-source-510 nvidia-modprobe nvidia-settings openjdk-11-jre\n",
            "  policykit-1 policykit-1-gnome python3-xkit screen-resolution-extra systemd\n",
            "  systemd-sysv udev x11-xkb-utils xserver-common xserver-xorg-core-hwe-18.04\n",
            "  xserver-xorg-video-nvidia-510\n",
            "Use 'apt autoremove' to remove them.\n",
            "0 upgraded, 0 newly installed, 0 to remove and 39 not upgraded.\n"
          ]
        }
      ]
    },
    {
      "cell_type": "code",
      "source": [
        "%%writefile add.m\n",
        "x = 1\n",
        "y = 2\n",
        "display(x+y)"
      ],
      "metadata": {
        "colab": {
          "base_uri": "https://localhost:8080/"
        },
        "id": "U-9XLEJ2y1Il",
        "outputId": "5309a636-e373-4d74-c232-26fec8141241"
      },
      "execution_count": 1155,
      "outputs": [
        {
          "output_type": "stream",
          "name": "stdout",
          "text": [
            "Overwriting add.m\n"
          ]
        }
      ]
    },
    {
      "cell_type": "code",
      "source": [
        "!octave -W add.m"
      ],
      "metadata": {
        "colab": {
          "base_uri": "https://localhost:8080/"
        },
        "id": "GiccnDBOzV9N",
        "outputId": "54f68c29-71ec-4388-d428-ed60be0f7b9e"
      },
      "execution_count": 1156,
      "outputs": [
        {
          "output_type": "stream",
          "name": "stdout",
          "text": [
            "warning: function ./merge.m shadows a built-in function\n",
            "x =  1\n",
            "y =  2\n",
            " 3\n"
          ]
        }
      ]
    },
    {
      "cell_type": "code",
      "source": [
        "%%writefile power_recursive.m\n",
        "function a = power_recursive(a,n)\n",
        "if n==1, return; end\n",
        "a = a*power_recursive(a,n-1);"
      ],
      "metadata": {
        "colab": {
          "base_uri": "https://localhost:8080/"
        },
        "id": "BjU5cBQmzang",
        "outputId": "c6690fb9-ab1d-458e-8720-3d8cdbd297b0"
      },
      "execution_count": 1157,
      "outputs": [
        {
          "output_type": "stream",
          "name": "stdout",
          "text": [
            "Overwriting power_recursive.m\n"
          ]
        }
      ]
    },
    {
      "cell_type": "code",
      "source": [
        "%%writefile power_divideconquer.m\n",
        "function a = power_divideconquer(a,n)\n",
        "if n==1, return; end % nothing to do: output a same as input\n",
        "if mod(n,2) % remainder of n/2; = 1 (True) if n odd, = 0 (False) if n even\n",
        "  a = power_divideconquer(a,(n-1)/2)*power_divideconquer(a,(n+1)/2); % n odd\n",
        "else\n",
        "  a = power_divideconquer(a,n/2)^2; % n even\n",
        "end"
      ],
      "metadata": {
        "colab": {
          "base_uri": "https://localhost:8080/"
        },
        "id": "Oa5qeObfM1zv",
        "outputId": "af86f938-ff4a-49e4-8a7f-5e5a4e5f25e6"
      },
      "execution_count": 1158,
      "outputs": [
        {
          "output_type": "stream",
          "name": "stdout",
          "text": [
            "Overwriting power_divideconquer.m\n"
          ]
        }
      ]
    },
    {
      "cell_type": "code",
      "source": [
        "%%writefile power_mixed.m\n",
        "function a = power_mixed(a,n)\n",
        "if n==1, return; end % nothing to do: output a same as input\n",
        "if mod(n,2) % remainder of n/2; = 1 (True) if n odd, = 0 (False) if n even\n",
        "  a = a*power_mixed(a,n-1); % n odd\n",
        "else\n",
        "  a = power_mixed(a,n/2)^2; % n even\n",
        "end"
      ],
      "metadata": {
        "colab": {
          "base_uri": "https://localhost:8080/"
        },
        "id": "Xm-l3W-fNreJ",
        "outputId": "07e7b57f-9982-4741-fba1-7337ab3208cc"
      },
      "execution_count": 1159,
      "outputs": [
        {
          "output_type": "stream",
          "name": "stdout",
          "text": [
            "Overwriting power_mixed.m\n"
          ]
        }
      ]
    },
    {
      "cell_type": "code",
      "source": [
        "%%writefile power_direct.m\n",
        "function an = power_direct(a,n)\n",
        "an = a;\n",
        "for k = 1:n-1\n",
        "  an = a*an;\n",
        "end"
      ],
      "metadata": {
        "colab": {
          "base_uri": "https://localhost:8080/"
        },
        "id": "CdMeRHMxOADK",
        "outputId": "5f2bd871-a02a-44d3-f318-0803db94a4ad"
      },
      "execution_count": 1160,
      "outputs": [
        {
          "output_type": "stream",
          "name": "stdout",
          "text": [
            "Overwriting power_direct.m\n"
          ]
        }
      ]
    },
    {
      "cell_type": "code",
      "source": [
        "%%writefile power_mixed_direct.m\n",
        "function an = power_mixed_direct(a,n)\n",
        "steps = [];\n",
        "while n>1\n",
        "  if mod(n,2)\n",
        "    n = n-1; steps = [steps, 1]; % n odd\n",
        "  else\n",
        "    n = n/2; steps = [steps, 0]; % n even\n",
        "  end\n",
        "end\n",
        "an = a;\n",
        "for k = length(steps):-1:1\n",
        "  if steps(k)\n",
        "    an = a*an; % odd step\n",
        "  else\n",
        "    an = an^2; % even step\n",
        "  end\n",
        "end"
      ],
      "metadata": {
        "colab": {
          "base_uri": "https://localhost:8080/"
        },
        "id": "fB_OhkAxf-mk",
        "outputId": "ce7f4e6c-a343-45e4-95ff-26e154b83e6c"
      },
      "execution_count": 1161,
      "outputs": [
        {
          "output_type": "stream",
          "name": "stdout",
          "text": [
            "Overwriting power_mixed_direct.m\n"
          ]
        }
      ]
    },
    {
      "cell_type": "code",
      "source": [
        "%%writefile runpr.m\n",
        "format long % more digits in output compared to default format short\n",
        "%set(0,'max_recursion_depth',1021) % reset recursion limit\n",
        "max_recursion_depth(1024)\n",
        "A = [1 1;1 0];\n",
        "r = max(abs(eig(A))); % spectral radius of A\n",
        "a = A/r; % spectral radius of a is 1, equal to 2-norm of A (symmetric)\n",
        "n = 1019;\n",
        "tic, power_recursive(a,n), toc\n",
        "tic, power_divideconquer(a,n), toc\n",
        "tic, power_mixed(a,n), toc\n",
        "tic, power_direct(A,n), toc\n",
        "tic, power_mixed_direct(A,n), toc\n",
        "tic, a^n, toc"
      ],
      "metadata": {
        "colab": {
          "base_uri": "https://localhost:8080/"
        },
        "id": "OApagEBG0SMS",
        "outputId": "b59a2993-a785-4743-d436-ab624840ab0b"
      },
      "execution_count": 1162,
      "outputs": [
        {
          "output_type": "stream",
          "name": "stdout",
          "text": [
            "Overwriting runpr.m\n"
          ]
        }
      ]
    },
    {
      "cell_type": "code",
      "source": [
        "!octave -W runpr.m"
      ],
      "metadata": {
        "colab": {
          "base_uri": "https://localhost:8080/"
        },
        "id": "UuiHf1c80eFv",
        "outputId": "d729e24e-0718-4364-816a-71361072e3e1"
      },
      "execution_count": 1163,
      "outputs": [
        {
          "output_type": "stream",
          "name": "stdout",
          "text": [
            "warning: function ./merge.m shadows a built-in function\n",
            "ans =\n",
            "\n",
            "   0.723606797749975   0.447213595499956\n",
            "   0.447213595499956   0.276393202250020\n",
            "\n",
            "Elapsed time is 0.0289531 seconds.\n",
            "ans =\n",
            "\n",
            "   0.723606797749911   0.447213595499916\n",
            "   0.447213595499916   0.276393202249995\n",
            "\n",
            "Elapsed time is 0.00345302 seconds.\n",
            "ans =\n",
            "\n",
            "   0.723606797749932   0.447213595499929\n",
            "   0.447213595499929   0.276393202250003\n",
            "\n",
            "Elapsed time is 0.000847101 seconds.\n",
            "ans =\n",
            "\n",
            "   6.57518615256860e+212   4.06368852464505e+212\n",
            "   4.06368852464505e+212   2.51149762792355e+212\n",
            "\n",
            "Elapsed time is 0.00297904 seconds.\n",
            "ans =\n",
            "\n",
            "   6.57518615256860e+212   4.06368852464505e+212\n",
            "   4.06368852464505e+212   2.51149762792356e+212\n",
            "\n",
            "Elapsed time is 0.000801802 seconds.\n",
            "ans =\n",
            "\n",
            "   0.723606797749911   0.447213595499916\n",
            "   0.447213595499916   0.276393202249995\n",
            "\n",
            "Elapsed time is 8.29697e-05 seconds.\n"
          ]
        }
      ]
    },
    {
      "cell_type": "code",
      "source": [
        "%%writefile fibonacci_direct2.m\n",
        "function F = fibonacci_direct2(n)\n",
        "if n==0\n",
        "  F = 0;\n",
        "else\n",
        "  Fn1 = 0; F = 1;\n",
        "  for k = 2:n\n",
        "    Fn2 = Fn1; Fn1 = F;\n",
        "    F = Fn1+Fn2;\n",
        "  end\n",
        "end"
      ],
      "metadata": {
        "id": "vnWkc4200nI1",
        "colab": {
          "base_uri": "https://localhost:8080/"
        },
        "outputId": "3252db34-21eb-418b-950e-acf338fc618f"
      },
      "execution_count": 1164,
      "outputs": [
        {
          "output_type": "stream",
          "name": "stdout",
          "text": [
            "Overwriting fibonacci_direct2.m\n"
          ]
        }
      ]
    },
    {
      "cell_type": "code",
      "source": [
        "%%writefile fibonacci_direct2edit.m\n",
        "function F = fibonacci_direct2edit(n)\n",
        "if n==0\n",
        "  F = 3;\n",
        "else\n",
        "  Fn1 = 3; F = 2;\n",
        "  for k = 2:n\n",
        "    Fn2 = Fn1; Fn1 = F;\n",
        "    F = (2*Fn1) - (rdivide((8*(Fn2)), 9));\n",
        "  end\n",
        "end"
      ],
      "metadata": {
        "colab": {
          "base_uri": "https://localhost:8080/"
        },
        "id": "WgpQlmYxzVID",
        "outputId": "ec3ceb41-f4a2-44ac-c27e-1fe741566faf"
      },
      "execution_count": 1165,
      "outputs": [
        {
          "output_type": "stream",
          "name": "stdout",
          "text": [
            "Overwriting fibonacci_direct2edit.m\n"
          ]
        }
      ]
    },
    {
      "cell_type": "code",
      "source": [
        "%%writefile runfib40.m\n",
        "n = 40;\n",
        "fibonacci_direct2edit(n)"
      ],
      "metadata": {
        "colab": {
          "base_uri": "https://localhost:8080/"
        },
        "id": "7FI39o7Gym1k",
        "outputId": "ae980f3d-b427-4e52-9ba5-ec2fe0887651"
      },
      "execution_count": 1166,
      "outputs": [
        {
          "output_type": "stream",
          "name": "stdout",
          "text": [
            "Overwriting runfib40.m\n"
          ]
        }
      ]
    },
    {
      "cell_type": "code",
      "source": [
        "!octave -W runfib40.m"
      ],
      "metadata": {
        "colab": {
          "base_uri": "https://localhost:8080/"
        },
        "id": "BX0n9vBKycI2",
        "outputId": "4d8e0825-1930-4fab-943c-0689de663f80"
      },
      "execution_count": 1167,
      "outputs": [
        {
          "output_type": "stream",
          "name": "stdout",
          "text": [
            "warning: function ./merge.m shadows a built-in function\n",
            "ans =    2.7133e-07\n"
          ]
        }
      ]
    },
    {
      "cell_type": "code",
      "source": [
        "%%writefile runfib60.m\n",
        "n = 60;\n",
        "fibonacci_direct2edit(n)"
      ],
      "metadata": {
        "colab": {
          "base_uri": "https://localhost:8080/"
        },
        "id": "e8NEL-bVy0Pc",
        "outputId": "8593b76e-6471-4a14-f4c7-8bc5a3aff948"
      },
      "execution_count": 1168,
      "outputs": [
        {
          "output_type": "stream",
          "name": "stdout",
          "text": [
            "Overwriting runfib60.m\n"
          ]
        }
      ]
    },
    {
      "cell_type": "code",
      "source": [
        "!octave -W runfib60.m"
      ],
      "metadata": {
        "colab": {
          "base_uri": "https://localhost:8080/"
        },
        "id": "OH-02Y6N2kQs",
        "outputId": "38f2b082-1fee-4863-8e66-eb4f76fd400b"
      },
      "execution_count": 1169,
      "outputs": [
        {
          "output_type": "stream",
          "name": "stdout",
          "text": [
            "warning: function ./merge.m shadows a built-in function\n",
            "ans =    6.4104e-09\n"
          ]
        }
      ]
    },
    {
      "cell_type": "code",
      "source": [
        "%%writefile runfib100.m\n",
        "n = 100;\n",
        "fibonacci_direct2edit(n)"
      ],
      "metadata": {
        "colab": {
          "base_uri": "https://localhost:8080/"
        },
        "id": "TP3UuuM-3BMH",
        "outputId": "c81ade40-ed78-44b1-a462-a0e3e0d53b43"
      },
      "execution_count": 1170,
      "outputs": [
        {
          "output_type": "stream",
          "name": "stdout",
          "text": [
            "Overwriting runfib100.m\n"
          ]
        }
      ]
    },
    {
      "cell_type": "code",
      "source": [
        "!octave -W runfib100.m"
      ],
      "metadata": {
        "colab": {
          "base_uri": "https://localhost:8080/"
        },
        "id": "Wrbq_kMM36Kc",
        "outputId": "67051acc-2ea2-46b3-aa30-85394754e61e"
      },
      "execution_count": 1171,
      "outputs": [
        {
          "output_type": "stream",
          "name": "stdout",
          "text": [
            "warning: function ./merge.m shadows a built-in function\n",
            "ans =    6.2932e-04\n"
          ]
        }
      ]
    },
    {
      "cell_type": "code",
      "source": [
        "%%writefile runfib500.m\n",
        "n = 500;\n",
        "fibonacci_direct2edit(n)"
      ],
      "metadata": {
        "colab": {
          "base_uri": "https://localhost:8080/"
        },
        "id": "D1B7Ahfi38bS",
        "outputId": "189ec3b4-a80a-4f18-caac-34d9eb890549"
      },
      "execution_count": 1172,
      "outputs": [
        {
          "output_type": "stream",
          "name": "stdout",
          "text": [
            "Overwriting runfib500.m\n"
          ]
        }
      ]
    },
    {
      "cell_type": "code",
      "source": [
        "!octave -W runfib500.m"
      ],
      "metadata": {
        "colab": {
          "base_uri": "https://localhost:8080/"
        },
        "id": "Va6w0lrC4Dng",
        "outputId": "95c5a855-c8ef-4dca-c0b1-0effa0310004"
      },
      "execution_count": 1173,
      "outputs": [
        {
          "output_type": "stream",
          "name": "stdout",
          "text": [
            "warning: function ./merge.m shadows a built-in function\n",
            "ans =    5.9479e+46\n"
          ]
        }
      ]
    },
    {
      "cell_type": "code",
      "source": [
        "%%writefile runfib5.m\n",
        "n = 5;\n",
        "fibonacci_direct2edit(n)"
      ],
      "metadata": {
        "id": "_1_tgHU24H_X",
        "colab": {
          "base_uri": "https://localhost:8080/"
        },
        "outputId": "d8c94c05-5601-4f55-80b7-eb3a893f4d81"
      },
      "execution_count": 1174,
      "outputs": [
        {
          "output_type": "stream",
          "name": "stdout",
          "text": [
            "Overwriting runfib5.m\n"
          ]
        }
      ]
    },
    {
      "cell_type": "code",
      "source": [
        "!octave -W runfib5.m"
      ],
      "metadata": {
        "colab": {
          "base_uri": "https://localhost:8080/"
        },
        "id": "hUPTZF2M_XI3",
        "outputId": "332bf7e4-4035-4ac7-b15d-62f72914015f"
      },
      "execution_count": 1175,
      "outputs": [
        {
          "output_type": "stream",
          "name": "stdout",
          "text": [
            "warning: function ./merge.m shadows a built-in function\n",
            "ans =  0.39506\n"
          ]
        }
      ]
    },
    {
      "cell_type": "code",
      "source": [
        "%%writefile horner_recursive.m\n",
        "function p = horner_recursive(a,x)\n",
        "n = length(a) - 1;\n",
        "if n == 0\n",
        "  p = a(n + 1);\n",
        "else\n",
        "  p = horner_recursive(a(2:n+1),x).*x+a(1);\n",
        "end"
      ],
      "metadata": {
        "colab": {
          "base_uri": "https://localhost:8080/"
        },
        "id": "ATvHNXxk_cmX",
        "outputId": "1aa823dd-6f9c-44fa-de16-43dc392b117f"
      },
      "execution_count": 1176,
      "outputs": [
        {
          "output_type": "stream",
          "name": "stdout",
          "text": [
            "Overwriting horner_recursive.m\n"
          ]
        }
      ]
    },
    {
      "cell_type": "code",
      "source": [
        "%%writefile runhr.m\n",
        "format long\n",
        "max_recursion_depth(1024)\n",
        "a = [0,1./(1:1000).^2]; % a_0 = 0\n",
        "x = [-1,-.5,.5,1];\n",
        "tic, horner_recursive(a,x), toc"
      ],
      "metadata": {
        "colab": {
          "base_uri": "https://localhost:8080/"
        },
        "id": "CZfsUZtnOEOM",
        "outputId": "d48534cb-1ae6-419a-e2a8-78b259d96915"
      },
      "execution_count": 1177,
      "outputs": [
        {
          "output_type": "stream",
          "name": "stdout",
          "text": [
            "Overwriting runhr.m\n"
          ]
        }
      ]
    },
    {
      "cell_type": "code",
      "source": [
        "!octave -W runhr.m"
      ],
      "metadata": {
        "colab": {
          "base_uri": "https://localhost:8080/"
        },
        "id": "I0m8sK-dOwB7",
        "outputId": "a78d645e-3966-4c63-d494-5a0eb245ba00"
      },
      "execution_count": 1178,
      "outputs": [
        {
          "output_type": "stream",
          "name": "stdout",
          "text": [
            "warning: function ./merge.m shadows a built-in function\n",
            "ans =\n",
            "\n",
            "  -0.822466533924113  -0.448414206923646   0.582240526465013   1.643934566681560\n",
            "\n",
            "Elapsed time is 0.0474021 seconds.\n"
          ]
        }
      ]
    },
    {
      "cell_type": "code",
      "source": [
        "%%writefile bisect.m\n",
        "function ab = bisect(f,ab,tol,alfa)\n",
        "a = ab(1); b = ab(2); % assumes a<b\n",
        "if b-a<tol, return; end\n",
        "fa = f(a); % assumes f(a)*f(b)<0\n",
        "v = alfa;\n",
        "if isinf(alfa), v = (1+2*rand)/4; end % random value in [0.25,0.75]\n",
        "x = a+v*(b-a); fx = f(x);\n",
        "if fx*fa < 0\n",
        "  ab = [a,x];\n",
        "else\n",
        "  ab = [x,b];\n",
        "end\n",
        "ab = bisect(f,ab,tol,alfa);"
      ],
      "metadata": {
        "colab": {
          "base_uri": "https://localhost:8080/"
        },
        "id": "x3fgwptUOzEv",
        "outputId": "eaa3a290-53e1-40e6-8ef2-bc12f8edcc06"
      },
      "execution_count": 1179,
      "outputs": [
        {
          "output_type": "stream",
          "name": "stdout",
          "text": [
            "Overwriting bisect.m\n"
          ]
        }
      ]
    },
    {
      "cell_type": "code",
      "source": [
        "%%writefile runbisect.m\n",
        "format long\n",
        "f = @(x)x^3-2;\n",
        "ab = [1,2]; % assumes fa*fb<0\n",
        "tol = 1e-15;\n",
        "tic, bisect(f,ab,tol,0.25), toc\n",
        "tic, bisect(f,ab,tol,0.5), toc\n",
        "tic, bisect(f,ab,tol,0.75), toc\n",
        "tic, bisect(f,ab,tol,Inf), toc"
      ],
      "metadata": {
        "colab": {
          "base_uri": "https://localhost:8080/"
        },
        "id": "sfPrqExzV0ex",
        "outputId": "1c638773-65f7-4b1e-d38c-ad82adec5600"
      },
      "execution_count": 1180,
      "outputs": [
        {
          "output_type": "stream",
          "name": "stdout",
          "text": [
            "Overwriting runbisect.m\n"
          ]
        }
      ]
    },
    {
      "cell_type": "code",
      "source": [
        "!octave -W runbisect.m"
      ],
      "metadata": {
        "colab": {
          "base_uri": "https://localhost:8080/"
        },
        "id": "tN3YCyRCY9CB",
        "outputId": "ac892780-3b08-4753-d3b8-108f1641eb3e"
      },
      "execution_count": 1181,
      "outputs": [
        {
          "output_type": "stream",
          "name": "stdout",
          "text": [
            "warning: function ./merge.m shadows a built-in function\n",
            "ans =\n",
            "\n",
            "   1.25992104989487   1.25992104989487\n",
            "\n",
            "Elapsed time is 0.00532603 seconds.\n",
            "ans =\n",
            "\n",
            "   1.25992104989487   1.25992104989487\n",
            "\n",
            "Elapsed time is 0.00349689 seconds.\n",
            "ans =\n",
            "\n",
            "   1.25992104989487   1.25992104989487\n",
            "\n",
            "Elapsed time is 0.00513101 seconds.\n",
            "ans =\n",
            "\n",
            "   1.25992104989487   1.25992104989487\n",
            "\n",
            "Elapsed time is 0.00521111 seconds.\n"
          ]
        }
      ]
    },
    {
      "cell_type": "code",
      "source": [
        "%%writefile insertion.m\n",
        "function x = insertion(x)\n",
        "n = length(x);\n",
        "for i = 2:n\n",
        "  j = i-1;\n",
        "  xi = x(i);\n",
        "  while j>=1 && xi<x(j), j = j-1; end % continue until a smaller coefficient is found\n",
        "  x = [x(1:j),xi,x(j+1:i-1),x(i+1:end)]; % move xi after x(j) (<=xi)\n",
        "end"
      ],
      "metadata": {
        "colab": {
          "base_uri": "https://localhost:8080/"
        },
        "id": "jIHr5kIBZXU4",
        "outputId": "7f53d0fe-971f-4e83-fdd8-945901ab9cf5"
      },
      "execution_count": 1182,
      "outputs": [
        {
          "output_type": "stream",
          "name": "stdout",
          "text": [
            "Overwriting insertion.m\n"
          ]
        }
      ]
    },
    {
      "cell_type": "code",
      "source": [
        "%%writefile merge.m\n",
        "function x = merge(x1,x2)\n",
        "n1 = length(x1);\n",
        "n2 = length(x2);\n",
        "i1 = 0;\n",
        "i2 = 0;\n",
        "x = [x1,x2];\n",
        "while i1<n1 || i2<n2\n",
        "    if i1<n1 && i2<n2\n",
        "        if x1(i1+1)<=x2(i2+1)\n",
        "            x(i1+i2+1) = x1(i1+1);\n",
        "            i1 = i1+1;\n",
        "        else\n",
        "            x(i1+i2+1) = x2(i2+1);\n",
        "            i2 = i2+1;\n",
        "        end\n",
        "    elseif i1<n1\n",
        "        x(i1+i2+1) = x1(i1+1);\n",
        "        i1 = i1+1;\n",
        "    elseif i2<n2\n",
        "        x(i1+i2+1) = x2(i2+1);\n",
        "        i2 = i2+1;\n",
        "    end\n",
        "end"
      ],
      "metadata": {
        "colab": {
          "base_uri": "https://localhost:8080/"
        },
        "id": "mTor21gYHkkB",
        "outputId": "2a841fae-43ba-4661-ac0f-a2655d7a2475"
      },
      "execution_count": 1183,
      "outputs": [
        {
          "output_type": "stream",
          "name": "stdout",
          "text": [
            "Overwriting merge.m\n"
          ]
        }
      ]
    },
    {
      "cell_type": "code",
      "source": [
        "%%writefile mergesort.m\n",
        "function x = mergesort(x)\n",
        "n = length(x);\n",
        "if n>1  \n",
        "  m = fix(n/2);\n",
        "  x1 = mergesort(x(1:m));\n",
        "  x2 = mergesort(x(m+1:end));\n",
        "  x = merge(x1,x2);\n",
        "end"
      ],
      "metadata": {
        "colab": {
          "base_uri": "https://localhost:8080/"
        },
        "id": "7npeHOF2o4QX",
        "outputId": "1fad269c-b8c4-428c-e770-bea9c0b45b7c"
      },
      "execution_count": 1184,
      "outputs": [
        {
          "output_type": "stream",
          "name": "stdout",
          "text": [
            "Overwriting mergesort.m\n"
          ]
        }
      ]
    },
    {
      "cell_type": "code",
      "source": [
        "%%writefile quicksort.m\n",
        "function x = quicksort(x)\n",
        "n = length(x);\n",
        "if n>1\n",
        "  m = floor(n/2);\n",
        "  i1 = 1;\n",
        "  i2 = 1;\n",
        "  x1 = [];\n",
        "  x2 = [];\n",
        "  xm = x(m);\n",
        "  for i = 1:n\n",
        "    if i~=m\n",
        "      if x(i)<xm\n",
        "        x1(i1) = x(i);\n",
        "        i1 = i1+1;\n",
        "      else\n",
        "        x2(i2) = x(i);\n",
        "        i2 = i2+1;\n",
        "      end\n",
        "    end\n",
        "  end\n",
        "  x1 = quicksort(x1);\n",
        "  x2 = quicksort(x2);\n",
        "  x = [x1,xm,x2];\n",
        "end"
      ],
      "metadata": {
        "colab": {
          "base_uri": "https://localhost:8080/"
        },
        "id": "V5reWTVqpDbi",
        "outputId": "0425a90b-58b3-4e14-87e2-995c5e7b0304"
      },
      "execution_count": 1185,
      "outputs": [
        {
          "output_type": "stream",
          "name": "stdout",
          "text": [
            "Overwriting quicksort.m\n"
          ]
        }
      ]
    },
    {
      "cell_type": "code",
      "source": [
        "%%writefile runsorts.m\n",
        "max_recursion_depth(32768)\n",
        "\n",
        "x = sort(rand(1,2000));\n",
        "n = 2000\n",
        "\n",
        "z = round(10*rand(1,10))\n",
        "insertion(z)\n",
        "mergesort(z)\n",
        "quicksort(z)\n",
        "sort(z)\n",
        "\n",
        "fprintf('\\n')\n",
        "\n",
        "%a\n",
        "fprintf('Part a:')\n",
        "fprintf('\\n')\n",
        "tic, insertion(x); toc\n",
        "tic, mergesort(x); toc\n",
        "tic, quicksort(x); toc\n",
        "fprintf('\\n')\n",
        "\n",
        "%b\n",
        "fprintf('Part b:')\n",
        "fprintf('\\n')\n",
        "tic, insertion(x(n:-1:1)); toc\n",
        "tic, mergesort(x(n:-1:1)); toc\n",
        "tic, quicksort(x(n:-1:1)); toc\n",
        "fprintf('\\n')\n",
        "\n",
        "%c\n",
        "fprintf('Part c:')\n",
        "fprintf('\\n')\n",
        "tic, insertion(x([1:2:n,2:2:n])); toc\n",
        "tic, mergesort(x([1:2:n,2:2:n])); toc\n",
        "tic, quicksort(x([1:2:n,2:2:n])); toc\n",
        "fprintf('\\n')\n",
        "\n",
        "%d\n",
        "fprintf('Part d:')\n",
        "fprintf('\\n')\n",
        "tic, insertion(x(randperm(n))); toc\n",
        "tic, mergesort(x(randperm(n))); toc\n",
        "tic, quicksort(x(randperm(n))); toc\n",
        "fprintf('\\n')\n"
      ],
      "metadata": {
        "colab": {
          "base_uri": "https://localhost:8080/"
        },
        "id": "PZqk7a5Aqdib",
        "outputId": "3af57e0e-bec1-4fcf-ac09-bc2657009ece"
      },
      "execution_count": 1186,
      "outputs": [
        {
          "output_type": "stream",
          "name": "stdout",
          "text": [
            "Overwriting runsorts.m\n"
          ]
        }
      ]
    },
    {
      "cell_type": "code",
      "source": [
        "!octave -W runsorts.m"
      ],
      "metadata": {
        "colab": {
          "base_uri": "https://localhost:8080/"
        },
        "id": "wZSKkXZpq4Be",
        "outputId": "2d331d4f-6562-4ed3-e95a-0274aa8e0990"
      },
      "execution_count": 1187,
      "outputs": [
        {
          "output_type": "stream",
          "name": "stdout",
          "text": [
            "warning: function ./merge.m shadows a built-in function\n",
            "n =  2000\n",
            "z =\n",
            "\n",
            "    7    6    4    3    7    6    1    9    7   10\n",
            "\n",
            "ans =\n",
            "\n",
            "    1    3    4    6    6    7    7    7    9   10\n",
            "\n",
            "ans =\n",
            "\n",
            "    1    3    4    6    6    7    7    7    9   10\n",
            "\n",
            "ans =\n",
            "\n",
            "    1    3    4    6    6    7    7    7    9   10\n",
            "\n",
            "ans =\n",
            "\n",
            "    1    3    4    6    6    7    7    7    9   10\n",
            "\n",
            "\n",
            "Part a:\n",
            "Elapsed time is 0.061641 seconds.\n",
            "Elapsed time is 0.448409 seconds.\n",
            "Elapsed time is 0.228996 seconds.\n",
            "\n",
            "Part b:\n",
            "Elapsed time is 9.02075 seconds.\n",
            "Elapsed time is 0.417731 seconds.\n",
            "Elapsed time is 0.233407 seconds.\n",
            "\n",
            "Part c:\n",
            "Elapsed time is 2.29375 seconds.\n",
            "Elapsed time is 0.431695 seconds.\n",
            "Elapsed time is 9.57614 seconds.\n",
            "\n",
            "Part d:\n",
            "Elapsed time is 4.53055 seconds.\n",
            "Elapsed time is 0.451775 seconds.\n",
            "Elapsed time is 0.298223 seconds.\n",
            "\n"
          ]
        }
      ]
    },
    {
      "cell_type": "code",
      "source": [
        ""
      ],
      "metadata": {
        "id": "F-q2sn_6q-cb"
      },
      "execution_count": 1187,
      "outputs": []
    }
  ]
}