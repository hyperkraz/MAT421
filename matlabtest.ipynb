{
  "nbformat": 4,
  "nbformat_minor": 0,
  "metadata": {
    "colab": {
      "name": "matlabtest.ipynb",
      "provenance": [],
      "collapsed_sections": [],
      "authorship_tag": "ABX9TyNLwrb1PQCIGFpF0ZOs9e9S",
      "include_colab_link": true
    },
    "kernelspec": {
      "name": "python3",
      "display_name": "Python 3"
    },
    "language_info": {
      "name": "python"
    }
  },
  "cells": [
    {
      "cell_type": "markdown",
      "metadata": {
        "id": "view-in-github",
        "colab_type": "text"
      },
      "source": [
        "<a href=\"https://colab.research.google.com/github/hyperkraz/MAT421/blob/main/matlabtest.ipynb\" target=\"_parent\"><img src=\"https://colab.research.google.com/assets/colab-badge.svg\" alt=\"Open In Colab\"/></a>"
      ]
    },
    {
      "cell_type": "code",
      "execution_count": 131,
      "metadata": {
        "id": "ClWVuFaNyu0i"
      },
      "outputs": [],
      "source": [
        ""
      ]
    },
    {
      "cell_type": "markdown",
      "source": [
        "matlab fun"
      ],
      "metadata": {
        "id": "KRRFjxdsyyGZ"
      }
    },
    {
      "cell_type": "code",
      "source": [
        "!apt install octave"
      ],
      "metadata": {
        "colab": {
          "base_uri": "https://localhost:8080/"
        },
        "id": "TAbwm8vQyzI4",
        "outputId": "1f767609-7d3a-4e07-d143-b73eec96fe41"
      },
      "execution_count": 132,
      "outputs": [
        {
          "output_type": "stream",
          "name": "stdout",
          "text": [
            "Reading package lists... Done\n",
            "Building dependency tree       \n",
            "Reading state information... Done\n",
            "octave is already the newest version (4.2.2-1ubuntu1).\n",
            "The following packages were automatically installed and are no longer required:\n",
            "  cuda-command-line-tools-10-0 cuda-command-line-tools-10-1\n",
            "  cuda-command-line-tools-11-0 cuda-compiler-10-0 cuda-compiler-10-1\n",
            "  cuda-compiler-11-0 cuda-cuobjdump-10-0 cuda-cuobjdump-10-1\n",
            "  cuda-cuobjdump-11-0 cuda-cupti-10-0 cuda-cupti-10-1 cuda-cupti-11-0\n",
            "  cuda-cupti-dev-11-0 cuda-documentation-10-0 cuda-documentation-10-1\n",
            "  cuda-documentation-11-0 cuda-documentation-11-1 cuda-gdb-10-0 cuda-gdb-10-1\n",
            "  cuda-gdb-11-0 cuda-gpu-library-advisor-10-0 cuda-gpu-library-advisor-10-1\n",
            "  cuda-libraries-10-0 cuda-libraries-10-1 cuda-libraries-11-0\n",
            "  cuda-memcheck-10-0 cuda-memcheck-10-1 cuda-memcheck-11-0 cuda-nsight-10-0\n",
            "  cuda-nsight-10-1 cuda-nsight-11-0 cuda-nsight-11-1 cuda-nsight-compute-10-0\n",
            "  cuda-nsight-compute-10-1 cuda-nsight-compute-11-0 cuda-nsight-compute-11-1\n",
            "  cuda-nsight-systems-10-1 cuda-nsight-systems-11-0 cuda-nsight-systems-11-1\n",
            "  cuda-nvcc-10-0 cuda-nvcc-10-1 cuda-nvcc-11-0 cuda-nvdisasm-10-0\n",
            "  cuda-nvdisasm-10-1 cuda-nvdisasm-11-0 cuda-nvml-dev-10-0 cuda-nvml-dev-10-1\n",
            "  cuda-nvml-dev-11-0 cuda-nvprof-10-0 cuda-nvprof-10-1 cuda-nvprof-11-0\n",
            "  cuda-nvprune-10-0 cuda-nvprune-10-1 cuda-nvprune-11-0 cuda-nvtx-10-0\n",
            "  cuda-nvtx-10-1 cuda-nvtx-11-0 cuda-nvvp-10-0 cuda-nvvp-10-1 cuda-nvvp-11-0\n",
            "  cuda-nvvp-11-1 cuda-samples-10-0 cuda-samples-10-1 cuda-samples-11-0\n",
            "  cuda-samples-11-1 cuda-sanitizer-11-0 cuda-sanitizer-api-10-1\n",
            "  cuda-toolkit-10-0 cuda-toolkit-10-1 cuda-toolkit-11-0 cuda-toolkit-11-1\n",
            "  cuda-tools-10-0 cuda-tools-10-1 cuda-tools-11-0 cuda-tools-11-1\n",
            "  cuda-visual-tools-10-0 cuda-visual-tools-10-1 cuda-visual-tools-11-0\n",
            "  cuda-visual-tools-11-1 default-jre dkms freeglut3 freeglut3-dev\n",
            "  keyboard-configuration libargon2-0 libcap2 libcryptsetup12\n",
            "  libdevmapper1.02.1 libfontenc1 libip4tc0 libjansson4 libnvidia-cfg1-510\n",
            "  libnvidia-common-460 libnvidia-common-510 libnvidia-extra-510\n",
            "  libnvidia-fbc1-510 libnvidia-gl-510 libpam-systemd libpolkit-agent-1-0\n",
            "  libpolkit-backend-1-0 libpolkit-gobject-1-0 libxfont2 libxi-dev libxkbfile1\n",
            "  libxmu-dev libxmu-headers libxnvctrl0 libxtst6 nsight-compute-2020.2.1\n",
            "  nsight-compute-2022.1.0 nsight-systems-2020.3.2 nsight-systems-2020.3.4\n",
            "  nsight-systems-2021.5.2 nvidia-dkms-510 nvidia-kernel-common-510\n",
            "  nvidia-kernel-source-510 nvidia-modprobe nvidia-settings openjdk-11-jre\n",
            "  policykit-1 policykit-1-gnome python3-xkit screen-resolution-extra systemd\n",
            "  systemd-sysv udev x11-xkb-utils xserver-common xserver-xorg-core-hwe-18.04\n",
            "  xserver-xorg-video-nvidia-510\n",
            "Use 'apt autoremove' to remove them.\n",
            "0 upgraded, 0 newly installed, 0 to remove and 39 not upgraded.\n"
          ]
        }
      ]
    },
    {
      "cell_type": "code",
      "source": [
        "%%writefile add.m\n",
        "x = 1\n",
        "y = 2\n",
        "display(x+y)"
      ],
      "metadata": {
        "colab": {
          "base_uri": "https://localhost:8080/"
        },
        "id": "U-9XLEJ2y1Il",
        "outputId": "2ba322fa-3108-4278-a6d6-4d3ad73aa762"
      },
      "execution_count": 133,
      "outputs": [
        {
          "output_type": "stream",
          "name": "stdout",
          "text": [
            "Overwriting add.m\n"
          ]
        }
      ]
    },
    {
      "cell_type": "code",
      "source": [
        "!octave -W add.m"
      ],
      "metadata": {
        "colab": {
          "base_uri": "https://localhost:8080/"
        },
        "id": "GiccnDBOzV9N",
        "outputId": "1cdd8696-5a68-4ae3-877b-79dfcc150f48"
      },
      "execution_count": 134,
      "outputs": [
        {
          "output_type": "stream",
          "name": "stdout",
          "text": [
            "x =  1\n",
            "y =  2\n",
            " 3\n"
          ]
        }
      ]
    },
    {
      "cell_type": "code",
      "source": [
        "%%writefile power_recursive.m\n",
        "function a = power_recursive(a,n)\n",
        "if n==1, return; end\n",
        "a = a*power_recursive(a,n-1);"
      ],
      "metadata": {
        "colab": {
          "base_uri": "https://localhost:8080/"
        },
        "id": "BjU5cBQmzang",
        "outputId": "73efb74d-8b94-4791-c4ba-e5cee2007e2c"
      },
      "execution_count": 135,
      "outputs": [
        {
          "output_type": "stream",
          "name": "stdout",
          "text": [
            "Overwriting power_recursive.m\n"
          ]
        }
      ]
    },
    {
      "cell_type": "code",
      "source": [
        "%%writefile power_divideconquer.m\n",
        "function a = power_divideconquer(a,n)\n",
        "if n==1, return; end % nothing to do: output a same as input\n",
        "if mod(n,2) % remainder of n/2; = 1 (True) if n odd, = 0 (False) if n even\n",
        "  a = power_divideconquer(a,(n-1)/2)*power_divideconquer(a,(n+1)/2); % n odd\n",
        "else\n",
        "  a = power_divideconquer(a,n/2)^2; % n even\n",
        "end"
      ],
      "metadata": {
        "colab": {
          "base_uri": "https://localhost:8080/"
        },
        "id": "Oa5qeObfM1zv",
        "outputId": "cae08428-c27a-4228-df64-f9be9c72fa1d"
      },
      "execution_count": 136,
      "outputs": [
        {
          "output_type": "stream",
          "name": "stdout",
          "text": [
            "Overwriting power_divideconquer.m\n"
          ]
        }
      ]
    },
    {
      "cell_type": "code",
      "source": [
        "%%writefile power_mixed.m\n",
        "function a = power_mixed(a,n)\n",
        "if n==1, return; end % nothing to do: output a same as input\n",
        "if mod(n,2) % remainder of n/2; = 1 (True) if n odd, = 0 (False) if n even\n",
        "  a = a*power_mixed(a,n-1); % n odd\n",
        "else\n",
        "  a = power_mixed(a,n/2)^2; % n even\n",
        "end"
      ],
      "metadata": {
        "colab": {
          "base_uri": "https://localhost:8080/"
        },
        "id": "Xm-l3W-fNreJ",
        "outputId": "bac2463c-792a-4608-dd4c-017355b889f6"
      },
      "execution_count": 137,
      "outputs": [
        {
          "output_type": "stream",
          "name": "stdout",
          "text": [
            "Overwriting power_mixed.m\n"
          ]
        }
      ]
    },
    {
      "cell_type": "code",
      "source": [
        "%%writefile power_direct.m\n",
        "function an = power_direct(a,n)\n",
        "an = a;\n",
        "for k = 1:n-1\n",
        "  an = a*an;\n",
        "end"
      ],
      "metadata": {
        "colab": {
          "base_uri": "https://localhost:8080/"
        },
        "id": "CdMeRHMxOADK",
        "outputId": "f1d25654-3d3c-415a-e175-3116496d905d"
      },
      "execution_count": 138,
      "outputs": [
        {
          "output_type": "stream",
          "name": "stdout",
          "text": [
            "Overwriting power_direct.m\n"
          ]
        }
      ]
    },
    {
      "cell_type": "code",
      "source": [
        "%%writefile power_mixed_direct.m\n",
        "function an = power_mixed_direct(a,n)\n",
        "steps = [];\n",
        "while n>1\n",
        "  if mod(n,2)\n",
        "    n = n-1; steps = [steps, 1]; % n odd\n",
        "  else\n",
        "    n = n/2; steps = [steps, 0]; % n even\n",
        "  end\n",
        "end\n",
        "an = a;\n",
        "for k = length(steps):-1:1\n",
        "  if steps(k)\n",
        "    an = a*an; % odd step\n",
        "  else\n",
        "    an = an^2; % even step\n",
        "  end\n",
        "end"
      ],
      "metadata": {
        "colab": {
          "base_uri": "https://localhost:8080/"
        },
        "id": "fB_OhkAxf-mk",
        "outputId": "bd9849b0-c6ac-48ae-f487-8c6e204140ad"
      },
      "execution_count": 139,
      "outputs": [
        {
          "output_type": "stream",
          "name": "stdout",
          "text": [
            "Overwriting power_mixed_direct.m\n"
          ]
        }
      ]
    },
    {
      "cell_type": "code",
      "source": [
        "%%writefile runpr.m\n",
        "format long % more digits in output compared to default format short\n",
        "%set(0,'max_recursion_depth',1021) % reset recursion limit\n",
        "max_recursion_depth(1024)\n",
        "A = [1 1;1 0];\n",
        "r = max(abs(eig(A))); % spectral radius of A\n",
        "a = A/r; % spectral radius of a is 1, equal to 2-norm of A (symmetric)\n",
        "n = 1019;\n",
        "tic, power_recursive(a,n), toc\n",
        "tic, power_divideconquer(a,n), toc\n",
        "tic, power_mixed(a,n), toc\n",
        "tic, power_direct(A,n), toc\n",
        "tic, power_mixed_direct(A,n), toc\n",
        "tic, a^n, toc"
      ],
      "metadata": {
        "colab": {
          "base_uri": "https://localhost:8080/"
        },
        "id": "OApagEBG0SMS",
        "outputId": "5523a896-d849-4acd-8230-668f8c35633f"
      },
      "execution_count": 140,
      "outputs": [
        {
          "output_type": "stream",
          "name": "stdout",
          "text": [
            "Overwriting runpr.m\n"
          ]
        }
      ]
    },
    {
      "cell_type": "code",
      "source": [
        "!octave -W runpr.m"
      ],
      "metadata": {
        "colab": {
          "base_uri": "https://localhost:8080/"
        },
        "id": "UuiHf1c80eFv",
        "outputId": "24266c74-3096-46da-9fe9-1c2dbf67168c"
      },
      "execution_count": 141,
      "outputs": [
        {
          "output_type": "stream",
          "name": "stdout",
          "text": [
            "ans =\n",
            "\n",
            "   0.723606797749975   0.447213595499956\n",
            "   0.447213595499956   0.276393202250020\n",
            "\n",
            "Elapsed time is 0.037307 seconds.\n",
            "ans =\n",
            "\n",
            "   0.723606797749911   0.447213595499916\n",
            "   0.447213595499916   0.276393202249995\n",
            "\n",
            "Elapsed time is 0.00376987 seconds.\n",
            "ans =\n",
            "\n",
            "   0.723606797749932   0.447213595499929\n",
            "   0.447213595499929   0.276393202250003\n",
            "\n",
            "Elapsed time is 0.000936985 seconds.\n",
            "ans =\n",
            "\n",
            "   6.57518615256860e+212   4.06368852464505e+212\n",
            "   4.06368852464505e+212   2.51149762792355e+212\n",
            "\n",
            "Elapsed time is 0.00333619 seconds.\n",
            "ans =\n",
            "\n",
            "   6.57518615256860e+212   4.06368852464505e+212\n",
            "   4.06368852464505e+212   2.51149762792356e+212\n",
            "\n",
            "Elapsed time is 0.000901937 seconds.\n",
            "ans =\n",
            "\n",
            "   0.723606797749911   0.447213595499916\n",
            "   0.447213595499916   0.276393202249995\n",
            "\n",
            "Elapsed time is 7.70092e-05 seconds.\n"
          ]
        }
      ]
    },
    {
      "cell_type": "code",
      "source": [
        ""
      ],
      "metadata": {
        "id": "vnWkc4200nI1"
      },
      "execution_count": 141,
      "outputs": []
    }
  ]
}