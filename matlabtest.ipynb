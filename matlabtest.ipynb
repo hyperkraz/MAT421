{
  "nbformat": 4,
  "nbformat_minor": 0,
  "metadata": {
    "colab": {
      "name": "matlabtest.ipynb",
      "provenance": [],
      "collapsed_sections": [],
      "authorship_tag": "ABX9TyPRnY8+mKGA+4WEL+uM1VQC",
      "include_colab_link": true
    },
    "kernelspec": {
      "name": "python3",
      "display_name": "Python 3"
    },
    "language_info": {
      "name": "python"
    }
  },
  "cells": [
    {
      "cell_type": "markdown",
      "metadata": {
        "id": "view-in-github",
        "colab_type": "text"
      },
      "source": [
        "<a href=\"https://colab.research.google.com/github/hyperkraz/MAT421/blob/main/matlabtest.ipynb\" target=\"_parent\"><img src=\"https://colab.research.google.com/assets/colab-badge.svg\" alt=\"Open In Colab\"/></a>"
      ]
    },
    {
      "cell_type": "code",
      "execution_count": 461,
      "metadata": {
        "id": "ClWVuFaNyu0i"
      },
      "outputs": [],
      "source": [
        ""
      ]
    },
    {
      "cell_type": "markdown",
      "source": [
        "matlab fun"
      ],
      "metadata": {
        "id": "KRRFjxdsyyGZ"
      }
    },
    {
      "cell_type": "code",
      "source": [
        "!apt install octave"
      ],
      "metadata": {
        "colab": {
          "base_uri": "https://localhost:8080/"
        },
        "id": "TAbwm8vQyzI4",
        "outputId": "b11b8935-d8f0-482e-9ce2-4d0f162c61f0"
      },
      "execution_count": 462,
      "outputs": [
        {
          "output_type": "stream",
          "name": "stdout",
          "text": [
            "Reading package lists... Done\n",
            "Building dependency tree       \n",
            "Reading state information... Done\n",
            "octave is already the newest version (4.2.2-1ubuntu1).\n",
            "The following packages were automatically installed and are no longer required:\n",
            "  cuda-command-line-tools-10-0 cuda-command-line-tools-10-1\n",
            "  cuda-command-line-tools-11-0 cuda-compiler-10-0 cuda-compiler-10-1\n",
            "  cuda-compiler-11-0 cuda-cuobjdump-10-0 cuda-cuobjdump-10-1\n",
            "  cuda-cuobjdump-11-0 cuda-cupti-10-0 cuda-cupti-10-1 cuda-cupti-11-0\n",
            "  cuda-cupti-dev-11-0 cuda-documentation-10-0 cuda-documentation-10-1\n",
            "  cuda-documentation-11-0 cuda-documentation-11-1 cuda-gdb-10-0 cuda-gdb-10-1\n",
            "  cuda-gdb-11-0 cuda-gpu-library-advisor-10-0 cuda-gpu-library-advisor-10-1\n",
            "  cuda-libraries-10-0 cuda-libraries-10-1 cuda-libraries-11-0\n",
            "  cuda-memcheck-10-0 cuda-memcheck-10-1 cuda-memcheck-11-0 cuda-nsight-10-0\n",
            "  cuda-nsight-10-1 cuda-nsight-11-0 cuda-nsight-11-1 cuda-nsight-compute-10-0\n",
            "  cuda-nsight-compute-10-1 cuda-nsight-compute-11-0 cuda-nsight-compute-11-1\n",
            "  cuda-nsight-systems-10-1 cuda-nsight-systems-11-0 cuda-nsight-systems-11-1\n",
            "  cuda-nvcc-10-0 cuda-nvcc-10-1 cuda-nvcc-11-0 cuda-nvdisasm-10-0\n",
            "  cuda-nvdisasm-10-1 cuda-nvdisasm-11-0 cuda-nvml-dev-10-0 cuda-nvml-dev-10-1\n",
            "  cuda-nvml-dev-11-0 cuda-nvprof-10-0 cuda-nvprof-10-1 cuda-nvprof-11-0\n",
            "  cuda-nvprune-10-0 cuda-nvprune-10-1 cuda-nvprune-11-0 cuda-nvtx-10-0\n",
            "  cuda-nvtx-10-1 cuda-nvtx-11-0 cuda-nvvp-10-0 cuda-nvvp-10-1 cuda-nvvp-11-0\n",
            "  cuda-nvvp-11-1 cuda-samples-10-0 cuda-samples-10-1 cuda-samples-11-0\n",
            "  cuda-samples-11-1 cuda-sanitizer-11-0 cuda-sanitizer-api-10-1\n",
            "  cuda-toolkit-10-0 cuda-toolkit-10-1 cuda-toolkit-11-0 cuda-toolkit-11-1\n",
            "  cuda-tools-10-0 cuda-tools-10-1 cuda-tools-11-0 cuda-tools-11-1\n",
            "  cuda-visual-tools-10-0 cuda-visual-tools-10-1 cuda-visual-tools-11-0\n",
            "  cuda-visual-tools-11-1 default-jre dkms freeglut3 freeglut3-dev\n",
            "  keyboard-configuration libargon2-0 libcap2 libcryptsetup12\n",
            "  libdevmapper1.02.1 libfontenc1 libip4tc0 libjansson4 libnvidia-cfg1-510\n",
            "  libnvidia-common-460 libnvidia-common-510 libnvidia-extra-510\n",
            "  libnvidia-fbc1-510 libnvidia-gl-510 libpam-systemd libpolkit-agent-1-0\n",
            "  libpolkit-backend-1-0 libpolkit-gobject-1-0 libxfont2 libxi-dev libxkbfile1\n",
            "  libxmu-dev libxmu-headers libxnvctrl0 libxtst6 nsight-compute-2020.2.1\n",
            "  nsight-compute-2022.1.0 nsight-systems-2020.3.2 nsight-systems-2020.3.4\n",
            "  nsight-systems-2021.5.2 nvidia-dkms-510 nvidia-kernel-common-510\n",
            "  nvidia-kernel-source-510 nvidia-modprobe nvidia-settings openjdk-11-jre\n",
            "  policykit-1 policykit-1-gnome python3-xkit screen-resolution-extra systemd\n",
            "  systemd-sysv udev x11-xkb-utils xserver-common xserver-xorg-core-hwe-18.04\n",
            "  xserver-xorg-video-nvidia-510\n",
            "Use 'apt autoremove' to remove them.\n",
            "0 upgraded, 0 newly installed, 0 to remove and 39 not upgraded.\n"
          ]
        }
      ]
    },
    {
      "cell_type": "code",
      "source": [
        "%%writefile add.m\n",
        "x = 1\n",
        "y = 2\n",
        "display(x+y)"
      ],
      "metadata": {
        "colab": {
          "base_uri": "https://localhost:8080/"
        },
        "id": "U-9XLEJ2y1Il",
        "outputId": "6b932ab6-9703-49db-cc64-639d4ac9e3ea"
      },
      "execution_count": 463,
      "outputs": [
        {
          "output_type": "stream",
          "name": "stdout",
          "text": [
            "Overwriting add.m\n"
          ]
        }
      ]
    },
    {
      "cell_type": "code",
      "source": [
        "!octave -W add.m"
      ],
      "metadata": {
        "colab": {
          "base_uri": "https://localhost:8080/"
        },
        "id": "GiccnDBOzV9N",
        "outputId": "80e7ab04-9051-4fd3-d8fc-f49ef2fd81df"
      },
      "execution_count": 464,
      "outputs": [
        {
          "output_type": "stream",
          "name": "stdout",
          "text": [
            "x =  1\n",
            "y =  2\n",
            " 3\n"
          ]
        }
      ]
    },
    {
      "cell_type": "code",
      "source": [
        "%%writefile power_recursive.m\n",
        "function a = power_recursive(a,n)\n",
        "if n==1, return; end\n",
        "a = a*power_recursive(a,n-1);"
      ],
      "metadata": {
        "colab": {
          "base_uri": "https://localhost:8080/"
        },
        "id": "BjU5cBQmzang",
        "outputId": "1fbb72dd-0d42-4ba3-c2b3-73daab5dc568"
      },
      "execution_count": 465,
      "outputs": [
        {
          "output_type": "stream",
          "name": "stdout",
          "text": [
            "Overwriting power_recursive.m\n"
          ]
        }
      ]
    },
    {
      "cell_type": "code",
      "source": [
        "%%writefile power_divideconquer.m\n",
        "function a = power_divideconquer(a,n)\n",
        "if n==1, return; end % nothing to do: output a same as input\n",
        "if mod(n,2) % remainder of n/2; = 1 (True) if n odd, = 0 (False) if n even\n",
        "  a = power_divideconquer(a,(n-1)/2)*power_divideconquer(a,(n+1)/2); % n odd\n",
        "else\n",
        "  a = power_divideconquer(a,n/2)^2; % n even\n",
        "end"
      ],
      "metadata": {
        "colab": {
          "base_uri": "https://localhost:8080/"
        },
        "id": "Oa5qeObfM1zv",
        "outputId": "ef492a45-8ab7-4ba9-bdd0-a1fbd2ceec2c"
      },
      "execution_count": 466,
      "outputs": [
        {
          "output_type": "stream",
          "name": "stdout",
          "text": [
            "Overwriting power_divideconquer.m\n"
          ]
        }
      ]
    },
    {
      "cell_type": "code",
      "source": [
        "%%writefile power_mixed.m\n",
        "function a = power_mixed(a,n)\n",
        "if n==1, return; end % nothing to do: output a same as input\n",
        "if mod(n,2) % remainder of n/2; = 1 (True) if n odd, = 0 (False) if n even\n",
        "  a = a*power_mixed(a,n-1); % n odd\n",
        "else\n",
        "  a = power_mixed(a,n/2)^2; % n even\n",
        "end"
      ],
      "metadata": {
        "colab": {
          "base_uri": "https://localhost:8080/"
        },
        "id": "Xm-l3W-fNreJ",
        "outputId": "fcb0242c-6710-41f3-fd8e-31d3b3235cce"
      },
      "execution_count": 467,
      "outputs": [
        {
          "output_type": "stream",
          "name": "stdout",
          "text": [
            "Overwriting power_mixed.m\n"
          ]
        }
      ]
    },
    {
      "cell_type": "code",
      "source": [
        "%%writefile power_direct.m\n",
        "function an = power_direct(a,n)\n",
        "an = a;\n",
        "for k = 1:n-1\n",
        "  an = a*an;\n",
        "end"
      ],
      "metadata": {
        "colab": {
          "base_uri": "https://localhost:8080/"
        },
        "id": "CdMeRHMxOADK",
        "outputId": "78724f0f-0589-4fa6-ecb8-b7323ac167a4"
      },
      "execution_count": 468,
      "outputs": [
        {
          "output_type": "stream",
          "name": "stdout",
          "text": [
            "Overwriting power_direct.m\n"
          ]
        }
      ]
    },
    {
      "cell_type": "code",
      "source": [
        "%%writefile power_mixed_direct.m\n",
        "function an = power_mixed_direct(a,n)\n",
        "steps = [];\n",
        "while n>1\n",
        "  if mod(n,2)\n",
        "    n = n-1; steps = [steps, 1]; % n odd\n",
        "  else\n",
        "    n = n/2; steps = [steps, 0]; % n even\n",
        "  end\n",
        "end\n",
        "an = a;\n",
        "for k = length(steps):-1:1\n",
        "  if steps(k)\n",
        "    an = a*an; % odd step\n",
        "  else\n",
        "    an = an^2; % even step\n",
        "  end\n",
        "end"
      ],
      "metadata": {
        "colab": {
          "base_uri": "https://localhost:8080/"
        },
        "id": "fB_OhkAxf-mk",
        "outputId": "b698805c-ef82-4a83-e8e4-845bc9c55606"
      },
      "execution_count": 469,
      "outputs": [
        {
          "output_type": "stream",
          "name": "stdout",
          "text": [
            "Overwriting power_mixed_direct.m\n"
          ]
        }
      ]
    },
    {
      "cell_type": "code",
      "source": [
        "%%writefile runpr.m\n",
        "format long % more digits in output compared to default format short\n",
        "%set(0,'max_recursion_depth',1021) % reset recursion limit\n",
        "max_recursion_depth(1024)\n",
        "A = [1 1;1 0];\n",
        "r = max(abs(eig(A))); % spectral radius of A\n",
        "a = A/r; % spectral radius of a is 1, equal to 2-norm of A (symmetric)\n",
        "n = 1019;\n",
        "tic, power_recursive(a,n), toc\n",
        "tic, power_divideconquer(a,n), toc\n",
        "tic, power_mixed(a,n), toc\n",
        "tic, power_direct(A,n), toc\n",
        "tic, power_mixed_direct(A,n), toc\n",
        "tic, a^n, toc"
      ],
      "metadata": {
        "colab": {
          "base_uri": "https://localhost:8080/"
        },
        "id": "OApagEBG0SMS",
        "outputId": "9497171d-e8ad-484e-e325-c8f2c8c217e7"
      },
      "execution_count": 470,
      "outputs": [
        {
          "output_type": "stream",
          "name": "stdout",
          "text": [
            "Overwriting runpr.m\n"
          ]
        }
      ]
    },
    {
      "cell_type": "code",
      "source": [
        "!octave -W runpr.m"
      ],
      "metadata": {
        "colab": {
          "base_uri": "https://localhost:8080/"
        },
        "id": "UuiHf1c80eFv",
        "outputId": "cb691629-e0d1-4ee0-f348-d981579ee3df"
      },
      "execution_count": 471,
      "outputs": [
        {
          "output_type": "stream",
          "name": "stdout",
          "text": [
            "ans =\n",
            "\n",
            "   0.723606797749975   0.447213595499956\n",
            "   0.447213595499956   0.276393202250020\n",
            "\n",
            "Elapsed time is 0.028147 seconds.\n",
            "ans =\n",
            "\n",
            "   0.723606797749911   0.447213595499916\n",
            "   0.447213595499916   0.276393202249995\n",
            "\n",
            "Elapsed time is 0.00356197 seconds.\n",
            "ans =\n",
            "\n",
            "   0.723606797749932   0.447213595499929\n",
            "   0.447213595499929   0.276393202250003\n",
            "\n",
            "Elapsed time is 0.000883102 seconds.\n",
            "ans =\n",
            "\n",
            "   6.57518615256860e+212   4.06368852464505e+212\n",
            "   4.06368852464505e+212   2.51149762792355e+212\n",
            "\n",
            "Elapsed time is 0.0030601 seconds.\n",
            "ans =\n",
            "\n",
            "   6.57518615256860e+212   4.06368852464505e+212\n",
            "   4.06368852464505e+212   2.51149762792356e+212\n",
            "\n",
            "Elapsed time is 0.000849009 seconds.\n",
            "ans =\n",
            "\n",
            "   0.723606797749911   0.447213595499916\n",
            "   0.447213595499916   0.276393202249995\n",
            "\n",
            "Elapsed time is 8.89301e-05 seconds.\n"
          ]
        }
      ]
    },
    {
      "cell_type": "code",
      "source": [
        "%%writefile fibonacci_direct2.m\n",
        "function F = fibonacci_direct2(n)\n",
        "if n==0\n",
        "  F = 0;\n",
        "else\n",
        "  Fn1 = 0; F = 1;\n",
        "  for k = 2:n\n",
        "    Fn2 = Fn1; Fn1 = F;\n",
        "    F = Fn1+Fn2;\n",
        "  end\n",
        "end"
      ],
      "metadata": {
        "id": "vnWkc4200nI1",
        "colab": {
          "base_uri": "https://localhost:8080/"
        },
        "outputId": "4159d6c9-5059-4a66-930b-eaec8bb05142"
      },
      "execution_count": 472,
      "outputs": [
        {
          "output_type": "stream",
          "name": "stdout",
          "text": [
            "Overwriting fibonacci_direct2.m\n"
          ]
        }
      ]
    },
    {
      "cell_type": "code",
      "source": [
        "%%writefile fibonacci_direct2edit.m\n",
        "function F = fibonacci_direct2edit(n)\n",
        "if n==0\n",
        "  F = 3;\n",
        "else\n",
        "  Fn1 = 3; F = 2;\n",
        "  for k = 2:n\n",
        "    Fn2 = Fn1; Fn1 = F;\n",
        "    F = (2*Fn1) - (rdivide((8*(Fn2)), 9));\n",
        "  end\n",
        "end"
      ],
      "metadata": {
        "colab": {
          "base_uri": "https://localhost:8080/"
        },
        "id": "WgpQlmYxzVID",
        "outputId": "12574f7b-9822-4e8f-b728-559d88b3c92a"
      },
      "execution_count": 473,
      "outputs": [
        {
          "output_type": "stream",
          "name": "stdout",
          "text": [
            "Overwriting fibonacci_direct2edit.m\n"
          ]
        }
      ]
    },
    {
      "cell_type": "code",
      "source": [
        "%%writefile runfib40.m\n",
        "n = 40;\n",
        "fibonacci_direct2edit(n)"
      ],
      "metadata": {
        "colab": {
          "base_uri": "https://localhost:8080/"
        },
        "id": "7FI39o7Gym1k",
        "outputId": "a248279e-ff9e-4e04-80e3-ef94179a2798"
      },
      "execution_count": 474,
      "outputs": [
        {
          "output_type": "stream",
          "name": "stdout",
          "text": [
            "Overwriting runfib40.m\n"
          ]
        }
      ]
    },
    {
      "cell_type": "code",
      "source": [
        "!octave -W runfib40.m"
      ],
      "metadata": {
        "colab": {
          "base_uri": "https://localhost:8080/"
        },
        "id": "BX0n9vBKycI2",
        "outputId": "fa0b4fba-808e-4f89-ed45-7dc7305ef654"
      },
      "execution_count": 475,
      "outputs": [
        {
          "output_type": "stream",
          "name": "stdout",
          "text": [
            "ans =    2.7133e-07\n"
          ]
        }
      ]
    },
    {
      "cell_type": "code",
      "source": [
        "%%writefile runfib60.m\n",
        "n = 60;\n",
        "fibonacci_direct2edit(n)"
      ],
      "metadata": {
        "colab": {
          "base_uri": "https://localhost:8080/"
        },
        "id": "e8NEL-bVy0Pc",
        "outputId": "c65b235b-b270-4584-c539-75088f3041ce"
      },
      "execution_count": 476,
      "outputs": [
        {
          "output_type": "stream",
          "name": "stdout",
          "text": [
            "Overwriting runfib60.m\n"
          ]
        }
      ]
    },
    {
      "cell_type": "code",
      "source": [
        "!octave -W runfib60.m"
      ],
      "metadata": {
        "colab": {
          "base_uri": "https://localhost:8080/"
        },
        "id": "OH-02Y6N2kQs",
        "outputId": "b4f47f2b-4ef9-4992-e046-c93aa441ab79"
      },
      "execution_count": 477,
      "outputs": [
        {
          "output_type": "stream",
          "name": "stdout",
          "text": [
            "ans =    6.4104e-09\n"
          ]
        }
      ]
    },
    {
      "cell_type": "code",
      "source": [
        "%%writefile runfib100.m\n",
        "n = 100;\n",
        "fibonacci_direct2edit(n)"
      ],
      "metadata": {
        "colab": {
          "base_uri": "https://localhost:8080/"
        },
        "id": "TP3UuuM-3BMH",
        "outputId": "05636b9c-b7e2-4181-8334-95eb4fe96de9"
      },
      "execution_count": 478,
      "outputs": [
        {
          "output_type": "stream",
          "name": "stdout",
          "text": [
            "Overwriting runfib100.m\n"
          ]
        }
      ]
    },
    {
      "cell_type": "code",
      "source": [
        "!octave -W runfib100.m"
      ],
      "metadata": {
        "colab": {
          "base_uri": "https://localhost:8080/"
        },
        "id": "Wrbq_kMM36Kc",
        "outputId": "c8572aae-bd4a-48e8-c287-7e0ea4ee1dd0"
      },
      "execution_count": 479,
      "outputs": [
        {
          "output_type": "stream",
          "name": "stdout",
          "text": [
            "ans =    6.2932e-04\n"
          ]
        }
      ]
    },
    {
      "cell_type": "code",
      "source": [
        "%%writefile runfib500.m\n",
        "n = 500;\n",
        "fibonacci_direct2edit(n)"
      ],
      "metadata": {
        "colab": {
          "base_uri": "https://localhost:8080/"
        },
        "id": "D1B7Ahfi38bS",
        "outputId": "2f4c9dbd-ad90-4099-8c85-e5ceb6132c7b"
      },
      "execution_count": 480,
      "outputs": [
        {
          "output_type": "stream",
          "name": "stdout",
          "text": [
            "Overwriting runfib500.m\n"
          ]
        }
      ]
    },
    {
      "cell_type": "code",
      "source": [
        "!octave -W runfib500.m"
      ],
      "metadata": {
        "colab": {
          "base_uri": "https://localhost:8080/"
        },
        "id": "Va6w0lrC4Dng",
        "outputId": "e467ba66-5548-4ca8-9289-450a0a20fc8b"
      },
      "execution_count": 481,
      "outputs": [
        {
          "output_type": "stream",
          "name": "stdout",
          "text": [
            "ans =    5.9479e+46\n"
          ]
        }
      ]
    },
    {
      "cell_type": "code",
      "source": [
        "%%writefile runfib5.m\n",
        "n = 5;\n",
        "fibonacci_direct2edit(n)"
      ],
      "metadata": {
        "id": "_1_tgHU24H_X",
        "colab": {
          "base_uri": "https://localhost:8080/"
        },
        "outputId": "89be57f4-886a-4483-f52c-8b081931723a"
      },
      "execution_count": 482,
      "outputs": [
        {
          "output_type": "stream",
          "name": "stdout",
          "text": [
            "Overwriting runfib5.m\n"
          ]
        }
      ]
    },
    {
      "cell_type": "code",
      "source": [
        "!octave -W runfib5.m"
      ],
      "metadata": {
        "colab": {
          "base_uri": "https://localhost:8080/"
        },
        "id": "hUPTZF2M_XI3",
        "outputId": "defb2c55-d313-4985-bdfd-d8c681d17357"
      },
      "execution_count": 483,
      "outputs": [
        {
          "output_type": "stream",
          "name": "stdout",
          "text": [
            "ans =  0.39506\n"
          ]
        }
      ]
    },
    {
      "cell_type": "code",
      "source": [
        "%%writefile horner_recursive.m\n",
        "function p = horner_recursive(a,x)\n",
        "n = length(a) - 1;\n",
        "if n == 0\n",
        "  p = a(n + 1);\n",
        "else\n",
        "  p = horner_recursive(a(2:n+1),x).*x+a(1);\n",
        "end"
      ],
      "metadata": {
        "colab": {
          "base_uri": "https://localhost:8080/"
        },
        "id": "ATvHNXxk_cmX",
        "outputId": "a22a5414-65dc-430c-e79c-253599148fc0"
      },
      "execution_count": 484,
      "outputs": [
        {
          "output_type": "stream",
          "name": "stdout",
          "text": [
            "Overwriting horner_recursive.m\n"
          ]
        }
      ]
    },
    {
      "cell_type": "code",
      "source": [
        "%%writefile runhr.m\n",
        "format long\n",
        "max_recursion_depth(1024)\n",
        "a = [0,1./(1:1000).^2]; % a_0 = 0\n",
        "x = [-1,-.5,.5,1];\n",
        "tic, horner_recursive(a,x), toc"
      ],
      "metadata": {
        "colab": {
          "base_uri": "https://localhost:8080/"
        },
        "id": "CZfsUZtnOEOM",
        "outputId": "3f5981a6-f4b7-4cea-a947-26b3a8aecd06"
      },
      "execution_count": 485,
      "outputs": [
        {
          "output_type": "stream",
          "name": "stdout",
          "text": [
            "Overwriting runhr.m\n"
          ]
        }
      ]
    },
    {
      "cell_type": "code",
      "source": [
        "!octave -W runhr.m"
      ],
      "metadata": {
        "colab": {
          "base_uri": "https://localhost:8080/"
        },
        "id": "I0m8sK-dOwB7",
        "outputId": "619a5841-2e5e-442d-b303-4e776340d5ed"
      },
      "execution_count": 486,
      "outputs": [
        {
          "output_type": "stream",
          "name": "stdout",
          "text": [
            "ans =\n",
            "\n",
            "  -0.822466533924113  -0.448414206923646   0.582240526465013   1.643934566681560\n",
            "\n",
            "Elapsed time is 0.038877 seconds.\n"
          ]
        }
      ]
    },
    {
      "cell_type": "code",
      "source": [
        "%%writefile bisect.m\n",
        "function ab = bisect(f,ab,tol,alfa)\n",
        "a = ab(1); b = ab(2); % assumes a<b\n",
        "if b-a<tol, return; end\n",
        "fa = f(a); % assumes f(a)*f(b)<0\n",
        "v = alfa;\n",
        "if isinf(alfa), v = (1+2*rand)/4; end % random value in [0.25,0.75]\n",
        "x = a+v*(b-a); fx = f(x);\n",
        "if fx*fa < 0\n",
        "  ab = [a,x];\n",
        "else\n",
        "  ab = [x,b];\n",
        "end\n",
        "ab = bisect(f,ab,tol,alfa);"
      ],
      "metadata": {
        "colab": {
          "base_uri": "https://localhost:8080/"
        },
        "id": "x3fgwptUOzEv",
        "outputId": "01bbfabd-0492-4275-9ccb-6740d9de50a3"
      },
      "execution_count": 487,
      "outputs": [
        {
          "output_type": "stream",
          "name": "stdout",
          "text": [
            "Overwriting bisect.m\n"
          ]
        }
      ]
    },
    {
      "cell_type": "code",
      "source": [
        "%%writefile runbisect.m\n",
        "format long\n",
        "f = @(x)x^3-2;\n",
        "ab = [1,2]; % assumes fa*fb<0\n",
        "tol = 1e-15;\n",
        "tic, bisect(f,ab,tol,0.25), toc\n",
        "tic, bisect(f,ab,tol,0.5), toc\n",
        "tic, bisect(f,ab,tol,0.75), toc\n",
        "tic, bisect(f,ab,tol,Inf), toc"
      ],
      "metadata": {
        "colab": {
          "base_uri": "https://localhost:8080/"
        },
        "id": "sfPrqExzV0ex",
        "outputId": "702ec2f2-9b65-4f5b-d0c9-960d909965e1"
      },
      "execution_count": 488,
      "outputs": [
        {
          "output_type": "stream",
          "name": "stdout",
          "text": [
            "Overwriting runbisect.m\n"
          ]
        }
      ]
    },
    {
      "cell_type": "code",
      "source": [
        "!octave -W runbisect.m"
      ],
      "metadata": {
        "colab": {
          "base_uri": "https://localhost:8080/"
        },
        "id": "tN3YCyRCY9CB",
        "outputId": "2733e145-4f36-4b5d-9c5c-51b4d0750bce"
      },
      "execution_count": 489,
      "outputs": [
        {
          "output_type": "stream",
          "name": "stdout",
          "text": [
            "ans =\n",
            "\n",
            "   1.25992104989487   1.25992104989487\n",
            "\n",
            "Elapsed time is 0.00484204 seconds.\n",
            "ans =\n",
            "\n",
            "   1.25992104989487   1.25992104989487\n",
            "\n",
            "Elapsed time is 0.00378203 seconds.\n",
            "ans =\n",
            "\n",
            "   1.25992104989487   1.25992104989487\n",
            "\n",
            "Elapsed time is 0.00747705 seconds.\n",
            "ans =\n",
            "\n",
            "   1.25992104989487   1.25992104989487\n",
            "\n",
            "Elapsed time is 0.005373 seconds.\n"
          ]
        }
      ]
    },
    {
      "cell_type": "code",
      "source": [
        ""
      ],
      "metadata": {
        "id": "jIHr5kIBZXU4"
      },
      "execution_count": 489,
      "outputs": []
    }
  ]
}