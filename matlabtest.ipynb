{
  "nbformat": 4,
  "nbformat_minor": 0,
  "metadata": {
    "colab": {
      "name": "matlabtest.ipynb",
      "provenance": [],
      "collapsed_sections": [],
      "authorship_tag": "ABX9TyNAJnZmwp2Xu9MIieD7U1ba",
      "include_colab_link": true
    },
    "kernelspec": {
      "name": "python3",
      "display_name": "Python 3"
    },
    "language_info": {
      "name": "python"
    }
  },
  "cells": [
    {
      "cell_type": "markdown",
      "metadata": {
        "id": "view-in-github",
        "colab_type": "text"
      },
      "source": [
        "<a href=\"https://colab.research.google.com/github/hyperkraz/MAT421/blob/main/matlabtest.ipynb\" target=\"_parent\"><img src=\"https://colab.research.google.com/assets/colab-badge.svg\" alt=\"Open In Colab\"/></a>"
      ]
    },
    {
      "cell_type": "code",
      "execution_count": 950,
      "metadata": {
        "id": "ClWVuFaNyu0i"
      },
      "outputs": [],
      "source": [
        ""
      ]
    },
    {
      "cell_type": "markdown",
      "source": [
        "matlab fun"
      ],
      "metadata": {
        "id": "KRRFjxdsyyGZ"
      }
    },
    {
      "cell_type": "code",
      "source": [
        "!apt install octave"
      ],
      "metadata": {
        "colab": {
          "base_uri": "https://localhost:8080/"
        },
        "id": "TAbwm8vQyzI4",
        "outputId": "d4948a6c-f6d5-4ffd-d45d-d07cab20b20d"
      },
      "execution_count": 951,
      "outputs": [
        {
          "output_type": "stream",
          "name": "stdout",
          "text": [
            "Reading package lists... Done\n",
            "Building dependency tree       \n",
            "Reading state information... Done\n",
            "octave is already the newest version (4.2.2-1ubuntu1).\n",
            "The following packages were automatically installed and are no longer required:\n",
            "  cuda-command-line-tools-10-0 cuda-command-line-tools-10-1\n",
            "  cuda-command-line-tools-11-0 cuda-compiler-10-0 cuda-compiler-10-1\n",
            "  cuda-compiler-11-0 cuda-cuobjdump-10-0 cuda-cuobjdump-10-1\n",
            "  cuda-cuobjdump-11-0 cuda-cupti-10-0 cuda-cupti-10-1 cuda-cupti-11-0\n",
            "  cuda-cupti-dev-11-0 cuda-documentation-10-0 cuda-documentation-10-1\n",
            "  cuda-documentation-11-0 cuda-documentation-11-1 cuda-gdb-10-0 cuda-gdb-10-1\n",
            "  cuda-gdb-11-0 cuda-gpu-library-advisor-10-0 cuda-gpu-library-advisor-10-1\n",
            "  cuda-libraries-10-0 cuda-libraries-10-1 cuda-libraries-11-0\n",
            "  cuda-memcheck-10-0 cuda-memcheck-10-1 cuda-memcheck-11-0 cuda-nsight-10-0\n",
            "  cuda-nsight-10-1 cuda-nsight-11-0 cuda-nsight-11-1 cuda-nsight-compute-10-0\n",
            "  cuda-nsight-compute-10-1 cuda-nsight-compute-11-0 cuda-nsight-compute-11-1\n",
            "  cuda-nsight-systems-10-1 cuda-nsight-systems-11-0 cuda-nsight-systems-11-1\n",
            "  cuda-nvcc-10-0 cuda-nvcc-10-1 cuda-nvcc-11-0 cuda-nvdisasm-10-0\n",
            "  cuda-nvdisasm-10-1 cuda-nvdisasm-11-0 cuda-nvml-dev-10-0 cuda-nvml-dev-10-1\n",
            "  cuda-nvml-dev-11-0 cuda-nvprof-10-0 cuda-nvprof-10-1 cuda-nvprof-11-0\n",
            "  cuda-nvprune-10-0 cuda-nvprune-10-1 cuda-nvprune-11-0 cuda-nvtx-10-0\n",
            "  cuda-nvtx-10-1 cuda-nvtx-11-0 cuda-nvvp-10-0 cuda-nvvp-10-1 cuda-nvvp-11-0\n",
            "  cuda-nvvp-11-1 cuda-samples-10-0 cuda-samples-10-1 cuda-samples-11-0\n",
            "  cuda-samples-11-1 cuda-sanitizer-11-0 cuda-sanitizer-api-10-1\n",
            "  cuda-toolkit-10-0 cuda-toolkit-10-1 cuda-toolkit-11-0 cuda-toolkit-11-1\n",
            "  cuda-tools-10-0 cuda-tools-10-1 cuda-tools-11-0 cuda-tools-11-1\n",
            "  cuda-visual-tools-10-0 cuda-visual-tools-10-1 cuda-visual-tools-11-0\n",
            "  cuda-visual-tools-11-1 default-jre dkms freeglut3 freeglut3-dev\n",
            "  keyboard-configuration libargon2-0 libcap2 libcryptsetup12\n",
            "  libdevmapper1.02.1 libfontenc1 libip4tc0 libjansson4 libnvidia-cfg1-510\n",
            "  libnvidia-common-460 libnvidia-common-510 libnvidia-extra-510\n",
            "  libnvidia-fbc1-510 libnvidia-gl-510 libpam-systemd libpolkit-agent-1-0\n",
            "  libpolkit-backend-1-0 libpolkit-gobject-1-0 libxfont2 libxi-dev libxkbfile1\n",
            "  libxmu-dev libxmu-headers libxnvctrl0 libxtst6 nsight-compute-2020.2.1\n",
            "  nsight-compute-2022.1.0 nsight-systems-2020.3.2 nsight-systems-2020.3.4\n",
            "  nsight-systems-2021.5.2 nvidia-dkms-510 nvidia-kernel-common-510\n",
            "  nvidia-kernel-source-510 nvidia-modprobe nvidia-settings openjdk-11-jre\n",
            "  policykit-1 policykit-1-gnome python3-xkit screen-resolution-extra systemd\n",
            "  systemd-sysv udev x11-xkb-utils xserver-common xserver-xorg-core-hwe-18.04\n",
            "  xserver-xorg-video-nvidia-510\n",
            "Use 'apt autoremove' to remove them.\n",
            "0 upgraded, 0 newly installed, 0 to remove and 39 not upgraded.\n"
          ]
        }
      ]
    },
    {
      "cell_type": "code",
      "source": [
        "%%writefile add.m\n",
        "x = 1\n",
        "y = 2\n",
        "display(x+y)"
      ],
      "metadata": {
        "colab": {
          "base_uri": "https://localhost:8080/"
        },
        "id": "U-9XLEJ2y1Il",
        "outputId": "d9d0c4bf-fe09-4264-91ed-abce5c1162cc"
      },
      "execution_count": 952,
      "outputs": [
        {
          "output_type": "stream",
          "name": "stdout",
          "text": [
            "Overwriting add.m\n"
          ]
        }
      ]
    },
    {
      "cell_type": "code",
      "source": [
        "!octave -W add.m"
      ],
      "metadata": {
        "colab": {
          "base_uri": "https://localhost:8080/"
        },
        "id": "GiccnDBOzV9N",
        "outputId": "b3b6f0a6-f01d-4998-8c08-f55bed9c5a46"
      },
      "execution_count": 953,
      "outputs": [
        {
          "output_type": "stream",
          "name": "stdout",
          "text": [
            "x =  1\n",
            "y =  2\n",
            " 3\n"
          ]
        }
      ]
    },
    {
      "cell_type": "code",
      "source": [
        "%%writefile power_recursive.m\n",
        "function a = power_recursive(a,n)\n",
        "if n==1, return; end\n",
        "a = a*power_recursive(a,n-1);"
      ],
      "metadata": {
        "colab": {
          "base_uri": "https://localhost:8080/"
        },
        "id": "BjU5cBQmzang",
        "outputId": "b5c278f7-da4b-4715-85c4-c49fa1cbc44e"
      },
      "execution_count": 954,
      "outputs": [
        {
          "output_type": "stream",
          "name": "stdout",
          "text": [
            "Overwriting power_recursive.m\n"
          ]
        }
      ]
    },
    {
      "cell_type": "code",
      "source": [
        "%%writefile power_divideconquer.m\n",
        "function a = power_divideconquer(a,n)\n",
        "if n==1, return; end % nothing to do: output a same as input\n",
        "if mod(n,2) % remainder of n/2; = 1 (True) if n odd, = 0 (False) if n even\n",
        "  a = power_divideconquer(a,(n-1)/2)*power_divideconquer(a,(n+1)/2); % n odd\n",
        "else\n",
        "  a = power_divideconquer(a,n/2)^2; % n even\n",
        "end"
      ],
      "metadata": {
        "colab": {
          "base_uri": "https://localhost:8080/"
        },
        "id": "Oa5qeObfM1zv",
        "outputId": "13342c95-0ce8-4543-e641-245feab77968"
      },
      "execution_count": 955,
      "outputs": [
        {
          "output_type": "stream",
          "name": "stdout",
          "text": [
            "Overwriting power_divideconquer.m\n"
          ]
        }
      ]
    },
    {
      "cell_type": "code",
      "source": [
        "%%writefile power_mixed.m\n",
        "function a = power_mixed(a,n)\n",
        "if n==1, return; end % nothing to do: output a same as input\n",
        "if mod(n,2) % remainder of n/2; = 1 (True) if n odd, = 0 (False) if n even\n",
        "  a = a*power_mixed(a,n-1); % n odd\n",
        "else\n",
        "  a = power_mixed(a,n/2)^2; % n even\n",
        "end"
      ],
      "metadata": {
        "colab": {
          "base_uri": "https://localhost:8080/"
        },
        "id": "Xm-l3W-fNreJ",
        "outputId": "2d33b958-c843-4917-fd49-7d3943cf28cf"
      },
      "execution_count": 956,
      "outputs": [
        {
          "output_type": "stream",
          "name": "stdout",
          "text": [
            "Overwriting power_mixed.m\n"
          ]
        }
      ]
    },
    {
      "cell_type": "code",
      "source": [
        "%%writefile power_direct.m\n",
        "function an = power_direct(a,n)\n",
        "an = a;\n",
        "for k = 1:n-1\n",
        "  an = a*an;\n",
        "end"
      ],
      "metadata": {
        "colab": {
          "base_uri": "https://localhost:8080/"
        },
        "id": "CdMeRHMxOADK",
        "outputId": "2c3ab7f4-eeeb-4c8c-8685-915507d3bc16"
      },
      "execution_count": 957,
      "outputs": [
        {
          "output_type": "stream",
          "name": "stdout",
          "text": [
            "Overwriting power_direct.m\n"
          ]
        }
      ]
    },
    {
      "cell_type": "code",
      "source": [
        "%%writefile power_mixed_direct.m\n",
        "function an = power_mixed_direct(a,n)\n",
        "steps = [];\n",
        "while n>1\n",
        "  if mod(n,2)\n",
        "    n = n-1; steps = [steps, 1]; % n odd\n",
        "  else\n",
        "    n = n/2; steps = [steps, 0]; % n even\n",
        "  end\n",
        "end\n",
        "an = a;\n",
        "for k = length(steps):-1:1\n",
        "  if steps(k)\n",
        "    an = a*an; % odd step\n",
        "  else\n",
        "    an = an^2; % even step\n",
        "  end\n",
        "end"
      ],
      "metadata": {
        "colab": {
          "base_uri": "https://localhost:8080/"
        },
        "id": "fB_OhkAxf-mk",
        "outputId": "abc1a958-6657-483a-d9a8-a48c7fafeb71"
      },
      "execution_count": 958,
      "outputs": [
        {
          "output_type": "stream",
          "name": "stdout",
          "text": [
            "Overwriting power_mixed_direct.m\n"
          ]
        }
      ]
    },
    {
      "cell_type": "code",
      "source": [
        "%%writefile runpr.m\n",
        "format long % more digits in output compared to default format short\n",
        "%set(0,'max_recursion_depth',1021) % reset recursion limit\n",
        "max_recursion_depth(1024)\n",
        "A = [1 1;1 0];\n",
        "r = max(abs(eig(A))); % spectral radius of A\n",
        "a = A/r; % spectral radius of a is 1, equal to 2-norm of A (symmetric)\n",
        "n = 1019;\n",
        "tic, power_recursive(a,n), toc\n",
        "tic, power_divideconquer(a,n), toc\n",
        "tic, power_mixed(a,n), toc\n",
        "tic, power_direct(A,n), toc\n",
        "tic, power_mixed_direct(A,n), toc\n",
        "tic, a^n, toc"
      ],
      "metadata": {
        "colab": {
          "base_uri": "https://localhost:8080/"
        },
        "id": "OApagEBG0SMS",
        "outputId": "dfad8f21-9cd3-42d5-96f3-001031c4a117"
      },
      "execution_count": 959,
      "outputs": [
        {
          "output_type": "stream",
          "name": "stdout",
          "text": [
            "Overwriting runpr.m\n"
          ]
        }
      ]
    },
    {
      "cell_type": "code",
      "source": [
        "!octave -W runpr.m"
      ],
      "metadata": {
        "colab": {
          "base_uri": "https://localhost:8080/"
        },
        "id": "UuiHf1c80eFv",
        "outputId": "e6b0691a-9cc1-40fa-967f-8329de06efd3"
      },
      "execution_count": 960,
      "outputs": [
        {
          "output_type": "stream",
          "name": "stdout",
          "text": [
            "ans =\n",
            "\n",
            "   0.723606797749975   0.447213595499956\n",
            "   0.447213595499956   0.276393202250020\n",
            "\n",
            "Elapsed time is 0.0358729 seconds.\n",
            "ans =\n",
            "\n",
            "   0.723606797749911   0.447213595499916\n",
            "   0.447213595499916   0.276393202249995\n",
            "\n",
            "Elapsed time is 0.00358391 seconds.\n",
            "ans =\n",
            "\n",
            "   0.723606797749932   0.447213595499929\n",
            "   0.447213595499929   0.276393202250003\n",
            "\n",
            "Elapsed time is 0.000949144 seconds.\n",
            "ans =\n",
            "\n",
            "   6.57518615256860e+212   4.06368852464505e+212\n",
            "   4.06368852464505e+212   2.51149762792355e+212\n",
            "\n",
            "Elapsed time is 0.00301909 seconds.\n",
            "ans =\n",
            "\n",
            "   6.57518615256860e+212   4.06368852464505e+212\n",
            "   4.06368852464505e+212   2.51149762792356e+212\n",
            "\n",
            "Elapsed time is 0.000870943 seconds.\n",
            "ans =\n",
            "\n",
            "   0.723606797749911   0.447213595499916\n",
            "   0.447213595499916   0.276393202249995\n",
            "\n",
            "Elapsed time is 7.58171e-05 seconds.\n"
          ]
        }
      ]
    },
    {
      "cell_type": "code",
      "source": [
        "%%writefile fibonacci_direct2.m\n",
        "function F = fibonacci_direct2(n)\n",
        "if n==0\n",
        "  F = 0;\n",
        "else\n",
        "  Fn1 = 0; F = 1;\n",
        "  for k = 2:n\n",
        "    Fn2 = Fn1; Fn1 = F;\n",
        "    F = Fn1+Fn2;\n",
        "  end\n",
        "end"
      ],
      "metadata": {
        "id": "vnWkc4200nI1",
        "colab": {
          "base_uri": "https://localhost:8080/"
        },
        "outputId": "ba837aaf-cdc8-4867-d4da-566ae4e60f60"
      },
      "execution_count": 961,
      "outputs": [
        {
          "output_type": "stream",
          "name": "stdout",
          "text": [
            "Overwriting fibonacci_direct2.m\n"
          ]
        }
      ]
    },
    {
      "cell_type": "code",
      "source": [
        "%%writefile fibonacci_direct2edit.m\n",
        "function F = fibonacci_direct2edit(n)\n",
        "if n==0\n",
        "  F = 3;\n",
        "else\n",
        "  Fn1 = 3; F = 2;\n",
        "  for k = 2:n\n",
        "    Fn2 = Fn1; Fn1 = F;\n",
        "    F = (2*Fn1) - (rdivide((8*(Fn2)), 9));\n",
        "  end\n",
        "end"
      ],
      "metadata": {
        "colab": {
          "base_uri": "https://localhost:8080/"
        },
        "id": "WgpQlmYxzVID",
        "outputId": "eab5ab8e-a002-4ad5-9689-a9ce52144ed1"
      },
      "execution_count": 962,
      "outputs": [
        {
          "output_type": "stream",
          "name": "stdout",
          "text": [
            "Overwriting fibonacci_direct2edit.m\n"
          ]
        }
      ]
    },
    {
      "cell_type": "code",
      "source": [
        "%%writefile runfib40.m\n",
        "n = 40;\n",
        "fibonacci_direct2edit(n)"
      ],
      "metadata": {
        "colab": {
          "base_uri": "https://localhost:8080/"
        },
        "id": "7FI39o7Gym1k",
        "outputId": "3ecd203b-2ae4-4df7-e2a4-53fbb2f06759"
      },
      "execution_count": 963,
      "outputs": [
        {
          "output_type": "stream",
          "name": "stdout",
          "text": [
            "Overwriting runfib40.m\n"
          ]
        }
      ]
    },
    {
      "cell_type": "code",
      "source": [
        "!octave -W runfib40.m"
      ],
      "metadata": {
        "colab": {
          "base_uri": "https://localhost:8080/"
        },
        "id": "BX0n9vBKycI2",
        "outputId": "0db42b76-8ce6-49c5-fcab-49d390f8b305"
      },
      "execution_count": 964,
      "outputs": [
        {
          "output_type": "stream",
          "name": "stdout",
          "text": [
            "ans =    2.7133e-07\n"
          ]
        }
      ]
    },
    {
      "cell_type": "code",
      "source": [
        "%%writefile runfib60.m\n",
        "n = 60;\n",
        "fibonacci_direct2edit(n)"
      ],
      "metadata": {
        "colab": {
          "base_uri": "https://localhost:8080/"
        },
        "id": "e8NEL-bVy0Pc",
        "outputId": "b10c3f8f-fb79-4111-8f2e-10616f2dd198"
      },
      "execution_count": 965,
      "outputs": [
        {
          "output_type": "stream",
          "name": "stdout",
          "text": [
            "Overwriting runfib60.m\n"
          ]
        }
      ]
    },
    {
      "cell_type": "code",
      "source": [
        "!octave -W runfib60.m"
      ],
      "metadata": {
        "colab": {
          "base_uri": "https://localhost:8080/"
        },
        "id": "OH-02Y6N2kQs",
        "outputId": "9d9545f9-ceae-488c-9c19-3dd512887038"
      },
      "execution_count": 966,
      "outputs": [
        {
          "output_type": "stream",
          "name": "stdout",
          "text": [
            "ans =    6.4104e-09\n"
          ]
        }
      ]
    },
    {
      "cell_type": "code",
      "source": [
        "%%writefile runfib100.m\n",
        "n = 100;\n",
        "fibonacci_direct2edit(n)"
      ],
      "metadata": {
        "colab": {
          "base_uri": "https://localhost:8080/"
        },
        "id": "TP3UuuM-3BMH",
        "outputId": "7344aad7-f7da-493a-8763-7aa1ae1dd3e2"
      },
      "execution_count": 967,
      "outputs": [
        {
          "output_type": "stream",
          "name": "stdout",
          "text": [
            "Overwriting runfib100.m\n"
          ]
        }
      ]
    },
    {
      "cell_type": "code",
      "source": [
        "!octave -W runfib100.m"
      ],
      "metadata": {
        "colab": {
          "base_uri": "https://localhost:8080/"
        },
        "id": "Wrbq_kMM36Kc",
        "outputId": "33c8dc17-12d6-43e0-ad9e-fd5be7f13b27"
      },
      "execution_count": 968,
      "outputs": [
        {
          "output_type": "stream",
          "name": "stdout",
          "text": [
            "ans =    6.2932e-04\n"
          ]
        }
      ]
    },
    {
      "cell_type": "code",
      "source": [
        "%%writefile runfib500.m\n",
        "n = 500;\n",
        "fibonacci_direct2edit(n)"
      ],
      "metadata": {
        "colab": {
          "base_uri": "https://localhost:8080/"
        },
        "id": "D1B7Ahfi38bS",
        "outputId": "dc8f87c1-3a84-423e-f0af-b9a9eef93496"
      },
      "execution_count": 969,
      "outputs": [
        {
          "output_type": "stream",
          "name": "stdout",
          "text": [
            "Overwriting runfib500.m\n"
          ]
        }
      ]
    },
    {
      "cell_type": "code",
      "source": [
        "!octave -W runfib500.m"
      ],
      "metadata": {
        "colab": {
          "base_uri": "https://localhost:8080/"
        },
        "id": "Va6w0lrC4Dng",
        "outputId": "fa559b4c-e7d0-42b3-d40f-0f70a5362266"
      },
      "execution_count": 970,
      "outputs": [
        {
          "output_type": "stream",
          "name": "stdout",
          "text": [
            "ans =    5.9479e+46\n"
          ]
        }
      ]
    },
    {
      "cell_type": "code",
      "source": [
        "%%writefile runfib5.m\n",
        "n = 5;\n",
        "fibonacci_direct2edit(n)"
      ],
      "metadata": {
        "id": "_1_tgHU24H_X",
        "colab": {
          "base_uri": "https://localhost:8080/"
        },
        "outputId": "03d57cdb-de68-41bb-a0ef-1249132fcd8c"
      },
      "execution_count": 971,
      "outputs": [
        {
          "output_type": "stream",
          "name": "stdout",
          "text": [
            "Overwriting runfib5.m\n"
          ]
        }
      ]
    },
    {
      "cell_type": "code",
      "source": [
        "!octave -W runfib5.m"
      ],
      "metadata": {
        "colab": {
          "base_uri": "https://localhost:8080/"
        },
        "id": "hUPTZF2M_XI3",
        "outputId": "3b16c505-da41-43fb-b70a-ec0e42547998"
      },
      "execution_count": 972,
      "outputs": [
        {
          "output_type": "stream",
          "name": "stdout",
          "text": [
            "ans =  0.39506\n"
          ]
        }
      ]
    },
    {
      "cell_type": "code",
      "source": [
        "%%writefile horner_recursive.m\n",
        "function p = horner_recursive(a,x)\n",
        "n = length(a) - 1;\n",
        "if n == 0\n",
        "  p = a(n + 1);\n",
        "else\n",
        "  p = horner_recursive(a(2:n+1),x).*x+a(1);\n",
        "end"
      ],
      "metadata": {
        "colab": {
          "base_uri": "https://localhost:8080/"
        },
        "id": "ATvHNXxk_cmX",
        "outputId": "e277130f-c5b9-4825-c180-9745ccbdc777"
      },
      "execution_count": 973,
      "outputs": [
        {
          "output_type": "stream",
          "name": "stdout",
          "text": [
            "Overwriting horner_recursive.m\n"
          ]
        }
      ]
    },
    {
      "cell_type": "code",
      "source": [
        "%%writefile runhr.m\n",
        "format long\n",
        "max_recursion_depth(1024)\n",
        "a = [0,1./(1:1000).^2]; % a_0 = 0\n",
        "x = [-1,-.5,.5,1];\n",
        "tic, horner_recursive(a,x), toc"
      ],
      "metadata": {
        "colab": {
          "base_uri": "https://localhost:8080/"
        },
        "id": "CZfsUZtnOEOM",
        "outputId": "5c59d25b-c0d6-4876-8c58-6262699705aa"
      },
      "execution_count": 974,
      "outputs": [
        {
          "output_type": "stream",
          "name": "stdout",
          "text": [
            "Overwriting runhr.m\n"
          ]
        }
      ]
    },
    {
      "cell_type": "code",
      "source": [
        "!octave -W runhr.m"
      ],
      "metadata": {
        "colab": {
          "base_uri": "https://localhost:8080/"
        },
        "id": "I0m8sK-dOwB7",
        "outputId": "c7fe717c-e1f0-4941-df28-5f53a15e270a"
      },
      "execution_count": 975,
      "outputs": [
        {
          "output_type": "stream",
          "name": "stdout",
          "text": [
            "ans =\n",
            "\n",
            "  -0.822466533924113  -0.448414206923646   0.582240526465013   1.643934566681560\n",
            "\n",
            "Elapsed time is 0.0445051 seconds.\n"
          ]
        }
      ]
    },
    {
      "cell_type": "code",
      "source": [
        "%%writefile bisect.m\n",
        "function ab = bisect(f,ab,tol,alfa)\n",
        "a = ab(1); b = ab(2); % assumes a<b\n",
        "if b-a<tol, return; end\n",
        "fa = f(a); % assumes f(a)*f(b)<0\n",
        "v = alfa;\n",
        "if isinf(alfa), v = (1+2*rand)/4; end % random value in [0.25,0.75]\n",
        "x = a+v*(b-a); fx = f(x);\n",
        "if fx*fa < 0\n",
        "  ab = [a,x];\n",
        "else\n",
        "  ab = [x,b];\n",
        "end\n",
        "ab = bisect(f,ab,tol,alfa);"
      ],
      "metadata": {
        "colab": {
          "base_uri": "https://localhost:8080/"
        },
        "id": "x3fgwptUOzEv",
        "outputId": "ffd0f686-913e-437c-d7d3-8dcbb08cfd7e"
      },
      "execution_count": 976,
      "outputs": [
        {
          "output_type": "stream",
          "name": "stdout",
          "text": [
            "Overwriting bisect.m\n"
          ]
        }
      ]
    },
    {
      "cell_type": "code",
      "source": [
        "%%writefile runbisect.m\n",
        "format long\n",
        "f = @(x)x^3-2;\n",
        "ab = [1,2]; % assumes fa*fb<0\n",
        "tol = 1e-15;\n",
        "tic, bisect(f,ab,tol,0.25), toc\n",
        "tic, bisect(f,ab,tol,0.5), toc\n",
        "tic, bisect(f,ab,tol,0.75), toc\n",
        "tic, bisect(f,ab,tol,Inf), toc"
      ],
      "metadata": {
        "colab": {
          "base_uri": "https://localhost:8080/"
        },
        "id": "sfPrqExzV0ex",
        "outputId": "b2b4a1a2-05db-4107-9360-f783cbccd902"
      },
      "execution_count": 977,
      "outputs": [
        {
          "output_type": "stream",
          "name": "stdout",
          "text": [
            "Overwriting runbisect.m\n"
          ]
        }
      ]
    },
    {
      "cell_type": "code",
      "source": [
        "!octave -W runbisect.m"
      ],
      "metadata": {
        "colab": {
          "base_uri": "https://localhost:8080/"
        },
        "id": "tN3YCyRCY9CB",
        "outputId": "fcac543e-05de-44cb-f223-6d3ed9879eeb"
      },
      "execution_count": 978,
      "outputs": [
        {
          "output_type": "stream",
          "name": "stdout",
          "text": [
            "ans =\n",
            "\n",
            "   1.25992104989487   1.25992104989487\n",
            "\n",
            "Elapsed time is 0.00465202 seconds.\n",
            "ans =\n",
            "\n",
            "   1.25992104989487   1.25992104989487\n",
            "\n",
            "Elapsed time is 0.00345683 seconds.\n",
            "ans =\n",
            "\n",
            "   1.25992104989487   1.25992104989487\n",
            "\n",
            "Elapsed time is 0.00415301 seconds.\n",
            "ans =\n",
            "\n",
            "   1.25992104989487   1.25992104989487\n",
            "\n",
            "Elapsed time is 0.00436401 seconds.\n"
          ]
        }
      ]
    },
    {
      "cell_type": "code",
      "source": [
        "%%writefile insertion.m\n",
        "function x = insertion(x)\n",
        "n = length(x);\n",
        "for i = 2:n\n",
        "  j = i-1;\n",
        "  xi = x(i);\n",
        "  while j>=1 && xi<x(j), j = j-1; end % continue until a smaller coefficient is found\n",
        "  x = [x(1:j),xi,x(j+1:i-1),x(i+1:end)]; % move xi after x(j) (<=xi)\n",
        "end"
      ],
      "metadata": {
        "colab": {
          "base_uri": "https://localhost:8080/"
        },
        "id": "jIHr5kIBZXU4",
        "outputId": "6d7bc32e-314c-4928-f9bc-36ceebccf5a7"
      },
      "execution_count": 979,
      "outputs": [
        {
          "output_type": "stream",
          "name": "stdout",
          "text": [
            "Overwriting insertion.m\n"
          ]
        }
      ]
    },
    {
      "cell_type": "code",
      "source": [
        "%%writefile msort.m\n",
        "function x = msort(x)\n",
        "n = length(x);\n",
        "m = fix(n/2);\n",
        "if n>1  \n",
        "  x1 = msort(x(1:m));\n",
        "  x2 = msort(x(m+1:end));\n",
        "  x = sort([x1, x2]);\n",
        "  m = fix(n/2);\n",
        "end"
      ],
      "metadata": {
        "colab": {
          "base_uri": "https://localhost:8080/"
        },
        "id": "7npeHOF2o4QX",
        "outputId": "926b0bb6-270d-4e61-e01a-7fbf404351bd"
      },
      "execution_count": 980,
      "outputs": [
        {
          "output_type": "stream",
          "name": "stdout",
          "text": [
            "Overwriting msort.m\n"
          ]
        }
      ]
    },
    {
      "cell_type": "code",
      "source": [
        "%%writefile quicksort.m\n",
        "function x = quicksort(x)\n",
        "n = length(x);\n",
        "if n>1\n",
        "  m = floor(n/2);\n",
        "  i1 = 1;\n",
        "  i2 = 1;\n",
        "  x1 = [];\n",
        "  x2 = [];\n",
        "  xm = x(m);\n",
        "  for i = 1:n\n",
        "    if i~=m\n",
        "      if x(i)<xm\n",
        "        x1(i1) = x(i);\n",
        "        i1 = i1+1;\n",
        "      else\n",
        "        x2(i2) = x(i);\n",
        "        i2 = i2+1;\n",
        "      end\n",
        "    end\n",
        "  end\n",
        "  x1 = quicksort(x1);\n",
        "  x2 = quicksort(x2);\n",
        "  x = [x1,xm,x2];\n",
        "end"
      ],
      "metadata": {
        "colab": {
          "base_uri": "https://localhost:8080/"
        },
        "id": "V5reWTVqpDbi",
        "outputId": "889a7233-d325-4f5a-f5e8-2c60674448df"
      },
      "execution_count": 981,
      "outputs": [
        {
          "output_type": "stream",
          "name": "stdout",
          "text": [
            "Overwriting quicksort.m\n"
          ]
        }
      ]
    },
    {
      "cell_type": "code",
      "source": [
        "%%writefile runsorts.m\n",
        "max_recursion_depth(32768)\n",
        "\n",
        "x = sort(rand(1,2000));\n",
        "n = 2000\n",
        "\n",
        "z = round(10*rand(1,10))\n",
        "insertion(z)\n",
        "msort(z)\n",
        "quicksort(z)\n",
        "sort(z)\n",
        "\n",
        "%tic, sort(x); toc\n",
        "\n",
        "fprintf('\\n')\n",
        "\n",
        "%a\n",
        "fprintf('Part a:')\n",
        "fprintf('\\n')\n",
        "tic, insertion(x); toc\n",
        "tic, msort(x); toc\n",
        "tic, quicksort(x); toc\n",
        "fprintf('\\n')\n",
        "\n",
        "%b\n",
        "fprintf('Part b:')\n",
        "fprintf('\\n')\n",
        "tic, insertion(x(n:-1:1)); toc\n",
        "tic, msort(x(n:-1:1)); toc\n",
        "tic, quicksort(x(n:-1:1)); toc\n",
        "fprintf('\\n')\n",
        "\n",
        "%c\n",
        "fprintf('Part c:')\n",
        "fprintf('\\n')\n",
        "tic, insertion(x([1:2:n,2:2:n])); toc\n",
        "tic, msort(x([1:2:n,2:2:n])); toc\n",
        "tic, quicksort(x([1:2:n,2:2:n])); toc\n",
        "fprintf('\\n')\n",
        "\n",
        "%d\n",
        "fprintf('Part d:')\n",
        "fprintf('\\n')\n",
        "tic, insertion(x(randperm(n))); toc\n",
        "tic, msort(x(randperm(n))); toc\n",
        "tic, quicksort(x(randperm(n))); toc\n",
        "fprintf('\\n')\n"
      ],
      "metadata": {
        "colab": {
          "base_uri": "https://localhost:8080/"
        },
        "id": "PZqk7a5Aqdib",
        "outputId": "7e7497b7-5910-4c1e-8ba6-22de87fa5581"
      },
      "execution_count": 982,
      "outputs": [
        {
          "output_type": "stream",
          "name": "stdout",
          "text": [
            "Overwriting runsorts.m\n"
          ]
        }
      ]
    },
    {
      "cell_type": "code",
      "source": [
        "!octave -W runsorts.m"
      ],
      "metadata": {
        "colab": {
          "base_uri": "https://localhost:8080/"
        },
        "id": "wZSKkXZpq4Be",
        "outputId": "45b3ea85-709f-4a05-acb1-106c8d441f0a"
      },
      "execution_count": 983,
      "outputs": [
        {
          "output_type": "stream",
          "name": "stdout",
          "text": [
            "n =  2000\n",
            "z =\n",
            "\n",
            "   0   3   0   5   1   3   7   5   1   4\n",
            "\n",
            "ans =\n",
            "\n",
            "   0   0   1   1   3   3   4   5   5   7\n",
            "\n",
            "ans =\n",
            "\n",
            "   0   0   1   1   3   3   4   5   5   7\n",
            "\n",
            "ans =\n",
            "\n",
            "   0   0   1   1   3   3   4   5   5   7\n",
            "\n",
            "ans =\n",
            "\n",
            "   0   0   1   1   3   3   4   5   5   7\n",
            "\n",
            "\n",
            "Part a:\n",
            "Elapsed time is 0.0783739 seconds.\n",
            "Elapsed time is 0.110371 seconds.\n",
            "Elapsed time is 0.238962 seconds.\n",
            "\n",
            "Part b:\n",
            "Elapsed time is 8.99784 seconds.\n",
            "Elapsed time is 0.107073 seconds.\n",
            "Elapsed time is 0.245835 seconds.\n",
            "\n",
            "Part c:\n",
            "Elapsed time is 2.29133 seconds.\n",
            "Elapsed time is 0.109493 seconds.\n",
            "Elapsed time is 9.52799 seconds.\n",
            "\n",
            "Part d:\n",
            "Elapsed time is 4.5575 seconds.\n",
            "Elapsed time is 0.107879 seconds.\n",
            "Elapsed time is 0.281607 seconds.\n",
            "\n"
          ]
        }
      ]
    },
    {
      "cell_type": "code",
      "source": [
        ""
      ],
      "metadata": {
        "id": "F-q2sn_6q-cb"
      },
      "execution_count": 983,
      "outputs": []
    }
  ]
}