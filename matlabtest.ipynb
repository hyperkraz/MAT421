{
  "nbformat": 4,
  "nbformat_minor": 0,
  "metadata": {
    "colab": {
      "name": "matlabtest.ipynb",
      "provenance": [],
      "collapsed_sections": [],
      "authorship_tag": "ABX9TyOuNRvhE+hPDqrC/FXnHw+B",
      "include_colab_link": true
    },
    "kernelspec": {
      "name": "python3",
      "display_name": "Python 3"
    },
    "language_info": {
      "name": "python"
    }
  },
  "cells": [
    {
      "cell_type": "markdown",
      "metadata": {
        "id": "view-in-github",
        "colab_type": "text"
      },
      "source": [
        "<a href=\"https://colab.research.google.com/github/hyperkraz/MAT421/blob/main/matlabtest.ipynb\" target=\"_parent\"><img src=\"https://colab.research.google.com/assets/colab-badge.svg\" alt=\"Open In Colab\"/></a>"
      ]
    },
    {
      "cell_type": "code",
      "execution_count": 295,
      "metadata": {
        "id": "ClWVuFaNyu0i"
      },
      "outputs": [],
      "source": [
        ""
      ]
    },
    {
      "cell_type": "markdown",
      "source": [
        "matlab fun"
      ],
      "metadata": {
        "id": "KRRFjxdsyyGZ"
      }
    },
    {
      "cell_type": "code",
      "source": [
        "!apt install octave"
      ],
      "metadata": {
        "colab": {
          "base_uri": "https://localhost:8080/"
        },
        "id": "TAbwm8vQyzI4",
        "outputId": "ecf3f2ae-4de7-4d2e-955e-1d026ee2b28a"
      },
      "execution_count": 296,
      "outputs": [
        {
          "output_type": "stream",
          "name": "stdout",
          "text": [
            "Reading package lists... Done\n",
            "Building dependency tree       \n",
            "Reading state information... Done\n",
            "octave is already the newest version (4.2.2-1ubuntu1).\n",
            "The following packages were automatically installed and are no longer required:\n",
            "  cuda-command-line-tools-10-0 cuda-command-line-tools-10-1\n",
            "  cuda-command-line-tools-11-0 cuda-compiler-10-0 cuda-compiler-10-1\n",
            "  cuda-compiler-11-0 cuda-cuobjdump-10-0 cuda-cuobjdump-10-1\n",
            "  cuda-cuobjdump-11-0 cuda-cupti-10-0 cuda-cupti-10-1 cuda-cupti-11-0\n",
            "  cuda-cupti-dev-11-0 cuda-documentation-10-0 cuda-documentation-10-1\n",
            "  cuda-documentation-11-0 cuda-documentation-11-1 cuda-gdb-10-0 cuda-gdb-10-1\n",
            "  cuda-gdb-11-0 cuda-gpu-library-advisor-10-0 cuda-gpu-library-advisor-10-1\n",
            "  cuda-libraries-10-0 cuda-libraries-10-1 cuda-libraries-11-0\n",
            "  cuda-memcheck-10-0 cuda-memcheck-10-1 cuda-memcheck-11-0 cuda-nsight-10-0\n",
            "  cuda-nsight-10-1 cuda-nsight-11-0 cuda-nsight-11-1 cuda-nsight-compute-10-0\n",
            "  cuda-nsight-compute-10-1 cuda-nsight-compute-11-0 cuda-nsight-compute-11-1\n",
            "  cuda-nsight-systems-10-1 cuda-nsight-systems-11-0 cuda-nsight-systems-11-1\n",
            "  cuda-nvcc-10-0 cuda-nvcc-10-1 cuda-nvcc-11-0 cuda-nvdisasm-10-0\n",
            "  cuda-nvdisasm-10-1 cuda-nvdisasm-11-0 cuda-nvml-dev-10-0 cuda-nvml-dev-10-1\n",
            "  cuda-nvml-dev-11-0 cuda-nvprof-10-0 cuda-nvprof-10-1 cuda-nvprof-11-0\n",
            "  cuda-nvprune-10-0 cuda-nvprune-10-1 cuda-nvprune-11-0 cuda-nvtx-10-0\n",
            "  cuda-nvtx-10-1 cuda-nvtx-11-0 cuda-nvvp-10-0 cuda-nvvp-10-1 cuda-nvvp-11-0\n",
            "  cuda-nvvp-11-1 cuda-samples-10-0 cuda-samples-10-1 cuda-samples-11-0\n",
            "  cuda-samples-11-1 cuda-sanitizer-11-0 cuda-sanitizer-api-10-1\n",
            "  cuda-toolkit-10-0 cuda-toolkit-10-1 cuda-toolkit-11-0 cuda-toolkit-11-1\n",
            "  cuda-tools-10-0 cuda-tools-10-1 cuda-tools-11-0 cuda-tools-11-1\n",
            "  cuda-visual-tools-10-0 cuda-visual-tools-10-1 cuda-visual-tools-11-0\n",
            "  cuda-visual-tools-11-1 default-jre dkms freeglut3 freeglut3-dev\n",
            "  keyboard-configuration libargon2-0 libcap2 libcryptsetup12\n",
            "  libdevmapper1.02.1 libfontenc1 libip4tc0 libjansson4 libnvidia-cfg1-510\n",
            "  libnvidia-common-460 libnvidia-common-510 libnvidia-extra-510\n",
            "  libnvidia-fbc1-510 libnvidia-gl-510 libpam-systemd libpolkit-agent-1-0\n",
            "  libpolkit-backend-1-0 libpolkit-gobject-1-0 libxfont2 libxi-dev libxkbfile1\n",
            "  libxmu-dev libxmu-headers libxnvctrl0 libxtst6 nsight-compute-2020.2.1\n",
            "  nsight-compute-2022.1.0 nsight-systems-2020.3.2 nsight-systems-2020.3.4\n",
            "  nsight-systems-2021.5.2 nvidia-dkms-510 nvidia-kernel-common-510\n",
            "  nvidia-kernel-source-510 nvidia-modprobe nvidia-settings openjdk-11-jre\n",
            "  policykit-1 policykit-1-gnome python3-xkit screen-resolution-extra systemd\n",
            "  systemd-sysv udev x11-xkb-utils xserver-common xserver-xorg-core-hwe-18.04\n",
            "  xserver-xorg-video-nvidia-510\n",
            "Use 'apt autoremove' to remove them.\n",
            "0 upgraded, 0 newly installed, 0 to remove and 39 not upgraded.\n"
          ]
        }
      ]
    },
    {
      "cell_type": "code",
      "source": [
        "%%writefile add.m\n",
        "x = 1\n",
        "y = 2\n",
        "display(x+y)"
      ],
      "metadata": {
        "colab": {
          "base_uri": "https://localhost:8080/"
        },
        "id": "U-9XLEJ2y1Il",
        "outputId": "9ae5f282-9b9e-4b05-b3e0-d58ea290f20e"
      },
      "execution_count": 297,
      "outputs": [
        {
          "output_type": "stream",
          "name": "stdout",
          "text": [
            "Overwriting add.m\n"
          ]
        }
      ]
    },
    {
      "cell_type": "code",
      "source": [
        "!octave -W add.m"
      ],
      "metadata": {
        "colab": {
          "base_uri": "https://localhost:8080/"
        },
        "id": "GiccnDBOzV9N",
        "outputId": "4a15df71-8875-483b-a8d6-370852d4311b"
      },
      "execution_count": 298,
      "outputs": [
        {
          "output_type": "stream",
          "name": "stdout",
          "text": [
            "x =  1\n",
            "y =  2\n",
            " 3\n"
          ]
        }
      ]
    },
    {
      "cell_type": "code",
      "source": [
        "%%writefile power_recursive.m\n",
        "function a = power_recursive(a,n)\n",
        "if n==1, return; end\n",
        "a = a*power_recursive(a,n-1);"
      ],
      "metadata": {
        "colab": {
          "base_uri": "https://localhost:8080/"
        },
        "id": "BjU5cBQmzang",
        "outputId": "f9bf04de-30d7-4bd3-956e-563f041fb25c"
      },
      "execution_count": 299,
      "outputs": [
        {
          "output_type": "stream",
          "name": "stdout",
          "text": [
            "Overwriting power_recursive.m\n"
          ]
        }
      ]
    },
    {
      "cell_type": "code",
      "source": [
        "%%writefile power_divideconquer.m\n",
        "function a = power_divideconquer(a,n)\n",
        "if n==1, return; end % nothing to do: output a same as input\n",
        "if mod(n,2) % remainder of n/2; = 1 (True) if n odd, = 0 (False) if n even\n",
        "  a = power_divideconquer(a,(n-1)/2)*power_divideconquer(a,(n+1)/2); % n odd\n",
        "else\n",
        "  a = power_divideconquer(a,n/2)^2; % n even\n",
        "end"
      ],
      "metadata": {
        "colab": {
          "base_uri": "https://localhost:8080/"
        },
        "id": "Oa5qeObfM1zv",
        "outputId": "58ed3408-1ef0-4eb6-a5dd-ecb7f9f6694e"
      },
      "execution_count": 300,
      "outputs": [
        {
          "output_type": "stream",
          "name": "stdout",
          "text": [
            "Overwriting power_divideconquer.m\n"
          ]
        }
      ]
    },
    {
      "cell_type": "code",
      "source": [
        "%%writefile power_mixed.m\n",
        "function a = power_mixed(a,n)\n",
        "if n==1, return; end % nothing to do: output a same as input\n",
        "if mod(n,2) % remainder of n/2; = 1 (True) if n odd, = 0 (False) if n even\n",
        "  a = a*power_mixed(a,n-1); % n odd\n",
        "else\n",
        "  a = power_mixed(a,n/2)^2; % n even\n",
        "end"
      ],
      "metadata": {
        "colab": {
          "base_uri": "https://localhost:8080/"
        },
        "id": "Xm-l3W-fNreJ",
        "outputId": "68aaa577-4d68-45cb-d067-c78699b6f415"
      },
      "execution_count": 301,
      "outputs": [
        {
          "output_type": "stream",
          "name": "stdout",
          "text": [
            "Overwriting power_mixed.m\n"
          ]
        }
      ]
    },
    {
      "cell_type": "code",
      "source": [
        "%%writefile power_direct.m\n",
        "function an = power_direct(a,n)\n",
        "an = a;\n",
        "for k = 1:n-1\n",
        "  an = a*an;\n",
        "end"
      ],
      "metadata": {
        "colab": {
          "base_uri": "https://localhost:8080/"
        },
        "id": "CdMeRHMxOADK",
        "outputId": "7428dbd9-8905-44fc-c9ee-0812c49fab8b"
      },
      "execution_count": 302,
      "outputs": [
        {
          "output_type": "stream",
          "name": "stdout",
          "text": [
            "Overwriting power_direct.m\n"
          ]
        }
      ]
    },
    {
      "cell_type": "code",
      "source": [
        "%%writefile power_mixed_direct.m\n",
        "function an = power_mixed_direct(a,n)\n",
        "steps = [];\n",
        "while n>1\n",
        "  if mod(n,2)\n",
        "    n = n-1; steps = [steps, 1]; % n odd\n",
        "  else\n",
        "    n = n/2; steps = [steps, 0]; % n even\n",
        "  end\n",
        "end\n",
        "an = a;\n",
        "for k = length(steps):-1:1\n",
        "  if steps(k)\n",
        "    an = a*an; % odd step\n",
        "  else\n",
        "    an = an^2; % even step\n",
        "  end\n",
        "end"
      ],
      "metadata": {
        "colab": {
          "base_uri": "https://localhost:8080/"
        },
        "id": "fB_OhkAxf-mk",
        "outputId": "a4053062-cad0-4418-984f-ac40865ea087"
      },
      "execution_count": 303,
      "outputs": [
        {
          "output_type": "stream",
          "name": "stdout",
          "text": [
            "Overwriting power_mixed_direct.m\n"
          ]
        }
      ]
    },
    {
      "cell_type": "code",
      "source": [
        "%%writefile runpr.m\n",
        "format long % more digits in output compared to default format short\n",
        "%set(0,'max_recursion_depth',1021) % reset recursion limit\n",
        "max_recursion_depth(1024)\n",
        "A = [1 1;1 0];\n",
        "r = max(abs(eig(A))); % spectral radius of A\n",
        "a = A/r; % spectral radius of a is 1, equal to 2-norm of A (symmetric)\n",
        "n = 1019;\n",
        "tic, power_recursive(a,n), toc\n",
        "tic, power_divideconquer(a,n), toc\n",
        "tic, power_mixed(a,n), toc\n",
        "tic, power_direct(A,n), toc\n",
        "tic, power_mixed_direct(A,n), toc\n",
        "tic, a^n, toc"
      ],
      "metadata": {
        "colab": {
          "base_uri": "https://localhost:8080/"
        },
        "id": "OApagEBG0SMS",
        "outputId": "c460e210-9e24-46cc-bdfe-a72f9e010b38"
      },
      "execution_count": 304,
      "outputs": [
        {
          "output_type": "stream",
          "name": "stdout",
          "text": [
            "Overwriting runpr.m\n"
          ]
        }
      ]
    },
    {
      "cell_type": "code",
      "source": [
        "!octave -W runpr.m"
      ],
      "metadata": {
        "colab": {
          "base_uri": "https://localhost:8080/"
        },
        "id": "UuiHf1c80eFv",
        "outputId": "cf14ac50-ccb3-4d4b-d0a6-4d41af446d4d"
      },
      "execution_count": 305,
      "outputs": [
        {
          "output_type": "stream",
          "name": "stdout",
          "text": [
            "ans =\n",
            "\n",
            "   0.723606797749975   0.447213595499956\n",
            "   0.447213595499956   0.276393202250020\n",
            "\n",
            "Elapsed time is 0.027518 seconds.\n",
            "ans =\n",
            "\n",
            "   0.723606797749911   0.447213595499916\n",
            "   0.447213595499916   0.276393202249995\n",
            "\n",
            "Elapsed time is 0.00292993 seconds.\n",
            "ans =\n",
            "\n",
            "   0.723606797749932   0.447213595499929\n",
            "   0.447213595499929   0.276393202250003\n",
            "\n",
            "Elapsed time is 0.000702143 seconds.\n",
            "ans =\n",
            "\n",
            "   6.57518615256860e+212   4.06368852464505e+212\n",
            "   4.06368852464505e+212   2.51149762792355e+212\n",
            "\n",
            "Elapsed time is 0.00245118 seconds.\n",
            "ans =\n",
            "\n",
            "   6.57518615256860e+212   4.06368852464505e+212\n",
            "   4.06368852464505e+212   2.51149762792356e+212\n",
            "\n",
            "Elapsed time is 0.000608921 seconds.\n",
            "ans =\n",
            "\n",
            "   0.723606797749911   0.447213595499916\n",
            "   0.447213595499916   0.276393202249995\n",
            "\n",
            "Elapsed time is 5.19753e-05 seconds.\n"
          ]
        }
      ]
    },
    {
      "cell_type": "code",
      "source": [
        "%%writefile fibonacci_direct2.m\n",
        "function F = fibonacci_direct2(n)\n",
        "if n==0\n",
        "  F = 0;\n",
        "else\n",
        "  Fn1 = 0; F = 1;\n",
        "  for k = 2:n\n",
        "    Fn2 = Fn1; Fn1 = F;\n",
        "    F = Fn1+Fn2;\n",
        "  end\n",
        "end"
      ],
      "metadata": {
        "id": "vnWkc4200nI1",
        "colab": {
          "base_uri": "https://localhost:8080/"
        },
        "outputId": "238e3f5e-d6fe-4a71-8bd5-94f7314a4fcf"
      },
      "execution_count": 306,
      "outputs": [
        {
          "output_type": "stream",
          "name": "stdout",
          "text": [
            "Overwriting fibonacci_direct2.m\n"
          ]
        }
      ]
    },
    {
      "cell_type": "code",
      "source": [
        "%%writefile fibonacci_direct2edit.m\n",
        "function F = fibonacci_direct2edit(n)\n",
        "if n==0\n",
        "  F = 3;\n",
        "else\n",
        "  Fn1 = 3; F = 2;\n",
        "  for k = 2:n\n",
        "    Fn2 = Fn1; Fn1 = F;\n",
        "    F = (2*Fn1) - (rdivide((8*(Fn2)), 9));\n",
        "  end\n",
        "end"
      ],
      "metadata": {
        "colab": {
          "base_uri": "https://localhost:8080/"
        },
        "id": "WgpQlmYxzVID",
        "outputId": "95128d19-29b4-4c42-c540-7ee1e69d2c72"
      },
      "execution_count": 307,
      "outputs": [
        {
          "output_type": "stream",
          "name": "stdout",
          "text": [
            "Overwriting fibonacci_direct2edit.m\n"
          ]
        }
      ]
    },
    {
      "cell_type": "code",
      "source": [
        "%%writefile runfib40.m\n",
        "n = 40;\n",
        "fibonacci_direct2edit(n)"
      ],
      "metadata": {
        "colab": {
          "base_uri": "https://localhost:8080/"
        },
        "id": "7FI39o7Gym1k",
        "outputId": "fe9bc94f-3b87-4c1a-d117-304ee9c1980c"
      },
      "execution_count": 308,
      "outputs": [
        {
          "output_type": "stream",
          "name": "stdout",
          "text": [
            "Overwriting runfib40.m\n"
          ]
        }
      ]
    },
    {
      "cell_type": "code",
      "source": [
        "!octave -W runfib40.m"
      ],
      "metadata": {
        "colab": {
          "base_uri": "https://localhost:8080/"
        },
        "id": "BX0n9vBKycI2",
        "outputId": "1ffcf4ed-5eb0-4511-f60d-234349f2468b"
      },
      "execution_count": 309,
      "outputs": [
        {
          "output_type": "stream",
          "name": "stdout",
          "text": [
            "ans =    2.7133e-07\n"
          ]
        }
      ]
    },
    {
      "cell_type": "code",
      "source": [
        "%%writefile runfib60.m\n",
        "n = 60;\n",
        "fibonacci_direct2edit(n)"
      ],
      "metadata": {
        "colab": {
          "base_uri": "https://localhost:8080/"
        },
        "id": "e8NEL-bVy0Pc",
        "outputId": "de257183-f049-4961-f292-b4dfb41670c8"
      },
      "execution_count": 310,
      "outputs": [
        {
          "output_type": "stream",
          "name": "stdout",
          "text": [
            "Overwriting runfib60.m\n"
          ]
        }
      ]
    },
    {
      "cell_type": "code",
      "source": [
        "!octave -W runfib60.m"
      ],
      "metadata": {
        "colab": {
          "base_uri": "https://localhost:8080/"
        },
        "id": "OH-02Y6N2kQs",
        "outputId": "7a00abf3-74df-46c7-c8cf-c955869ff7bf"
      },
      "execution_count": 311,
      "outputs": [
        {
          "output_type": "stream",
          "name": "stdout",
          "text": [
            "ans =    6.4104e-09\n"
          ]
        }
      ]
    },
    {
      "cell_type": "code",
      "source": [
        "%%writefile runfib100.m\n",
        "n = 100;\n",
        "fibonacci_direct2edit(n)"
      ],
      "metadata": {
        "colab": {
          "base_uri": "https://localhost:8080/"
        },
        "id": "TP3UuuM-3BMH",
        "outputId": "ef1c2d1c-63a0-4a79-aaa5-53f1ea8fff3a"
      },
      "execution_count": 312,
      "outputs": [
        {
          "output_type": "stream",
          "name": "stdout",
          "text": [
            "Overwriting runfib100.m\n"
          ]
        }
      ]
    },
    {
      "cell_type": "code",
      "source": [
        "!octave -W runfib100.m"
      ],
      "metadata": {
        "colab": {
          "base_uri": "https://localhost:8080/"
        },
        "id": "Wrbq_kMM36Kc",
        "outputId": "4e3ff283-68ab-43a6-f9b2-15ea99499d50"
      },
      "execution_count": 313,
      "outputs": [
        {
          "output_type": "stream",
          "name": "stdout",
          "text": [
            "ans =    6.2932e-04\n"
          ]
        }
      ]
    },
    {
      "cell_type": "code",
      "source": [
        "%%writefile runfib500.m\n",
        "n = 500;\n",
        "fibonacci_direct2edit(n)"
      ],
      "metadata": {
        "colab": {
          "base_uri": "https://localhost:8080/"
        },
        "id": "D1B7Ahfi38bS",
        "outputId": "33149aab-e922-4170-f494-b83b29c7d1da"
      },
      "execution_count": 314,
      "outputs": [
        {
          "output_type": "stream",
          "name": "stdout",
          "text": [
            "Overwriting runfib500.m\n"
          ]
        }
      ]
    },
    {
      "cell_type": "code",
      "source": [
        "!octave -W runfib500.m"
      ],
      "metadata": {
        "colab": {
          "base_uri": "https://localhost:8080/"
        },
        "id": "Va6w0lrC4Dng",
        "outputId": "5dd87575-e456-4e35-cb44-bf47564f40b2"
      },
      "execution_count": 315,
      "outputs": [
        {
          "output_type": "stream",
          "name": "stdout",
          "text": [
            "ans =    5.9479e+46\n"
          ]
        }
      ]
    },
    {
      "cell_type": "code",
      "source": [
        ""
      ],
      "metadata": {
        "id": "_1_tgHU24H_X"
      },
      "execution_count": 315,
      "outputs": []
    }
  ]
}