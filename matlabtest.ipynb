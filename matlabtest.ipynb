{
  "nbformat": 4,
  "nbformat_minor": 0,
  "metadata": {
    "colab": {
      "name": "matlabtest.ipynb",
      "provenance": [],
      "collapsed_sections": [],
      "authorship_tag": "ABX9TyOFut4xEnwsSXgbmMKO1kpX",
      "include_colab_link": true
    },
    "kernelspec": {
      "name": "python3",
      "display_name": "Python 3"
    },
    "language_info": {
      "name": "python"
    }
  },
  "cells": [
    {
      "cell_type": "markdown",
      "metadata": {
        "id": "view-in-github",
        "colab_type": "text"
      },
      "source": [
        "<a href=\"https://colab.research.google.com/github/hyperkraz/MAT421/blob/main/matlabtest.ipynb\" target=\"_parent\"><img src=\"https://colab.research.google.com/assets/colab-badge.svg\" alt=\"Open In Colab\"/></a>"
      ]
    },
    {
      "cell_type": "code",
      "execution_count": 76,
      "metadata": {
        "id": "ClWVuFaNyu0i"
      },
      "outputs": [],
      "source": [
        ""
      ]
    },
    {
      "cell_type": "markdown",
      "source": [
        "matlab fun"
      ],
      "metadata": {
        "id": "KRRFjxdsyyGZ"
      }
    },
    {
      "cell_type": "code",
      "source": [
        "!apt install octave"
      ],
      "metadata": {
        "colab": {
          "base_uri": "https://localhost:8080/"
        },
        "id": "TAbwm8vQyzI4",
        "outputId": "34ef2cae-7947-46fd-b83f-f3cfd7dcbe8d"
      },
      "execution_count": 77,
      "outputs": [
        {
          "output_type": "stream",
          "name": "stdout",
          "text": [
            "Reading package lists... Done\n",
            "Building dependency tree       \n",
            "Reading state information... Done\n",
            "octave is already the newest version (4.2.2-1ubuntu1).\n",
            "The following packages were automatically installed and are no longer required:\n",
            "  cuda-command-line-tools-10-0 cuda-command-line-tools-10-1\n",
            "  cuda-command-line-tools-11-0 cuda-compiler-10-0 cuda-compiler-10-1\n",
            "  cuda-compiler-11-0 cuda-cuobjdump-10-0 cuda-cuobjdump-10-1\n",
            "  cuda-cuobjdump-11-0 cuda-cupti-10-0 cuda-cupti-10-1 cuda-cupti-11-0\n",
            "  cuda-cupti-dev-11-0 cuda-documentation-10-0 cuda-documentation-10-1\n",
            "  cuda-documentation-11-0 cuda-documentation-11-1 cuda-gdb-10-0 cuda-gdb-10-1\n",
            "  cuda-gdb-11-0 cuda-gpu-library-advisor-10-0 cuda-gpu-library-advisor-10-1\n",
            "  cuda-libraries-10-0 cuda-libraries-10-1 cuda-libraries-11-0\n",
            "  cuda-memcheck-10-0 cuda-memcheck-10-1 cuda-memcheck-11-0 cuda-nsight-10-0\n",
            "  cuda-nsight-10-1 cuda-nsight-11-0 cuda-nsight-11-1 cuda-nsight-compute-10-0\n",
            "  cuda-nsight-compute-10-1 cuda-nsight-compute-11-0 cuda-nsight-compute-11-1\n",
            "  cuda-nsight-systems-10-1 cuda-nsight-systems-11-0 cuda-nsight-systems-11-1\n",
            "  cuda-nvcc-10-0 cuda-nvcc-10-1 cuda-nvcc-11-0 cuda-nvdisasm-10-0\n",
            "  cuda-nvdisasm-10-1 cuda-nvdisasm-11-0 cuda-nvml-dev-10-0 cuda-nvml-dev-10-1\n",
            "  cuda-nvml-dev-11-0 cuda-nvprof-10-0 cuda-nvprof-10-1 cuda-nvprof-11-0\n",
            "  cuda-nvprune-10-0 cuda-nvprune-10-1 cuda-nvprune-11-0 cuda-nvtx-10-0\n",
            "  cuda-nvtx-10-1 cuda-nvtx-11-0 cuda-nvvp-10-0 cuda-nvvp-10-1 cuda-nvvp-11-0\n",
            "  cuda-nvvp-11-1 cuda-samples-10-0 cuda-samples-10-1 cuda-samples-11-0\n",
            "  cuda-samples-11-1 cuda-sanitizer-11-0 cuda-sanitizer-api-10-1\n",
            "  cuda-toolkit-10-0 cuda-toolkit-10-1 cuda-toolkit-11-0 cuda-toolkit-11-1\n",
            "  cuda-tools-10-0 cuda-tools-10-1 cuda-tools-11-0 cuda-tools-11-1\n",
            "  cuda-visual-tools-10-0 cuda-visual-tools-10-1 cuda-visual-tools-11-0\n",
            "  cuda-visual-tools-11-1 default-jre dkms freeglut3 freeglut3-dev\n",
            "  keyboard-configuration libargon2-0 libcap2 libcryptsetup12\n",
            "  libdevmapper1.02.1 libfontenc1 libip4tc0 libjansson4 libnvidia-cfg1-510\n",
            "  libnvidia-common-460 libnvidia-common-510 libnvidia-extra-510\n",
            "  libnvidia-fbc1-510 libnvidia-gl-510 libpam-systemd libpolkit-agent-1-0\n",
            "  libpolkit-backend-1-0 libpolkit-gobject-1-0 libxfont2 libxi-dev libxkbfile1\n",
            "  libxmu-dev libxmu-headers libxnvctrl0 libxtst6 nsight-compute-2020.2.1\n",
            "  nsight-compute-2022.1.0 nsight-systems-2020.3.2 nsight-systems-2020.3.4\n",
            "  nsight-systems-2021.5.2 nvidia-dkms-510 nvidia-kernel-common-510\n",
            "  nvidia-kernel-source-510 nvidia-modprobe nvidia-settings openjdk-11-jre\n",
            "  policykit-1 policykit-1-gnome python3-xkit screen-resolution-extra systemd\n",
            "  systemd-sysv udev x11-xkb-utils xserver-common xserver-xorg-core-hwe-18.04\n",
            "  xserver-xorg-video-nvidia-510\n",
            "Use 'apt autoremove' to remove them.\n",
            "0 upgraded, 0 newly installed, 0 to remove and 39 not upgraded.\n"
          ]
        }
      ]
    },
    {
      "cell_type": "code",
      "source": [
        "%%writefile add.m\n",
        "x = 1\n",
        "y = 2\n",
        "display(x+y)"
      ],
      "metadata": {
        "colab": {
          "base_uri": "https://localhost:8080/"
        },
        "id": "U-9XLEJ2y1Il",
        "outputId": "0de6a362-5f1f-4478-bd7d-bc0be7715830"
      },
      "execution_count": 78,
      "outputs": [
        {
          "output_type": "stream",
          "name": "stdout",
          "text": [
            "Overwriting add.m\n"
          ]
        }
      ]
    },
    {
      "cell_type": "code",
      "source": [
        "!octave -W add.m"
      ],
      "metadata": {
        "colab": {
          "base_uri": "https://localhost:8080/"
        },
        "id": "GiccnDBOzV9N",
        "outputId": "a907d275-f259-4d68-90cf-38ee8f2589b1"
      },
      "execution_count": 79,
      "outputs": [
        {
          "output_type": "stream",
          "name": "stdout",
          "text": [
            "warning: function ./merge.m shadows a built-in function\n",
            "x =  1\n",
            "y =  2\n",
            " 3\n"
          ]
        }
      ]
    },
    {
      "cell_type": "code",
      "source": [
        "%%writefile power_recursive.m\n",
        "function a = power_recursive(a,n)\n",
        "if n==1, return; end\n",
        "a = a*power_recursive(a,n-1);"
      ],
      "metadata": {
        "colab": {
          "base_uri": "https://localhost:8080/"
        },
        "id": "BjU5cBQmzang",
        "outputId": "a0736f8b-d60d-4b0f-913c-d4781789ba4d"
      },
      "execution_count": 80,
      "outputs": [
        {
          "output_type": "stream",
          "name": "stdout",
          "text": [
            "Overwriting power_recursive.m\n"
          ]
        }
      ]
    },
    {
      "cell_type": "code",
      "source": [
        "%%writefile power_divideconquer.m\n",
        "function a = power_divideconquer(a,n)\n",
        "if n==1, return; end % nothing to do: output a same as input\n",
        "if mod(n,2) % remainder of n/2; = 1 (True) if n odd, = 0 (False) if n even\n",
        "  a = power_divideconquer(a,(n-1)/2)*power_divideconquer(a,(n+1)/2); % n odd\n",
        "else\n",
        "  a = power_divideconquer(a,n/2)^2; % n even\n",
        "end"
      ],
      "metadata": {
        "colab": {
          "base_uri": "https://localhost:8080/"
        },
        "id": "Oa5qeObfM1zv",
        "outputId": "32f5349f-bc4c-4b94-c3d0-d03f78dd85b4"
      },
      "execution_count": 81,
      "outputs": [
        {
          "output_type": "stream",
          "name": "stdout",
          "text": [
            "Overwriting power_divideconquer.m\n"
          ]
        }
      ]
    },
    {
      "cell_type": "code",
      "source": [
        "%%writefile power_mixed.m\n",
        "function a = power_mixed(a,n)\n",
        "if n==1, return; end % nothing to do: output a same as input\n",
        "if mod(n,2) % remainder of n/2; = 1 (True) if n odd, = 0 (False) if n even\n",
        "  a = a*power_mixed(a,n-1); % n odd\n",
        "else\n",
        "  a = power_mixed(a,n/2)^2; % n even\n",
        "end"
      ],
      "metadata": {
        "colab": {
          "base_uri": "https://localhost:8080/"
        },
        "id": "Xm-l3W-fNreJ",
        "outputId": "ac4d808d-077c-48ee-b4aa-95b4642c77a9"
      },
      "execution_count": 82,
      "outputs": [
        {
          "output_type": "stream",
          "name": "stdout",
          "text": [
            "Overwriting power_mixed.m\n"
          ]
        }
      ]
    },
    {
      "cell_type": "code",
      "source": [
        "%%writefile power_direct.m\n",
        "function an = power_direct(a,n)\n",
        "an = a;\n",
        "for k = 1:n-1\n",
        "  an = a*an;\n",
        "end"
      ],
      "metadata": {
        "colab": {
          "base_uri": "https://localhost:8080/"
        },
        "id": "CdMeRHMxOADK",
        "outputId": "69da49b7-c9f4-42d0-93f8-11501311fb30"
      },
      "execution_count": 83,
      "outputs": [
        {
          "output_type": "stream",
          "name": "stdout",
          "text": [
            "Overwriting power_direct.m\n"
          ]
        }
      ]
    },
    {
      "cell_type": "code",
      "source": [
        "%%writefile power_mixed_direct.m\n",
        "function an = power_mixed_direct(a,n)\n",
        "steps = [];\n",
        "while n>1\n",
        "  if mod(n,2)\n",
        "    n = n-1; steps = [steps, 1]; % n odd\n",
        "  else\n",
        "    n = n/2; steps = [steps, 0]; % n even\n",
        "  end\n",
        "end\n",
        "an = a;\n",
        "for k = length(steps):-1:1\n",
        "  if steps(k)\n",
        "    an = a*an; % odd step\n",
        "  else\n",
        "    an = an^2; % even step\n",
        "  end\n",
        "end"
      ],
      "metadata": {
        "colab": {
          "base_uri": "https://localhost:8080/"
        },
        "id": "fB_OhkAxf-mk",
        "outputId": "4b8f70ec-d09d-400c-f770-2eb394bcc169"
      },
      "execution_count": 84,
      "outputs": [
        {
          "output_type": "stream",
          "name": "stdout",
          "text": [
            "Overwriting power_mixed_direct.m\n"
          ]
        }
      ]
    },
    {
      "cell_type": "code",
      "source": [
        "%%writefile runpr.m\n",
        "format long % more digits in output compared to default format short\n",
        "%set(0,'max_recursion_depth',1021) % reset recursion limit\n",
        "max_recursion_depth(1024)\n",
        "A = [1 1;1 0];\n",
        "r = max(abs(eig(A))); % spectral radius of A\n",
        "a = A/r; % spectral radius of a is 1, equal to 2-norm of A (symmetric)\n",
        "n = 1019;\n",
        "tic, power_recursive(a,n), toc\n",
        "tic, power_divideconquer(a,n), toc\n",
        "tic, power_mixed(a,n), toc\n",
        "tic, power_direct(A,n), toc\n",
        "tic, power_mixed_direct(A,n), toc\n",
        "tic, a^n, toc"
      ],
      "metadata": {
        "colab": {
          "base_uri": "https://localhost:8080/"
        },
        "id": "OApagEBG0SMS",
        "outputId": "898664c0-bfed-4733-daab-c3080c25bc25"
      },
      "execution_count": 85,
      "outputs": [
        {
          "output_type": "stream",
          "name": "stdout",
          "text": [
            "Overwriting runpr.m\n"
          ]
        }
      ]
    },
    {
      "cell_type": "code",
      "source": [
        "!octave -W runpr.m"
      ],
      "metadata": {
        "colab": {
          "base_uri": "https://localhost:8080/"
        },
        "id": "UuiHf1c80eFv",
        "outputId": "c9429bf9-7c74-4635-e715-db6fa87515e8"
      },
      "execution_count": 86,
      "outputs": [
        {
          "output_type": "stream",
          "name": "stdout",
          "text": [
            "warning: function ./merge.m shadows a built-in function\n",
            "ans =\n",
            "\n",
            "   0.723606797749975   0.447213595499956\n",
            "   0.447213595499956   0.276393202250020\n",
            "\n",
            "Elapsed time is 0.0283408 seconds.\n",
            "ans =\n",
            "\n",
            "   0.723606797749911   0.447213595499916\n",
            "   0.447213595499916   0.276393202249995\n",
            "\n",
            "Elapsed time is 0.00355697 seconds.\n",
            "ans =\n",
            "\n",
            "   0.723606797749932   0.447213595499929\n",
            "   0.447213595499929   0.276393202250003\n",
            "\n",
            "Elapsed time is 0.00240278 seconds.\n",
            "ans =\n",
            "\n",
            "   6.57518615256860e+212   4.06368852464505e+212\n",
            "   4.06368852464505e+212   2.51149762792355e+212\n",
            "\n",
            "Elapsed time is 0.00326014 seconds.\n",
            "ans =\n",
            "\n",
            "   6.57518615256860e+212   4.06368852464505e+212\n",
            "   4.06368852464505e+212   2.51149762792356e+212\n",
            "\n",
            "Elapsed time is 0.000812054 seconds.\n",
            "ans =\n",
            "\n",
            "   0.723606797749911   0.447213595499916\n",
            "   0.447213595499916   0.276393202249995\n",
            "\n",
            "Elapsed time is 0.00545001 seconds.\n"
          ]
        }
      ]
    },
    {
      "cell_type": "code",
      "source": [
        "%%writefile fibonacci_direct2.m\n",
        "function F = fibonacci_direct2(n)\n",
        "if n==0\n",
        "  F = 0;\n",
        "else\n",
        "  Fn1 = 0; F = 1;\n",
        "  for k = 2:n\n",
        "    Fn2 = Fn1; Fn1 = F;\n",
        "    F = Fn1+Fn2;\n",
        "  end\n",
        "end"
      ],
      "metadata": {
        "id": "vnWkc4200nI1",
        "colab": {
          "base_uri": "https://localhost:8080/"
        },
        "outputId": "076a9e9e-65e5-4aa1-a929-97227cb1891c"
      },
      "execution_count": 87,
      "outputs": [
        {
          "output_type": "stream",
          "name": "stdout",
          "text": [
            "Overwriting fibonacci_direct2.m\n"
          ]
        }
      ]
    },
    {
      "cell_type": "code",
      "source": [
        "%%writefile fibonacci_direct2edit.m\n",
        "function F = fibonacci_direct2edit(n)\n",
        "if n==0\n",
        "  F = 3;\n",
        "else\n",
        "  Fn1 = 3; F = 2;\n",
        "  for k = 2:n\n",
        "    Fn2 = Fn1; Fn1 = F;\n",
        "    F = (2*Fn1) - (rdivide((8*(Fn2)), 9));\n",
        "  end\n",
        "end"
      ],
      "metadata": {
        "colab": {
          "base_uri": "https://localhost:8080/"
        },
        "id": "WgpQlmYxzVID",
        "outputId": "6329cf0d-6b0a-46e1-eae2-5aa74379f4fc"
      },
      "execution_count": 88,
      "outputs": [
        {
          "output_type": "stream",
          "name": "stdout",
          "text": [
            "Overwriting fibonacci_direct2edit.m\n"
          ]
        }
      ]
    },
    {
      "cell_type": "code",
      "source": [
        "%%writefile runfib40.m\n",
        "n = 40;\n",
        "fibonacci_direct2edit(n)"
      ],
      "metadata": {
        "colab": {
          "base_uri": "https://localhost:8080/"
        },
        "id": "7FI39o7Gym1k",
        "outputId": "2d90a235-2889-4ff7-ab18-8a53eb595446"
      },
      "execution_count": 89,
      "outputs": [
        {
          "output_type": "stream",
          "name": "stdout",
          "text": [
            "Overwriting runfib40.m\n"
          ]
        }
      ]
    },
    {
      "cell_type": "code",
      "source": [
        "!octave -W runfib40.m"
      ],
      "metadata": {
        "colab": {
          "base_uri": "https://localhost:8080/"
        },
        "id": "BX0n9vBKycI2",
        "outputId": "e713e268-beed-4fc3-9fa1-eb412aed1ca9"
      },
      "execution_count": 90,
      "outputs": [
        {
          "output_type": "stream",
          "name": "stdout",
          "text": [
            "warning: function ./merge.m shadows a built-in function\n",
            "ans =    2.7133e-07\n"
          ]
        }
      ]
    },
    {
      "cell_type": "code",
      "source": [
        "%%writefile runfib60.m\n",
        "n = 60;\n",
        "fibonacci_direct2edit(n)"
      ],
      "metadata": {
        "colab": {
          "base_uri": "https://localhost:8080/"
        },
        "id": "e8NEL-bVy0Pc",
        "outputId": "ade97ee0-7754-4bad-986b-6558c1c3ef34"
      },
      "execution_count": 91,
      "outputs": [
        {
          "output_type": "stream",
          "name": "stdout",
          "text": [
            "Overwriting runfib60.m\n"
          ]
        }
      ]
    },
    {
      "cell_type": "code",
      "source": [
        "!octave -W runfib60.m"
      ],
      "metadata": {
        "colab": {
          "base_uri": "https://localhost:8080/"
        },
        "id": "OH-02Y6N2kQs",
        "outputId": "cce22a24-36be-447a-9f17-8613207986a6"
      },
      "execution_count": 92,
      "outputs": [
        {
          "output_type": "stream",
          "name": "stdout",
          "text": [
            "warning: function ./merge.m shadows a built-in function\n",
            "ans =    6.4104e-09\n"
          ]
        }
      ]
    },
    {
      "cell_type": "code",
      "source": [
        "%%writefile runfib100.m\n",
        "n = 100;\n",
        "fibonacci_direct2edit(n)"
      ],
      "metadata": {
        "colab": {
          "base_uri": "https://localhost:8080/"
        },
        "id": "TP3UuuM-3BMH",
        "outputId": "e1f88433-fefc-4944-c9e6-816cbf6d1c0e"
      },
      "execution_count": 93,
      "outputs": [
        {
          "output_type": "stream",
          "name": "stdout",
          "text": [
            "Overwriting runfib100.m\n"
          ]
        }
      ]
    },
    {
      "cell_type": "code",
      "source": [
        "!octave -W runfib100.m"
      ],
      "metadata": {
        "colab": {
          "base_uri": "https://localhost:8080/"
        },
        "id": "Wrbq_kMM36Kc",
        "outputId": "0dc0ee47-8e5a-4428-e18c-e9942dc1f4ef"
      },
      "execution_count": 94,
      "outputs": [
        {
          "output_type": "stream",
          "name": "stdout",
          "text": [
            "warning: function ./merge.m shadows a built-in function\n",
            "ans =    6.2932e-04\n"
          ]
        }
      ]
    },
    {
      "cell_type": "code",
      "source": [
        "%%writefile runfib500.m\n",
        "n = 500;\n",
        "fibonacci_direct2edit(n)"
      ],
      "metadata": {
        "colab": {
          "base_uri": "https://localhost:8080/"
        },
        "id": "D1B7Ahfi38bS",
        "outputId": "36988283-a2ca-4b64-f231-f034894ed73c"
      },
      "execution_count": 95,
      "outputs": [
        {
          "output_type": "stream",
          "name": "stdout",
          "text": [
            "Overwriting runfib500.m\n"
          ]
        }
      ]
    },
    {
      "cell_type": "code",
      "source": [
        "!octave -W runfib500.m"
      ],
      "metadata": {
        "colab": {
          "base_uri": "https://localhost:8080/"
        },
        "id": "Va6w0lrC4Dng",
        "outputId": "27d57441-6ad6-4cd0-d431-a6732639bdb2"
      },
      "execution_count": 96,
      "outputs": [
        {
          "output_type": "stream",
          "name": "stdout",
          "text": [
            "warning: function ./merge.m shadows a built-in function\n",
            "ans =    5.9479e+46\n"
          ]
        }
      ]
    },
    {
      "cell_type": "code",
      "source": [
        "%%writefile runfib5.m\n",
        "n = 5;\n",
        "fibonacci_direct2edit(n)"
      ],
      "metadata": {
        "id": "_1_tgHU24H_X",
        "colab": {
          "base_uri": "https://localhost:8080/"
        },
        "outputId": "496305e5-3816-46dc-c7bb-4a3d2fd12377"
      },
      "execution_count": 97,
      "outputs": [
        {
          "output_type": "stream",
          "name": "stdout",
          "text": [
            "Overwriting runfib5.m\n"
          ]
        }
      ]
    },
    {
      "cell_type": "code",
      "source": [
        "!octave -W runfib5.m"
      ],
      "metadata": {
        "colab": {
          "base_uri": "https://localhost:8080/"
        },
        "id": "hUPTZF2M_XI3",
        "outputId": "665ef58d-7476-4c2d-9272-2aad2d9918aa"
      },
      "execution_count": 98,
      "outputs": [
        {
          "output_type": "stream",
          "name": "stdout",
          "text": [
            "warning: function ./merge.m shadows a built-in function\n",
            "ans =  0.39506\n"
          ]
        }
      ]
    },
    {
      "cell_type": "code",
      "source": [
        "%%writefile horner_recursive.m\n",
        "function p = horner_recursive(a,x)\n",
        "n = length(a) - 1;\n",
        "if n == 0\n",
        "  p = a(n + 1);\n",
        "else\n",
        "  p = horner_recursive(a(2:n+1),x).*x+a(1);\n",
        "end"
      ],
      "metadata": {
        "colab": {
          "base_uri": "https://localhost:8080/"
        },
        "id": "ATvHNXxk_cmX",
        "outputId": "67d04b35-e680-4909-f90a-8a28520b9b5f"
      },
      "execution_count": 99,
      "outputs": [
        {
          "output_type": "stream",
          "name": "stdout",
          "text": [
            "Overwriting horner_recursive.m\n"
          ]
        }
      ]
    },
    {
      "cell_type": "code",
      "source": [
        "%%writefile runhr.m\n",
        "format long\n",
        "max_recursion_depth(1024)\n",
        "a = [0,1./(1:1000).^2]; % a_0 = 0\n",
        "x = [-1,-.5,.5,1];\n",
        "tic, horner_recursive(a,x), toc"
      ],
      "metadata": {
        "colab": {
          "base_uri": "https://localhost:8080/"
        },
        "id": "CZfsUZtnOEOM",
        "outputId": "245dd679-ba2f-4fc5-ef03-a4c280984824"
      },
      "execution_count": 100,
      "outputs": [
        {
          "output_type": "stream",
          "name": "stdout",
          "text": [
            "Overwriting runhr.m\n"
          ]
        }
      ]
    },
    {
      "cell_type": "code",
      "source": [
        "!octave -W runhr.m"
      ],
      "metadata": {
        "colab": {
          "base_uri": "https://localhost:8080/"
        },
        "id": "I0m8sK-dOwB7",
        "outputId": "f71e31a5-39a1-4021-ac1c-73d5ec281ba4"
      },
      "execution_count": 101,
      "outputs": [
        {
          "output_type": "stream",
          "name": "stdout",
          "text": [
            "warning: function ./merge.m shadows a built-in function\n",
            "ans =\n",
            "\n",
            "  -0.822466533924113  -0.448414206923646   0.582240526465013   1.643934566681560\n",
            "\n",
            "Elapsed time is 0.0419772 seconds.\n"
          ]
        }
      ]
    },
    {
      "cell_type": "code",
      "source": [
        "%%writefile horner.m\n",
        "function p = horner(a,x)\n",
        "% Horner's rule to evaluate p = a(1)+a(2)*x+...+a(n+1)*x^n\n",
        "n = length(a)-1;\n",
        "p = 0*x+a(n+1); % adding 0*x gives p the same size as input x\n",
        "for k = n:-1:1\n",
        "  p = p.*x+a(k); % coefficientwise multiplication requires . if x is array\n",
        "end"
      ],
      "metadata": {
        "colab": {
          "base_uri": "https://localhost:8080/"
        },
        "id": "vLnhciEzQKFJ",
        "outputId": "5ad6dbbc-9dad-4e36-aee7-ded229542c8d"
      },
      "execution_count": 102,
      "outputs": [
        {
          "output_type": "stream",
          "name": "stdout",
          "text": [
            "Overwriting horner.m\n"
          ]
        }
      ]
    },
    {
      "cell_type": "code",
      "source": [
        "%%writefile runh.m\n",
        "format long\n",
        "max_recursion_depth(1024)\n",
        "a = [0,1./(1:1000).^2]; % a_0 = 0\n",
        "x = [-1,-.5,.5,1];\n",
        "tic, horner(a,x), toc"
      ],
      "metadata": {
        "colab": {
          "base_uri": "https://localhost:8080/"
        },
        "id": "6z5w96_7Qd6y",
        "outputId": "7cc914cc-0bad-43b7-aeba-bb83e1dcd432"
      },
      "execution_count": 103,
      "outputs": [
        {
          "output_type": "stream",
          "name": "stdout",
          "text": [
            "Overwriting runh.m\n"
          ]
        }
      ]
    },
    {
      "cell_type": "code",
      "source": [
        "!octave -W runh.m"
      ],
      "metadata": {
        "colab": {
          "base_uri": "https://localhost:8080/"
        },
        "id": "xjT4gVN4QpDZ",
        "outputId": "e1e1b8ed-9775-4567-f7ef-b7500131add1"
      },
      "execution_count": 114,
      "outputs": [
        {
          "output_type": "stream",
          "name": "stdout",
          "text": [
            "warning: function ./merge.m shadows a built-in function\n",
            "ans =\n",
            "\n",
            "  -0.822466533924113  -0.448414206923646   0.582240526465013   1.643934566681560\n",
            "\n",
            "Elapsed time is 0.00650597 seconds.\n"
          ]
        }
      ]
    },
    {
      "cell_type": "code",
      "source": [
        "%%writefile bisect.m\n",
        "function ab = bisect(f,ab,tol,alfa)\n",
        "a = ab(1); b = ab(2); % assumes a<b\n",
        "if b-a<tol, return; end\n",
        "fa = f(a); % assumes f(a)*f(b)<0\n",
        "v = alfa;\n",
        "if isinf(alfa), v = (1+2*rand)/4; end % random value in [0.25,0.75]\n",
        "x = a+v*(b-a); fx = f(x);\n",
        "if fx*fa < 0\n",
        "  ab = [a,x];\n",
        "else\n",
        "  ab = [x,b];\n",
        "end\n",
        "ab = bisect(f,ab,tol,alfa);"
      ],
      "metadata": {
        "colab": {
          "base_uri": "https://localhost:8080/"
        },
        "id": "x3fgwptUOzEv",
        "outputId": "f0a04c40-b823-4c58-da7e-626945d6d0ed"
      },
      "execution_count": 105,
      "outputs": [
        {
          "output_type": "stream",
          "name": "stdout",
          "text": [
            "Overwriting bisect.m\n"
          ]
        }
      ]
    },
    {
      "cell_type": "code",
      "source": [
        "%%writefile runbisect.m\n",
        "format long\n",
        "f = @(x)x^3-2;\n",
        "ab = [1,2]; % assumes fa*fb<0\n",
        "tol = 1e-15;\n",
        "tic, bisect(f,ab,tol,0.25), toc\n",
        "tic, bisect(f,ab,tol,0.5), toc\n",
        "tic, bisect(f,ab,tol,0.75), toc\n",
        "tic, bisect(f,ab,tol,Inf), toc"
      ],
      "metadata": {
        "colab": {
          "base_uri": "https://localhost:8080/"
        },
        "id": "sfPrqExzV0ex",
        "outputId": "5e9fad9d-7e7c-4064-ed3e-caafe9ab3ce3"
      },
      "execution_count": 106,
      "outputs": [
        {
          "output_type": "stream",
          "name": "stdout",
          "text": [
            "Overwriting runbisect.m\n"
          ]
        }
      ]
    },
    {
      "cell_type": "code",
      "source": [
        "!octave -W runbisect.m"
      ],
      "metadata": {
        "colab": {
          "base_uri": "https://localhost:8080/"
        },
        "id": "tN3YCyRCY9CB",
        "outputId": "c62ca2dc-871a-4928-b5c8-dfa04e758485"
      },
      "execution_count": 107,
      "outputs": [
        {
          "output_type": "stream",
          "name": "stdout",
          "text": [
            "warning: function ./merge.m shadows a built-in function\n",
            "ans =\n",
            "\n",
            "   1.25992104989487   1.25992104989487\n",
            "\n",
            "Elapsed time is 0.00784206 seconds.\n",
            "ans =\n",
            "\n",
            "   1.25992104989487   1.25992104989487\n",
            "\n",
            "Elapsed time is 0.00336599 seconds.\n",
            "ans =\n",
            "\n",
            "   1.25992104989487   1.25992104989487\n",
            "\n",
            "Elapsed time is 0.00883698 seconds.\n",
            "ans =\n",
            "\n",
            "   1.25992104989487   1.25992104989487\n",
            "\n",
            "Elapsed time is 0.00399184 seconds.\n"
          ]
        }
      ]
    },
    {
      "cell_type": "code",
      "source": [
        "%%writefile insertion.m\n",
        "function x = insertion(x)\n",
        "n = length(x);\n",
        "for i = 2:n\n",
        "  j = i-1;\n",
        "  xi = x(i);\n",
        "  while j>=1 && xi<x(j), j = j-1; end % continue until a smaller coefficient is found\n",
        "  x = [x(1:j),xi,x(j+1:i-1),x(i+1:end)]; % move xi after x(j) (<=xi)\n",
        "end"
      ],
      "metadata": {
        "colab": {
          "base_uri": "https://localhost:8080/"
        },
        "id": "jIHr5kIBZXU4",
        "outputId": "cd248b28-6dbd-42e5-ea68-6369fb063e8c"
      },
      "execution_count": 108,
      "outputs": [
        {
          "output_type": "stream",
          "name": "stdout",
          "text": [
            "Overwriting insertion.m\n"
          ]
        }
      ]
    },
    {
      "cell_type": "code",
      "source": [
        "%%writefile merge.m\n",
        "function x = merge(x1,x2)\n",
        "n1 = length(x1);\n",
        "n2 = length(x2);\n",
        "i1 = 0;\n",
        "i2 = 0;\n",
        "x = [x1,x2];\n",
        "while i1<n1 || i2<n2\n",
        "    if i1<n1 && i2<n2\n",
        "        if x1(i1+1)<=x2(i2+1)\n",
        "            x(i1+i2+1) = x1(i1+1);\n",
        "            i1 = i1+1;\n",
        "        else\n",
        "            x(i1+i2+1) = x2(i2+1);\n",
        "            i2 = i2+1;\n",
        "        end\n",
        "    elseif i1<n1\n",
        "        x(i1+i2+1) = x1(i1+1);\n",
        "        i1 = i1+1;\n",
        "    elseif i2<n2\n",
        "        x(i1+i2+1) = x2(i2+1);\n",
        "        i2 = i2+1;\n",
        "    end\n",
        "end"
      ],
      "metadata": {
        "colab": {
          "base_uri": "https://localhost:8080/"
        },
        "id": "mTor21gYHkkB",
        "outputId": "e39d7c83-d10c-49d6-8bb0-bc00c7f09b95"
      },
      "execution_count": 109,
      "outputs": [
        {
          "output_type": "stream",
          "name": "stdout",
          "text": [
            "Overwriting merge.m\n"
          ]
        }
      ]
    },
    {
      "cell_type": "code",
      "source": [
        "%%writefile mergesort.m\n",
        "function x = mergesort(x)\n",
        "n = length(x);\n",
        "if n>1  \n",
        "  m = fix(n/2);\n",
        "  x1 = mergesort(x(1:m));\n",
        "  x2 = mergesort(x(m+1:end));\n",
        "  x = merge(x1,x2);\n",
        "end"
      ],
      "metadata": {
        "colab": {
          "base_uri": "https://localhost:8080/"
        },
        "id": "7npeHOF2o4QX",
        "outputId": "93285220-43e7-4226-e286-70fd5d492fd6"
      },
      "execution_count": 110,
      "outputs": [
        {
          "output_type": "stream",
          "name": "stdout",
          "text": [
            "Overwriting mergesort.m\n"
          ]
        }
      ]
    },
    {
      "cell_type": "code",
      "source": [
        "%%writefile quicksort.m\n",
        "function x = quicksort(x)\n",
        "n = length(x);\n",
        "if n>1\n",
        "  m = floor(n/2);\n",
        "  i1 = 1;\n",
        "  i2 = 1;\n",
        "  x1 = [];\n",
        "  x2 = [];\n",
        "  xm = x(m);\n",
        "  for i = 1:n\n",
        "    if i~=m\n",
        "      if x(i)<xm\n",
        "        x1(i1) = x(i);\n",
        "        i1 = i1+1;\n",
        "      else\n",
        "        x2(i2) = x(i);\n",
        "        i2 = i2+1;\n",
        "      end\n",
        "    end\n",
        "  end\n",
        "  x1 = quicksort(x1);\n",
        "  x2 = quicksort(x2);\n",
        "  x = [x1,xm,x2];\n",
        "end"
      ],
      "metadata": {
        "colab": {
          "base_uri": "https://localhost:8080/"
        },
        "id": "V5reWTVqpDbi",
        "outputId": "ba82d788-881f-4f8e-fd33-bff361cddaec"
      },
      "execution_count": 111,
      "outputs": [
        {
          "output_type": "stream",
          "name": "stdout",
          "text": [
            "Overwriting quicksort.m\n"
          ]
        }
      ]
    },
    {
      "cell_type": "code",
      "source": [
        "%%writefile runsorts.m\n",
        "max_recursion_depth(32768)\n",
        "\n",
        "x = sort(rand(1,2000));\n",
        "n = 2000\n",
        "\n",
        "z = round(10*rand(1,10))\n",
        "insertion(z)\n",
        "mergesort(z)\n",
        "quicksort(z)\n",
        "sort(z)\n",
        "\n",
        "fprintf('\\n')\n",
        "\n",
        "%a\n",
        "fprintf('Part a:')\n",
        "fprintf('\\n')\n",
        "tic, insertion(x); toc\n",
        "tic, mergesort(x); toc\n",
        "tic, quicksort(x); toc\n",
        "fprintf('\\n')\n",
        "\n",
        "%b\n",
        "fprintf('Part b:')\n",
        "fprintf('\\n')\n",
        "tic, insertion(x(n:-1:1)); toc\n",
        "tic, mergesort(x(n:-1:1)); toc\n",
        "tic, quicksort(x(n:-1:1)); toc\n",
        "fprintf('\\n')\n",
        "\n",
        "%c\n",
        "fprintf('Part c:')\n",
        "fprintf('\\n')\n",
        "tic, insertion(x([1:2:n,2:2:n])); toc\n",
        "tic, mergesort(x([1:2:n,2:2:n])); toc\n",
        "tic, quicksort(x([1:2:n,2:2:n])); toc\n",
        "fprintf('\\n')\n",
        "\n",
        "%d\n",
        "fprintf('Part d:')\n",
        "fprintf('\\n')\n",
        "tic, insertion(x(randperm(n))); toc\n",
        "tic, mergesort(x(randperm(n))); toc\n",
        "tic, quicksort(x(randperm(n))); toc\n",
        "fprintf('\\n')\n"
      ],
      "metadata": {
        "colab": {
          "base_uri": "https://localhost:8080/"
        },
        "id": "PZqk7a5Aqdib",
        "outputId": "3e37cc8f-72f6-4961-8f28-f0e72a4bf1da"
      },
      "execution_count": 112,
      "outputs": [
        {
          "output_type": "stream",
          "name": "stdout",
          "text": [
            "Overwriting runsorts.m\n"
          ]
        }
      ]
    },
    {
      "cell_type": "code",
      "source": [
        "!octave -W runsorts.m"
      ],
      "metadata": {
        "colab": {
          "base_uri": "https://localhost:8080/"
        },
        "id": "wZSKkXZpq4Be",
        "outputId": "5ba9214e-f013-422f-be31-fb3ce8df0787"
      },
      "execution_count": 113,
      "outputs": [
        {
          "output_type": "stream",
          "name": "stdout",
          "text": [
            "warning: function ./merge.m shadows a built-in function\n",
            "n =  2000\n",
            "z =\n",
            "\n",
            "    4    7    3    5   10    5    5    3    9    1\n",
            "\n",
            "ans =\n",
            "\n",
            "    1    3    3    4    5    5    5    7    9   10\n",
            "\n",
            "ans =\n",
            "\n",
            "    1    3    3    4    5    5    5    7    9   10\n",
            "\n",
            "ans =\n",
            "\n",
            "    1    3    3    4    5    5    5    7    9   10\n",
            "\n",
            "ans =\n",
            "\n",
            "    1    3    3    4    5    5    5    7    9   10\n",
            "\n",
            "\n",
            "Part a:\n",
            "Elapsed time is 0.0688331 seconds.\n",
            "Elapsed time is 0.419407 seconds.\n",
            "Elapsed time is 0.223992 seconds.\n",
            "\n",
            "Part b:\n",
            "Elapsed time is 8.90325 seconds.\n",
            "Elapsed time is 0.412264 seconds.\n",
            "Elapsed time is 0.233311 seconds.\n",
            "\n",
            "Part c:\n",
            "Elapsed time is 2.26138 seconds.\n",
            "Elapsed time is 0.418815 seconds.\n",
            "Elapsed time is 9.45723 seconds.\n",
            "\n",
            "Part d:\n",
            "Elapsed time is 4.46244 seconds.\n",
            "Elapsed time is 0.437951 seconds.\n",
            "Elapsed time is 0.287294 seconds.\n",
            "\n"
          ]
        }
      ]
    },
    {
      "cell_type": "code",
      "source": [
        ""
      ],
      "metadata": {
        "id": "F-q2sn_6q-cb"
      },
      "execution_count": 113,
      "outputs": []
    }
  ]
}