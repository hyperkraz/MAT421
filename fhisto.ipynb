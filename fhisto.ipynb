{
  "nbformat": 4,
  "nbformat_minor": 0,
  "metadata": {
    "colab": {
      "name": "fhisto.ipynb",
      "provenance": [],
      "collapsed_sections": [],
      "authorship_tag": "ABX9TyMj3fhnKBbQfeDFO9sT+NLQ",
      "include_colab_link": true
    },
    "kernelspec": {
      "name": "python3",
      "display_name": "Python 3"
    },
    "language_info": {
      "name": "python"
    }
  },
  "cells": [
    {
      "cell_type": "markdown",
      "metadata": {
        "id": "view-in-github",
        "colab_type": "text"
      },
      "source": [
        "<a href=\"https://colab.research.google.com/github/hyperkraz/MAT421/blob/main/fhisto.ipynb\" target=\"_parent\"><img src=\"https://colab.research.google.com/assets/colab-badge.svg\" alt=\"Open In Colab\"/></a>"
      ]
    },
    {
      "cell_type": "code",
      "execution_count": 34,
      "metadata": {
        "id": "VW116fPwnXVk"
      },
      "outputs": [],
      "source": [
        ""
      ]
    },
    {
      "cell_type": "markdown",
      "source": [
        "**f**"
      ],
      "metadata": {
        "id": "XgseK3cCncLY"
      }
    },
    {
      "cell_type": "code",
      "source": [
        "from google.colab import files\n",
        "uploaded = files.upload()"
      ],
      "metadata": {
        "colab": {
          "resources": {
            "http://localhost:8080/nbextensions/google.colab/files.js": {
              "data": "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",
              "ok": true,
              "headers": [
                [
                  "content-type",
                  "application/javascript"
                ]
              ],
              "status": 200,
              "status_text": ""
            }
          },
          "base_uri": "https://localhost:8080/",
          "height": 38
        },
        "id": "kjhAmBNUndjv",
        "outputId": "955a69d2-ab03-4898-c67d-67dbbe498efd"
      },
      "execution_count": 35,
      "outputs": [
        {
          "output_type": "display_data",
          "data": {
            "text/plain": [
              "<IPython.core.display.HTML object>"
            ],
            "text/html": [
              "\n",
              "     <input type=\"file\" id=\"files-04d3f436-d03e-4a28-95a3-f5382aa19333\" name=\"files[]\" multiple disabled\n",
              "        style=\"border:none\" />\n",
              "     <output id=\"result-04d3f436-d03e-4a28-95a3-f5382aa19333\">\n",
              "      Upload widget is only available when the cell has been executed in the\n",
              "      current browser session. Please rerun this cell to enable.\n",
              "      </output>\n",
              "      <script src=\"/nbextensions/google.colab/files.js\"></script> "
            ]
          },
          "metadata": {}
        }
      ]
    },
    {
      "cell_type": "code",
      "source": [
        "import numpy as np\n",
        "obs = np.loadtxt('stdgull.txt')\n",
        "len(obs)"
      ],
      "metadata": {
        "colab": {
          "base_uri": "https://localhost:8080/"
        },
        "id": "hP-erZM3no2u",
        "outputId": "59ad0df1-f56d-4b3a-d485-57fb5b422fad"
      },
      "execution_count": 36,
      "outputs": [
        {
          "output_type": "execute_result",
          "data": {
            "text/plain": [
              "20655"
            ]
          },
          "metadata": {},
          "execution_count": 36
        }
      ]
    },
    {
      "cell_type": "code",
      "source": [
        "print(obs.mean(),obs.std())"
      ],
      "metadata": {
        "colab": {
          "base_uri": "https://localhost:8080/"
        },
        "id": "WQtOFxDr7ZTo",
        "outputId": "be58e50e-0d88-4cae-b096-f67568d117aa"
      },
      "execution_count": 37,
      "outputs": [
        {
          "output_type": "stream",
          "name": "stdout",
          "text": [
            "5.256548051319293 4.790359639876124\n"
          ]
        }
      ]
    },
    {
      "cell_type": "code",
      "source": [
        "import matplotlib.pyplot as plt\n",
        "\n",
        "plt.hist(obs)"
      ],
      "metadata": {
        "colab": {
          "base_uri": "https://localhost:8080/",
          "height": 338
        },
        "id": "RxMGj2sP7hhW",
        "outputId": "f5c9b781-c36c-45ac-cec4-a08761998a4d"
      },
      "execution_count": 38,
      "outputs": [
        {
          "output_type": "execute_result",
          "data": {
            "text/plain": [
              "(array([1.5158e+04, 3.9160e+03, 1.0890e+03, 3.3300e+02, 9.5000e+01,\n",
              "        4.0000e+01, 1.3000e+01, 7.0000e+00, 3.0000e+00, 1.0000e+00]),\n",
              " array([ 1. ,  6.9, 12.8, 18.7, 24.6, 30.5, 36.4, 42.3, 48.2, 54.1, 60. ]),\n",
              " <a list of 10 Patch objects>)"
            ]
          },
          "metadata": {},
          "execution_count": 38
        },
        {
          "output_type": "display_data",
          "data": {
            "text/plain": [
              "<Figure size 432x288 with 1 Axes>"
            ],
            "image/png": "[encoded data removed]"
          },
          "metadata": {
            "needs_background": "light"
          }
        }
      ]
    },
    {
      "cell_type": "code",
      "source": [
        "plt.hist(obs,bins=144)"
      ],
      "metadata": {
        "colab": {
          "base_uri": "https://localhost:8080/",
          "height": 1000
        },
        "id": "qEdgC1ln7wX9",
        "outputId": "a1763147-c6af-4119-e473-0af0f05a829e"
      },
      "execution_count": 39,
      "outputs": [
        {
          "output_type": "execute_result",
          "data": {
            "text/plain": [
              "(array([3.005e+03, 0.000e+00, 3.657e+03, 0.000e+00, 3.165e+03, 0.000e+00,\n",
              "        0.000e+00, 2.188e+03, 0.000e+00, 1.754e+03, 0.000e+00, 0.000e+00,\n",
              "        1.389e+03, 0.000e+00, 1.084e+03, 0.000e+00, 0.000e+00, 8.140e+02,\n",
              "        0.000e+00, 6.920e+02, 0.000e+00, 5.240e+02, 0.000e+00, 0.000e+00,\n",
              "        4.220e+02, 0.000e+00, 3.800e+02, 0.000e+00, 0.000e+00, 2.800e+02,\n",
              "        0.000e+00, 2.310e+02, 0.000e+00, 0.000e+00, 1.840e+02, 0.000e+00,\n",
              "        1.660e+02, 0.000e+00, 0.000e+00, 1.170e+02, 0.000e+00, 1.110e+02,\n",
              "        0.000e+00, 9.000e+01, 0.000e+00, 0.000e+00, 8.100e+01, 0.000e+00,\n",
              "        6.000e+01, 0.000e+00, 0.000e+00, 4.100e+01, 0.000e+00, 3.600e+01,\n",
              "        0.000e+00, 0.000e+00, 2.500e+01, 0.000e+00, 2.800e+01, 0.000e+00,\n",
              "        0.000e+00, 1.200e+01, 0.000e+00, 9.000e+00, 0.000e+00, 1.700e+01,\n",
              "        0.000e+00, 0.000e+00, 1.100e+01, 0.000e+00, 1.800e+01, 0.000e+00,\n",
              "        0.000e+00, 1.100e+01, 0.000e+00, 1.100e+01, 0.000e+00, 0.000e+00,\n",
              "        4.000e+00, 0.000e+00, 2.000e+00, 0.000e+00, 9.000e+00, 0.000e+00,\n",
              "        0.000e+00, 3.000e+00, 0.000e+00, 2.000e+00, 0.000e+00, 0.000e+00,\n",
              "        2.000e+00, 0.000e+00, 4.000e+00, 0.000e+00, 0.000e+00, 2.000e+00,\n",
              "        0.000e+00, 2.000e+00, 0.000e+00, 0.000e+00, 1.000e+00, 0.000e+00,\n",
              "        3.000e+00, 0.000e+00, 2.000e+00, 0.000e+00, 0.000e+00, 1.000e+00,\n",
              "        0.000e+00, 1.000e+00, 0.000e+00, 0.000e+00, 0.000e+00, 0.000e+00,\n",
              "        0.000e+00, 0.000e+00, 0.000e+00, 1.000e+00, 0.000e+00, 0.000e+00,\n",
              "        0.000e+00, 0.000e+00, 0.000e+00, 0.000e+00, 2.000e+00, 0.000e+00,\n",
              "        0.000e+00, 0.000e+00, 0.000e+00, 0.000e+00, 0.000e+00, 0.000e+00,\n",
              "        0.000e+00, 0.000e+00, 0.000e+00, 0.000e+00, 0.000e+00, 0.000e+00,\n",
              "        0.000e+00, 0.000e+00, 0.000e+00, 0.000e+00, 0.000e+00, 1.000e+00]),\n",
              " array([ 1.        ,  1.40972222,  1.81944444,  2.22916667,  2.63888889,\n",
              "         3.04861111,  3.45833333,  3.86805556,  4.27777778,  4.6875    ,\n",
              "         5.09722222,  5.50694444,  5.91666667,  6.32638889,  6.73611111,\n",
              "         7.14583333,  7.55555556,  7.96527778,  8.375     ,  8.78472222,\n",
              "         9.19444444,  9.60416667, 10.01388889, 10.42361111, 10.83333333,\n",
              "        11.24305556, 11.65277778, 12.0625    , 12.47222222, 12.88194444,\n",
              "        13.29166667, 13.70138889, 14.11111111, 14.52083333, 14.93055556,\n",
              "        15.34027778, 15.75      , 16.15972222, 16.56944444, 16.97916667,\n",
              "        17.38888889, 17.79861111, 18.20833333, 18.61805556, 19.02777778,\n",
              "        19.4375    , 19.84722222, 20.25694444, 20.66666667, 21.07638889,\n",
              "        21.48611111, 21.89583333, 22.30555556, 22.71527778, 23.125     ,\n",
              "        23.53472222, 23.94444444, 24.35416667, 24.76388889, 25.17361111,\n",
              "        25.58333333, 25.99305556, 26.40277778, 26.8125    , 27.22222222,\n",
              "        27.63194444, 28.04166667, 28.45138889, 28.86111111, 29.27083333,\n",
              "        29.68055556, 30.09027778, 30.5       , 30.90972222, 31.31944444,\n",
              "        31.72916667, 32.13888889, 32.54861111, 32.95833333, 33.36805556,\n",
              "        33.77777778, 34.1875    , 34.59722222, 35.00694444, 35.41666667,\n",
              "        35.82638889, 36.23611111, 36.64583333, 37.05555556, 37.46527778,\n",
              "        37.875     , 38.28472222, 38.69444444, 39.10416667, 39.51388889,\n",
              "        39.92361111, 40.33333333, 40.74305556, 41.15277778, 41.5625    ,\n",
              "        41.97222222, 42.38194444, 42.79166667, 43.20138889, 43.61111111,\n",
              "        44.02083333, 44.43055556, 44.84027778, 45.25      , 45.65972222,\n",
              "        46.06944444, 46.47916667, 46.88888889, 47.29861111, 47.70833333,\n",
              "        48.11805556, 48.52777778, 48.9375    , 49.34722222, 49.75694444,\n",
              "        50.16666667, 50.57638889, 50.98611111, 51.39583333, 51.80555556,\n",
              "        52.21527778, 52.625     , 53.03472222, 53.44444444, 53.85416667,\n",
              "        54.26388889, 54.67361111, 55.08333333, 55.49305556, 55.90277778,\n",
              "        56.3125    , 56.72222222, 57.13194444, 57.54166667, 57.95138889,\n",
              "        58.36111111, 58.77083333, 59.18055556, 59.59027778, 60.        ]),\n",
              " <a list of 144 Patch objects>)"
            ]
          },
          "metadata": {},
          "execution_count": 39
        },
        {
          "output_type": "display_data",
          "data": {
            "text/plain": [
              "<Figure size 432x288 with 1 Axes>"
            ],
            "image/png": "[encoded data removed]"
          },
          "metadata": {
            "needs_background": "light"
          }
        }
      ]
    },
    {
      "cell_type": "code",
      "source": [
        "from google.colab import files\n",
        "uploaded = files.upload()"
      ],
      "metadata": {
        "colab": {
          "resources": {
            "http://localhost:8080/nbextensions/google.colab/files.js": {
              "data": "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",
              "ok": true,
              "headers": [
                [
                  "content-type",
                  "application/javascript"
                ]
              ],
              "status": 200,
              "status_text": ""
            }
          },
          "base_uri": "https://localhost:8080/",
          "height": 38
        },
        "id": "g7V6k1Yg71ge",
        "outputId": "f12fbed1-5270-46d3-f4cc-a846dd9d225c"
      },
      "execution_count": 40,
      "outputs": [
        {
          "output_type": "display_data",
          "data": {
            "text/plain": [
              "<IPython.core.display.HTML object>"
            ],
            "text/html": [
              "\n",
              "     <input type=\"file\" id=\"files-fed5d9a0-42ee-4935-8e2c-57344bc42f95\" name=\"files[]\" multiple disabled\n",
              "        style=\"border:none\" />\n",
              "     <output id=\"result-fed5d9a0-42ee-4935-8e2c-57344bc42f95\">\n",
              "      Upload widget is only available when the cell has been executed in the\n",
              "      current browser session. Please rerun this cell to enable.\n",
              "      </output>\n",
              "      <script src=\"/nbextensions/google.colab/files.js\"></script> "
            ]
          },
          "metadata": {}
        }
      ]
    },
    {
      "cell_type": "code",
      "source": [
        "import numpy as np\n",
        "import matplotlib.pyplot as plt\n",
        "obsu = np.loadtxt('ulystd.txt')\n",
        "bu = len(obsu)\n",
        "print(\"The average number of words between each word with seven or more letters is \",obsu.mean())\n",
        "print(\"The standard deviation of the number of words between each word with seven or more letters is \",obsu.std())\n",
        "print(\"\\n\")\n",
        "plt.hist(obsu,bins=round(np.sqrt(bu)))"
      ],
      "metadata": {
        "colab": {
          "base_uri": "https://localhost:8080/",
          "height": 1000
        },
        "id": "MG5hJHIQ_p2r",
        "outputId": "7b05bfcd-92ed-47eb-bc82-e937f0513ba4"
      },
      "execution_count": 41,
      "outputs": [
        {
          "output_type": "stream",
          "name": "stdout",
          "text": [
            "The average number of words between each word with seven or more letters is  5.460847839775751\n",
            "The standard deviation of the number of words between each word with seven or more letters is  5.774862234239298\n",
            "\n",
            "\n"
          ]
        },
        {
          "output_type": "execute_result",
          "data": {
            "text/plain": [
              "(array([1.0049e+04, 0.0000e+00, 8.2030e+03, 0.0000e+00, 0.0000e+00,\n",
              "        6.5260e+03, 0.0000e+00, 0.0000e+00, 4.4470e+03, 0.0000e+00,\n",
              "        3.6300e+03, 0.0000e+00, 0.0000e+00, 2.8980e+03, 0.0000e+00,\n",
              "        0.0000e+00, 2.2560e+03, 0.0000e+00, 1.8810e+03, 0.0000e+00,\n",
              "        0.0000e+00, 1.4550e+03, 0.0000e+00, 0.0000e+00, 1.2770e+03,\n",
              "        0.0000e+00, 0.0000e+00, 1.0100e+03, 0.0000e+00, 8.4200e+02,\n",
              "        0.0000e+00, 0.0000e+00, 7.4300e+02, 0.0000e+00, 0.0000e+00,\n",
              "        6.0300e+02, 0.0000e+00, 4.7300e+02, 0.0000e+00, 0.0000e+00,\n",
              "        4.1500e+02, 0.0000e+00, 0.0000e+00, 3.5100e+02, 0.0000e+00,\n",
              "        0.0000e+00, 3.1200e+02, 0.0000e+00, 2.5600e+02, 0.0000e+00,\n",
              "        0.0000e+00, 2.2600e+02, 0.0000e+00, 0.0000e+00, 1.9500e+02,\n",
              "        0.0000e+00, 1.3600e+02, 0.0000e+00, 0.0000e+00, 1.4400e+02,\n",
              "        0.0000e+00, 0.0000e+00, 1.0200e+02, 0.0000e+00, 1.0300e+02,\n",
              "        0.0000e+00, 0.0000e+00, 8.3000e+01, 0.0000e+00, 0.0000e+00,\n",
              "        8.4000e+01, 0.0000e+00, 0.0000e+00, 5.4000e+01, 0.0000e+00,\n",
              "        6.6000e+01, 0.0000e+00, 0.0000e+00, 5.2000e+01, 0.0000e+00,\n",
              "        0.0000e+00, 4.1000e+01, 0.0000e+00, 4.3000e+01, 0.0000e+00,\n",
              "        0.0000e+00, 3.2000e+01, 0.0000e+00, 0.0000e+00, 2.5000e+01,\n",
              "        0.0000e+00, 0.0000e+00, 2.8000e+01, 0.0000e+00, 1.9000e+01,\n",
              "        0.0000e+00, 0.0000e+00, 2.7000e+01, 0.0000e+00, 0.0000e+00,\n",
              "        2.0000e+01, 0.0000e+00, 7.0000e+00, 0.0000e+00, 0.0000e+00,\n",
              "        9.0000e+00, 0.0000e+00, 0.0000e+00, 1.6000e+01, 0.0000e+00,\n",
              "        0.0000e+00, 8.0000e+00, 0.0000e+00, 6.0000e+00, 0.0000e+00,\n",
              "        0.0000e+00, 7.0000e+00, 0.0000e+00, 0.0000e+00, 9.0000e+00,\n",
              "        0.0000e+00, 9.0000e+00, 0.0000e+00, 0.0000e+00, 4.0000e+00,\n",
              "        0.0000e+00, 0.0000e+00, 6.0000e+00, 0.0000e+00, 7.0000e+00,\n",
              "        0.0000e+00, 0.0000e+00, 3.0000e+00, 0.0000e+00, 0.0000e+00,\n",
              "        1.0000e+00, 0.0000e+00, 0.0000e+00, 5.0000e+00, 0.0000e+00,\n",
              "        1.0000e+00, 0.0000e+00, 0.0000e+00, 5.0000e+00, 0.0000e+00,\n",
              "        0.0000e+00, 3.0000e+00, 0.0000e+00, 3.0000e+00, 0.0000e+00,\n",
              "        0.0000e+00, 0.0000e+00, 0.0000e+00, 0.0000e+00, 1.0000e+00,\n",
              "        0.0000e+00, 0.0000e+00, 3.0000e+00, 0.0000e+00, 1.0000e+00,\n",
              "        0.0000e+00, 0.0000e+00, 0.0000e+00, 0.0000e+00, 0.0000e+00,\n",
              "        1.0000e+00, 0.0000e+00, 0.0000e+00, 0.0000e+00, 0.0000e+00,\n",
              "        1.0000e+00, 0.0000e+00, 0.0000e+00, 1.0000e+00, 0.0000e+00,\n",
              "        1.0000e+00, 0.0000e+00, 0.0000e+00, 0.0000e+00, 0.0000e+00,\n",
              "        0.0000e+00, 0.0000e+00, 0.0000e+00, 0.0000e+00, 0.0000e+00,\n",
              "        0.0000e+00, 1.0000e+00, 0.0000e+00, 0.0000e+00, 1.0000e+00,\n",
              "        0.0000e+00, 0.0000e+00, 0.0000e+00, 0.0000e+00, 0.0000e+00,\n",
              "        0.0000e+00, 0.0000e+00, 1.0000e+00, 0.0000e+00, 0.0000e+00,\n",
              "        0.0000e+00, 0.0000e+00, 0.0000e+00, 0.0000e+00, 0.0000e+00,\n",
              "        0.0000e+00, 0.0000e+00, 0.0000e+00, 2.0000e+00, 0.0000e+00,\n",
              "        0.0000e+00, 0.0000e+00, 0.0000e+00, 0.0000e+00, 0.0000e+00,\n",
              "        0.0000e+00, 0.0000e+00, 0.0000e+00, 0.0000e+00, 0.0000e+00,\n",
              "        0.0000e+00, 1.0000e+00]),\n",
              " array([ 1.        ,  1.36936937,  1.73873874,  2.10810811,  2.47747748,\n",
              "         2.84684685,  3.21621622,  3.58558559,  3.95495495,  4.32432432,\n",
              "         4.69369369,  5.06306306,  5.43243243,  5.8018018 ,  6.17117117,\n",
              "         6.54054054,  6.90990991,  7.27927928,  7.64864865,  8.01801802,\n",
              "         8.38738739,  8.75675676,  9.12612613,  9.4954955 ,  9.86486486,\n",
              "        10.23423423, 10.6036036 , 10.97297297, 11.34234234, 11.71171171,\n",
              "        12.08108108, 12.45045045, 12.81981982, 13.18918919, 13.55855856,\n",
              "        13.92792793, 14.2972973 , 14.66666667, 15.03603604, 15.40540541,\n",
              "        15.77477477, 16.14414414, 16.51351351, 16.88288288, 17.25225225,\n",
              "        17.62162162, 17.99099099, 18.36036036, 18.72972973, 19.0990991 ,\n",
              "        19.46846847, 19.83783784, 20.20720721, 20.57657658, 20.94594595,\n",
              "        21.31531532, 21.68468468, 22.05405405, 22.42342342, 22.79279279,\n",
              "        23.16216216, 23.53153153, 23.9009009 , 24.27027027, 24.63963964,\n",
              "        25.00900901, 25.37837838, 25.74774775, 26.11711712, 26.48648649,\n",
              "        26.85585586, 27.22522523, 27.59459459, 27.96396396, 28.33333333,\n",
              "        28.7027027 , 29.07207207, 29.44144144, 29.81081081, 30.18018018,\n",
              "        30.54954955, 30.91891892, 31.28828829, 31.65765766, 32.02702703,\n",
              "        32.3963964 , 32.76576577, 33.13513514, 33.5045045 , 33.87387387,\n",
              "        34.24324324, 34.61261261, 34.98198198, 35.35135135, 35.72072072,\n",
              "        36.09009009, 36.45945946, 36.82882883, 37.1981982 , 37.56756757,\n",
              "        37.93693694, 38.30630631, 38.67567568, 39.04504505, 39.41441441,\n",
              "        39.78378378, 40.15315315, 40.52252252, 40.89189189, 41.26126126,\n",
              "        41.63063063, 42.        , 42.36936937, 42.73873874, 43.10810811,\n",
              "        43.47747748, 43.84684685, 44.21621622, 44.58558559, 44.95495495,\n",
              "        45.32432432, 45.69369369, 46.06306306, 46.43243243, 46.8018018 ,\n",
              "        47.17117117, 47.54054054, 47.90990991, 48.27927928, 48.64864865,\n",
              "        49.01801802, 49.38738739, 49.75675676, 50.12612613, 50.4954955 ,\n",
              "        50.86486486, 51.23423423, 51.6036036 , 51.97297297, 52.34234234,\n",
              "        52.71171171, 53.08108108, 53.45045045, 53.81981982, 54.18918919,\n",
              "        54.55855856, 54.92792793, 55.2972973 , 55.66666667, 56.03603604,\n",
              "        56.40540541, 56.77477477, 57.14414414, 57.51351351, 57.88288288,\n",
              "        58.25225225, 58.62162162, 58.99099099, 59.36036036, 59.72972973,\n",
              "        60.0990991 , 60.46846847, 60.83783784, 61.20720721, 61.57657658,\n",
              "        61.94594595, 62.31531532, 62.68468468, 63.05405405, 63.42342342,\n",
              "        63.79279279, 64.16216216, 64.53153153, 64.9009009 , 65.27027027,\n",
              "        65.63963964, 66.00900901, 66.37837838, 66.74774775, 67.11711712,\n",
              "        67.48648649, 67.85585586, 68.22522523, 68.59459459, 68.96396396,\n",
              "        69.33333333, 69.7027027 , 70.07207207, 70.44144144, 70.81081081,\n",
              "        71.18018018, 71.54954955, 71.91891892, 72.28828829, 72.65765766,\n",
              "        73.02702703, 73.3963964 , 73.76576577, 74.13513514, 74.5045045 ,\n",
              "        74.87387387, 75.24324324, 75.61261261, 75.98198198, 76.35135135,\n",
              "        76.72072072, 77.09009009, 77.45945946, 77.82882883, 78.1981982 ,\n",
              "        78.56756757, 78.93693694, 79.30630631, 79.67567568, 80.04504505,\n",
              "        80.41441441, 80.78378378, 81.15315315, 81.52252252, 81.89189189,\n",
              "        82.26126126, 82.63063063, 83.        ]),\n",
              " <a list of 222 Patch objects>)"
            ]
          },
          "metadata": {},
          "execution_count": 41
        },
        {
          "output_type": "display_data",
          "data": {
            "text/plain": [
              "<Figure size 432x288 with 1 Axes>"
            ],
            "image/png": "[encoded data removed]"
          },
          "metadata": {
            "needs_background": "light"
          }
        }
      ]
    },
    {
      "cell_type": "code",
      "source": [
        "import numpy as np\n",
        "import matplotlib.pyplot as plt\n",
        "obsd = np.loadtxt('donqstd.txt')\n",
        "bd = len(obsd)\n",
        "print(\"The average number of words between each word with seven or more letters is \",obsd.mean())\n",
        "print(\"The standard deviation of the number of words between each word with seven or more letters is \",obsd.std())\n",
        "print(\"\\n\")\n",
        "plt.hist(obsd,bins=round(np.sqrt(bd)))"
      ],
      "metadata": {
        "colab": {
          "base_uri": "https://localhost:8080/",
          "height": 1000
        },
        "id": "aMK5i2ck_7y7",
        "outputId": "60935b49-aed9-4303-ff59-80d94f3f6b22"
      },
      "execution_count": 42,
      "outputs": [
        {
          "output_type": "stream",
          "name": "stdout",
          "text": [
            "The average number of words between each word with seven or more letters is  6.705854448497538\n",
            "The standard deviation of the number of words between each word with seven or more letters is  6.405644770910976\n",
            "\n",
            "\n"
          ]
        },
        {
          "output_type": "execute_result",
          "data": {
            "text/plain": [
              "(array([6.974e+03, 0.000e+00, 9.346e+03, 0.000e+00, 0.000e+00, 7.511e+03,\n",
              "        0.000e+00, 0.000e+00, 5.900e+03, 0.000e+00, 0.000e+00, 4.972e+03,\n",
              "        0.000e+00, 0.000e+00, 4.139e+03, 0.000e+00, 0.000e+00, 3.436e+03,\n",
              "        0.000e+00, 0.000e+00, 2.843e+03, 0.000e+00, 0.000e+00, 2.377e+03,\n",
              "        0.000e+00, 0.000e+00, 1.979e+03, 0.000e+00, 0.000e+00, 1.736e+03,\n",
              "        0.000e+00, 1.484e+03, 0.000e+00, 0.000e+00, 1.162e+03, 0.000e+00,\n",
              "        0.000e+00, 9.920e+02, 0.000e+00, 0.000e+00, 9.050e+02, 0.000e+00,\n",
              "        0.000e+00, 7.500e+02, 0.000e+00, 0.000e+00, 6.620e+02, 0.000e+00,\n",
              "        0.000e+00, 5.680e+02, 0.000e+00, 0.000e+00, 4.340e+02, 0.000e+00,\n",
              "        0.000e+00, 4.120e+02, 0.000e+00, 0.000e+00, 3.330e+02, 0.000e+00,\n",
              "        0.000e+00, 3.100e+02, 0.000e+00, 2.480e+02, 0.000e+00, 0.000e+00,\n",
              "        2.060e+02, 0.000e+00, 0.000e+00, 1.990e+02, 0.000e+00, 0.000e+00,\n",
              "        1.740e+02, 0.000e+00, 0.000e+00, 1.300e+02, 0.000e+00, 0.000e+00,\n",
              "        1.050e+02, 0.000e+00, 0.000e+00, 1.040e+02, 0.000e+00, 0.000e+00,\n",
              "        1.070e+02, 0.000e+00, 0.000e+00, 7.900e+01, 0.000e+00, 0.000e+00,\n",
              "        5.900e+01, 0.000e+00, 6.400e+01, 0.000e+00, 0.000e+00, 6.800e+01,\n",
              "        0.000e+00, 0.000e+00, 4.600e+01, 0.000e+00, 0.000e+00, 3.800e+01,\n",
              "        0.000e+00, 0.000e+00, 2.500e+01, 0.000e+00, 0.000e+00, 3.200e+01,\n",
              "        0.000e+00, 0.000e+00, 2.200e+01, 0.000e+00, 0.000e+00, 2.800e+01,\n",
              "        0.000e+00, 0.000e+00, 2.100e+01, 0.000e+00, 0.000e+00, 1.000e+01,\n",
              "        0.000e+00, 0.000e+00, 1.400e+01, 0.000e+00, 2.000e+01, 0.000e+00,\n",
              "        0.000e+00, 1.500e+01, 0.000e+00, 0.000e+00, 8.000e+00, 0.000e+00,\n",
              "        0.000e+00, 9.000e+00, 0.000e+00, 0.000e+00, 6.000e+00, 0.000e+00,\n",
              "        0.000e+00, 7.000e+00, 0.000e+00, 0.000e+00, 1.000e+01, 0.000e+00,\n",
              "        0.000e+00, 7.000e+00, 0.000e+00, 0.000e+00, 7.000e+00, 0.000e+00,\n",
              "        0.000e+00, 5.000e+00, 0.000e+00, 0.000e+00, 2.000e+00, 0.000e+00,\n",
              "        1.000e+00, 0.000e+00, 0.000e+00, 5.000e+00, 0.000e+00, 0.000e+00,\n",
              "        2.000e+00, 0.000e+00, 0.000e+00, 2.000e+00, 0.000e+00, 0.000e+00,\n",
              "        2.000e+00, 0.000e+00, 0.000e+00, 1.000e+00, 0.000e+00, 0.000e+00,\n",
              "        3.000e+00, 0.000e+00, 0.000e+00, 1.000e+00, 0.000e+00, 0.000e+00,\n",
              "        1.000e+00, 0.000e+00, 0.000e+00, 3.000e+00, 0.000e+00, 1.000e+00,\n",
              "        0.000e+00, 0.000e+00, 0.000e+00, 0.000e+00, 0.000e+00, 3.000e+00,\n",
              "        0.000e+00, 0.000e+00, 1.000e+00, 0.000e+00, 0.000e+00, 1.000e+00,\n",
              "        0.000e+00, 0.000e+00, 1.000e+00, 0.000e+00, 0.000e+00, 1.000e+00,\n",
              "        0.000e+00, 0.000e+00, 1.000e+00, 0.000e+00, 0.000e+00, 1.000e+00,\n",
              "        0.000e+00, 0.000e+00, 1.000e+00, 0.000e+00, 0.000e+00, 0.000e+00,\n",
              "        0.000e+00, 0.000e+00, 0.000e+00, 0.000e+00, 0.000e+00, 0.000e+00,\n",
              "        0.000e+00, 0.000e+00, 0.000e+00, 0.000e+00, 0.000e+00, 0.000e+00,\n",
              "        0.000e+00, 0.000e+00, 0.000e+00, 0.000e+00, 0.000e+00, 0.000e+00,\n",
              "        0.000e+00, 0.000e+00, 0.000e+00, 0.000e+00, 0.000e+00, 0.000e+00,\n",
              "        0.000e+00, 0.000e+00, 0.000e+00, 0.000e+00, 0.000e+00, 0.000e+00,\n",
              "        1.000e+00]),\n",
              " array([ 1.        ,  1.34412955,  1.68825911,  2.03238866,  2.37651822,\n",
              "         2.72064777,  3.06477733,  3.40890688,  3.75303644,  4.09716599,\n",
              "         4.44129555,  4.7854251 ,  5.12955466,  5.47368421,  5.81781377,\n",
              "         6.16194332,  6.50607287,  6.85020243,  7.19433198,  7.53846154,\n",
              "         7.88259109,  8.22672065,  8.5708502 ,  8.91497976,  9.25910931,\n",
              "         9.60323887,  9.94736842, 10.29149798, 10.63562753, 10.97975709,\n",
              "        11.32388664, 11.66801619, 12.01214575, 12.3562753 , 12.70040486,\n",
              "        13.04453441, 13.38866397, 13.73279352, 14.07692308, 14.42105263,\n",
              "        14.76518219, 15.10931174, 15.4534413 , 15.79757085, 16.1417004 ,\n",
              "        16.48582996, 16.82995951, 17.17408907, 17.51821862, 17.86234818,\n",
              "        18.20647773, 18.55060729, 18.89473684, 19.2388664 , 19.58299595,\n",
              "        19.92712551, 20.27125506, 20.61538462, 20.95951417, 21.30364372,\n",
              "        21.64777328, 21.99190283, 22.33603239, 22.68016194, 23.0242915 ,\n",
              "        23.36842105, 23.71255061, 24.05668016, 24.40080972, 24.74493927,\n",
              "        25.08906883, 25.43319838, 25.77732794, 26.12145749, 26.46558704,\n",
              "        26.8097166 , 27.15384615, 27.49797571, 27.84210526, 28.18623482,\n",
              "        28.53036437, 28.87449393, 29.21862348, 29.56275304, 29.90688259,\n",
              "        30.25101215, 30.5951417 , 30.93927126, 31.28340081, 31.62753036,\n",
              "        31.97165992, 32.31578947, 32.65991903, 33.00404858, 33.34817814,\n",
              "        33.69230769, 34.03643725, 34.3805668 , 34.72469636, 35.06882591,\n",
              "        35.41295547, 35.75708502, 36.10121457, 36.44534413, 36.78947368,\n",
              "        37.13360324, 37.47773279, 37.82186235, 38.1659919 , 38.51012146,\n",
              "        38.85425101, 39.19838057, 39.54251012, 39.88663968, 40.23076923,\n",
              "        40.57489879, 40.91902834, 41.26315789, 41.60728745, 41.951417  ,\n",
              "        42.29554656, 42.63967611, 42.98380567, 43.32793522, 43.67206478,\n",
              "        44.01619433, 44.36032389, 44.70445344, 45.048583  , 45.39271255,\n",
              "        45.73684211, 46.08097166, 46.42510121, 46.76923077, 47.11336032,\n",
              "        47.45748988, 47.80161943, 48.14574899, 48.48987854, 48.8340081 ,\n",
              "        49.17813765, 49.52226721, 49.86639676, 50.21052632, 50.55465587,\n",
              "        50.89878543, 51.24291498, 51.58704453, 51.93117409, 52.27530364,\n",
              "        52.6194332 , 52.96356275, 53.30769231, 53.65182186, 53.99595142,\n",
              "        54.34008097, 54.68421053, 55.02834008, 55.37246964, 55.71659919,\n",
              "        56.06072874, 56.4048583 , 56.74898785, 57.09311741, 57.43724696,\n",
              "        57.78137652, 58.12550607, 58.46963563, 58.81376518, 59.15789474,\n",
              "        59.50202429, 59.84615385, 60.1902834 , 60.53441296, 60.87854251,\n",
              "        61.22267206, 61.56680162, 61.91093117, 62.25506073, 62.59919028,\n",
              "        62.94331984, 63.28744939, 63.63157895, 63.9757085 , 64.31983806,\n",
              "        64.66396761, 65.00809717, 65.35222672, 65.69635628, 66.04048583,\n",
              "        66.38461538, 66.72874494, 67.07287449, 67.41700405, 67.7611336 ,\n",
              "        68.10526316, 68.44939271, 68.79352227, 69.13765182, 69.48178138,\n",
              "        69.82591093, 70.17004049, 70.51417004, 70.8582996 , 71.20242915,\n",
              "        71.5465587 , 71.89068826, 72.23481781, 72.57894737, 72.92307692,\n",
              "        73.26720648, 73.61133603, 73.95546559, 74.29959514, 74.6437247 ,\n",
              "        74.98785425, 75.33198381, 75.67611336, 76.02024291, 76.36437247,\n",
              "        76.70850202, 77.05263158, 77.39676113, 77.74089069, 78.08502024,\n",
              "        78.4291498 , 78.77327935, 79.11740891, 79.46153846, 79.80566802,\n",
              "        80.14979757, 80.49392713, 80.83805668, 81.18218623, 81.52631579,\n",
              "        81.87044534, 82.2145749 , 82.55870445, 82.90283401, 83.24696356,\n",
              "        83.59109312, 83.93522267, 84.27935223, 84.62348178, 84.96761134,\n",
              "        85.31174089, 85.65587045, 86.        ]),\n",
              " <a list of 247 Patch objects>)"
            ]
          },
          "metadata": {},
          "execution_count": 42
        },
        {
          "output_type": "display_data",
          "data": {
            "text/plain": [
              "<Figure size 432x288 with 1 Axes>"
            ],
            "image/png": "[encoded data removed]"
          },
          "metadata": {
            "needs_background": "light"
          }
        }
      ]
    },
    {
      "cell_type": "code",
      "source": [
        "import numpy as np\n",
        "import matplotlib.pyplot as plt\n",
        "obsg = np.loadtxt('gulliverstd.txt')\n",
        "bg = len(obsg)\n",
        "print(\"The average number of words between each word with seven or more letters is \",obsg.mean())\n",
        "print(\"The standard deviation of the number of words between each word with seven or more letters is \",obsg.std())\n",
        "print(\"\\n\")\n",
        "plt.hist(obsg,bins=round(np.sqrt(bg)))"
      ],
      "metadata": {
        "colab": {
          "base_uri": "https://localhost:8080/",
          "height": 1000
        },
        "id": "KgGzfSBSADNJ",
        "outputId": "434dc1eb-e41c-4ccb-85a2-3babb310e1c5"
      },
      "execution_count": 43,
      "outputs": [
        {
          "output_type": "stream",
          "name": "stdout",
          "text": [
            "The average number of words between each word with seven or more letters is  5.346177245994728\n",
            "The standard deviation of the number of words between each word with seven or more letters is  4.842334173896999\n",
            "\n",
            "\n"
          ]
        },
        {
          "output_type": "execute_result",
          "data": {
            "text/plain": [
              "(array([2.722e+03, 0.000e+00, 3.433e+03, 0.000e+00, 3.042e+03, 0.000e+00,\n",
              "        0.000e+00, 2.113e+03, 0.000e+00, 1.701e+03, 0.000e+00, 1.338e+03,\n",
              "        0.000e+00, 0.000e+00, 1.051e+03, 0.000e+00, 7.870e+02, 0.000e+00,\n",
              "        6.730e+02, 0.000e+00, 0.000e+00, 5.150e+02, 0.000e+00, 4.170e+02,\n",
              "        0.000e+00, 0.000e+00, 3.670e+02, 0.000e+00, 2.750e+02, 0.000e+00,\n",
              "        2.250e+02, 0.000e+00, 0.000e+00, 1.820e+02, 0.000e+00, 1.660e+02,\n",
              "        0.000e+00, 1.160e+02, 0.000e+00, 0.000e+00, 1.110e+02, 0.000e+00,\n",
              "        8.900e+01, 0.000e+00, 0.000e+00, 8.100e+01, 0.000e+00, 5.900e+01,\n",
              "        0.000e+00, 4.100e+01, 0.000e+00, 0.000e+00, 3.600e+01, 0.000e+00,\n",
              "        2.500e+01, 0.000e+00, 2.800e+01, 0.000e+00, 0.000e+00, 1.200e+01,\n",
              "        0.000e+00, 9.000e+00, 0.000e+00, 0.000e+00, 1.700e+01, 0.000e+00,\n",
              "        1.100e+01, 0.000e+00, 1.800e+01, 0.000e+00, 0.000e+00, 1.100e+01,\n",
              "        0.000e+00, 1.100e+01, 0.000e+00, 4.000e+00, 0.000e+00, 0.000e+00,\n",
              "        2.000e+00, 0.000e+00, 9.000e+00, 0.000e+00, 0.000e+00, 3.000e+00,\n",
              "        0.000e+00, 2.000e+00, 0.000e+00, 2.000e+00, 0.000e+00, 0.000e+00,\n",
              "        4.000e+00, 0.000e+00, 2.000e+00, 0.000e+00, 2.000e+00, 0.000e+00,\n",
              "        0.000e+00, 1.000e+00, 0.000e+00, 3.000e+00, 0.000e+00, 0.000e+00,\n",
              "        2.000e+00, 0.000e+00, 1.000e+00, 0.000e+00, 1.000e+00, 0.000e+00,\n",
              "        0.000e+00, 0.000e+00, 0.000e+00, 0.000e+00, 0.000e+00, 1.000e+00,\n",
              "        0.000e+00, 0.000e+00, 0.000e+00, 0.000e+00, 0.000e+00, 0.000e+00,\n",
              "        0.000e+00, 2.000e+00, 0.000e+00, 0.000e+00, 0.000e+00, 0.000e+00,\n",
              "        0.000e+00, 0.000e+00, 0.000e+00, 0.000e+00, 0.000e+00, 0.000e+00,\n",
              "        0.000e+00, 0.000e+00, 0.000e+00, 0.000e+00, 0.000e+00, 0.000e+00,\n",
              "        0.000e+00, 1.000e+00]),\n",
              " array([ 1.        ,  1.42142857,  1.84285714,  2.26428571,  2.68571429,\n",
              "         3.10714286,  3.52857143,  3.95      ,  4.37142857,  4.79285714,\n",
              "         5.21428571,  5.63571429,  6.05714286,  6.47857143,  6.9       ,\n",
              "         7.32142857,  7.74285714,  8.16428571,  8.58571429,  9.00714286,\n",
              "         9.42857143,  9.85      , 10.27142857, 10.69285714, 11.11428571,\n",
              "        11.53571429, 11.95714286, 12.37857143, 12.8       , 13.22142857,\n",
              "        13.64285714, 14.06428571, 14.48571429, 14.90714286, 15.32857143,\n",
              "        15.75      , 16.17142857, 16.59285714, 17.01428571, 17.43571429,\n",
              "        17.85714286, 18.27857143, 18.7       , 19.12142857, 19.54285714,\n",
              "        19.96428571, 20.38571429, 20.80714286, 21.22857143, 21.65      ,\n",
              "        22.07142857, 22.49285714, 22.91428571, 23.33571429, 23.75714286,\n",
              "        24.17857143, 24.6       , 25.02142857, 25.44285714, 25.86428571,\n",
              "        26.28571429, 26.70714286, 27.12857143, 27.55      , 27.97142857,\n",
              "        28.39285714, 28.81428571, 29.23571429, 29.65714286, 30.07857143,\n",
              "        30.5       , 30.92142857, 31.34285714, 31.76428571, 32.18571429,\n",
              "        32.60714286, 33.02857143, 33.45      , 33.87142857, 34.29285714,\n",
              "        34.71428571, 35.13571429, 35.55714286, 35.97857143, 36.4       ,\n",
              "        36.82142857, 37.24285714, 37.66428571, 38.08571429, 38.50714286,\n",
              "        38.92857143, 39.35      , 39.77142857, 40.19285714, 40.61428571,\n",
              "        41.03571429, 41.45714286, 41.87857143, 42.3       , 42.72142857,\n",
              "        43.14285714, 43.56428571, 43.98571429, 44.40714286, 44.82857143,\n",
              "        45.25      , 45.67142857, 46.09285714, 46.51428571, 46.93571429,\n",
              "        47.35714286, 47.77857143, 48.2       , 48.62142857, 49.04285714,\n",
              "        49.46428571, 49.88571429, 50.30714286, 50.72857143, 51.15      ,\n",
              "        51.57142857, 51.99285714, 52.41428571, 52.83571429, 53.25714286,\n",
              "        53.67857143, 54.1       , 54.52142857, 54.94285714, 55.36428571,\n",
              "        55.78571429, 56.20714286, 56.62857143, 57.05      , 57.47142857,\n",
              "        57.89285714, 58.31428571, 58.73571429, 59.15714286, 59.57857143,\n",
              "        60.        ]),\n",
              " <a list of 140 Patch objects>)"
            ]
          },
          "metadata": {},
          "execution_count": 43
        },
        {
          "output_type": "display_data",
          "data": {
            "text/plain": [
              "<Figure size 432x288 with 1 Axes>"
            ],
            "image/png": "[encoded data removed]"
          },
          "metadata": {
            "needs_background": "light"
          }
        }
      ]
    },
    {
      "cell_type": "code",
      "source": [
        ""
      ],
      "metadata": {
        "id": "gRV-FIbrAG0j"
      },
      "execution_count": 43,
      "outputs": []
    }
  ]
}