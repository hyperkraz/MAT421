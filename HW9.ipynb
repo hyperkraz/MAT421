{
  "nbformat": 4,
  "nbformat_minor": 0,
  "metadata": {
    "colab": {
      "name": "HW9.ipynb",
      "provenance": [],
      "collapsed_sections": [],
      "authorship_tag": "ABX9TyMehXmPZ1NWsCy9SKpIBzta",
      "include_colab_link": true
    },
    "kernelspec": {
      "name": "python3",
      "display_name": "Python 3"
    },
    "language_info": {
      "name": "python"
    }
  },
  "cells": [
    {
      "cell_type": "markdown",
      "metadata": {
        "id": "view-in-github",
        "colab_type": "text"
      },
      "source": [
        "<a href=\"https://colab.research.google.com/github/hyperkraz/MAT421/blob/main/HW9.ipynb\" target=\"_parent\"><img src=\"https://colab.research.google.com/assets/colab-badge.svg\" alt=\"Open In Colab\"/></a>"
      ]
    },
    {
      "cell_type": "code",
      "execution_count": 71,
      "metadata": {
        "id": "Q5FfQEgANdEg"
      },
      "outputs": [],
      "source": [
        ""
      ]
    },
    {
      "cell_type": "markdown",
      "source": [
        "**Problem 1**"
      ],
      "metadata": {
        "id": "XZqBfBvgN_j3"
      }
    },
    {
      "cell_type": "code",
      "source": [
        "import numpy as np\n",
        "\n",
        "def my_int_calc(f, f0, a, b, N, option):\n",
        "  h = (b - a)/(N - 1)\n",
        "  x = np.linspace(a, b, N)\n",
        "  F = f(x)\n",
        "\n",
        "  def riemann(F, h):\n",
        "    return h * sum(F[1::])\n",
        "  \n",
        "  def trap(F, h):\n",
        "    return (h / 2) * (F[0] + 2 * sum(F[1:N - 1]) + F[N - 1])\n",
        "\n",
        "  \n",
        "  I = 0\n",
        "\n",
        "  if (option == \"rect\"):\n",
        "    I = riemann(F, h)\n",
        "  elif (option == \"trap\"):\n",
        "    I = trap(F, h)\n",
        "  else:\n",
        "    print(\"Invalid choice of option.\")\n",
        "    return;\n",
        "\n",
        "  I = I + f0\n",
        "  return I\n",
        "\n",
        "\n",
        "def f(x):\n",
        "  return np.cos(x)\n",
        "\n",
        "I = my_int_calc(f, 0, 0, 3, 99, 'rect')\n",
        "print(\"Riemann:\", I)\n",
        "I = my_int_calc(f, 0, 0, 3, 99, 'trap')\n",
        "print(\"Trapezoidal:\", I)\n"
      ],
      "metadata": {
        "colab": {
          "base_uri": "https://localhost:8080/"
        },
        "id": "JAWF5knVOId8",
        "outputId": "3bf0f0a2-4891-4b6b-adba-737de1a65109"
      },
      "execution_count": 72,
      "outputs": [
        {
          "output_type": "stream",
          "name": "stdout",
          "text": [
            "Riemann: 0.11064991865343136\n",
            "Trapezoidal: 0.14110898747894837\n"
          ]
        }
      ]
    },
    {
      "cell_type": "code",
      "source": [
        ""
      ],
      "metadata": {
        "id": "IfkyJovRRCHK"
      },
      "execution_count": 72,
      "outputs": []
    },
    {
      "cell_type": "markdown",
      "source": [
        "**Problem 2**"
      ],
      "metadata": {
        "id": "kQe5PFPETga8"
      }
    },
    {
      "cell_type": "code",
      "source": [
        "import numpy as np\n",
        "\n",
        "def my_poly_int(x, y):\n",
        "  N = len(x) * 100\n",
        "  X = np.linspace(x[0], x[-1], N)\n",
        "  def Lagrange(x, X):\n",
        "    L = np.ones((len(x), len(X)))\n",
        "    for j in range(0, len(x)):\n",
        "      for k in range(0, len(x)):\n",
        "        if k == j:\n",
        "          continue\n",
        "        else:\n",
        "          A = np.array(X - x[k]) / np.array(x[j] - x[k]);\n",
        "          L[j, :] = L[j, :] * A\n",
        "    return L\n",
        "  def myLagrange(x, y, X):\n",
        "    Y = np.zeros(len(X))\n",
        "    for j in range(0, len(y)):\n",
        "      L = Lagrange(x, X);\n",
        "      Y = Y + np.array(y[j]) * np.array(L[j, :])\n",
        "    return Y\n",
        "  Y = myLagrange(x, y, X)\n",
        "  h = (X[-1] - X[0]) / (N - 1)\n",
        "\n",
        "  def riemann(F, h):\n",
        "    return h * sum(F[1::])\n",
        "  return riemann(Y, h)\n",
        "\n",
        "I = my_poly_int([1, 2, 3, 4, 7, 8, 10], [4, 5, 7, 10, 15, 18, 24])\n",
        "print(I)\n"
      ],
      "metadata": {
        "colab": {
          "base_uri": "https://localhost:8080/"
        },
        "id": "HTdXpQ9oTnBo",
        "outputId": "9bd24ff2-38e2-4301-be64-ba0af645ea9d"
      },
      "execution_count": 73,
      "outputs": [
        {
          "output_type": "stream",
          "name": "stdout",
          "text": [
            "118.84055249808006\n"
          ]
        }
      ]
    },
    {
      "cell_type": "code",
      "source": [
        ""
      ],
      "metadata": {
        "id": "y7qjil90nNzY"
      },
      "execution_count": 73,
      "outputs": []
    },
    {
      "cell_type": "markdown",
      "source": [
        "**Problem 3**"
      ],
      "metadata": {
        "id": "NZZnPidHpGNY"
      }
    },
    {
      "cell_type": "markdown",
      "source": [
        "When the function in question does not have derivatives defined for specific points, the my_poly_int(x) function will perform worse than the trapezoidal method becomes the function becomes quite osciallatory."
      ],
      "metadata": {
        "id": "k1AS8VxopI3S"
      }
    },
    {
      "cell_type": "code",
      "source": [
        ""
      ],
      "metadata": {
        "id": "8UUDcRAxp8pM"
      },
      "execution_count": 73,
      "outputs": []
    }
  ]
}