{
  "nbformat": 4,
  "nbformat_minor": 0,
  "metadata": {
    "colab": {
      "name": "L15.ipynb",
      "provenance": [],
      "collapsed_sections": [],
      "authorship_tag": "ABX9TyMg76QkLr7baOyiuShJwB6m",
      "include_colab_link": true
    },
    "kernelspec": {
      "name": "python3",
      "display_name": "Python 3"
    },
    "language_info": {
      "name": "python"
    }
  },
  "cells": [
    {
      "cell_type": "markdown",
      "metadata": {
        "id": "view-in-github",
        "colab_type": "text"
      },
      "source": [
        "<a href=\"https://colab.research.google.com/github/hyperkraz/MAT421/blob/main/L15.ipynb\" target=\"_parent\"><img src=\"https://colab.research.google.com/assets/colab-badge.svg\" alt=\"Open In Colab\"/></a>"
      ]
    },
    {
      "cell_type": "code",
      "execution_count": 31,
      "metadata": {
        "id": "geSdy2LmSsD9"
      },
      "outputs": [],
      "source": [
        ""
      ]
    },
    {
      "cell_type": "markdown",
      "source": [
        "P15.1.1"
      ],
      "metadata": {
        "id": "9XMSHr2xS06q"
      }
    },
    {
      "cell_type": "code",
      "source": [
        ""
      ],
      "metadata": {
        "id": "6wNBPtpaTPmD"
      },
      "execution_count": 31,
      "outputs": []
    },
    {
      "cell_type": "markdown",
      "source": [
        "P15.1.2"
      ],
      "metadata": {
        "id": "h6mq91QKTQek"
      }
    },
    {
      "cell_type": "code",
      "source": [
        "import numpy as np"
      ],
      "metadata": {
        "id": "5J3icylv6CI9"
      },
      "execution_count": 32,
      "outputs": []
    },
    {
      "cell_type": "code",
      "source": [
        "def myimpeuler(f,tspan,y0,N,params):\n",
        "  h = float(tspan[1]-tspan[0])/N\n",
        "  t = tspan[0]; y = y0\n",
        "  tout = np.zeros((N+1,1)); yout = np.zeros((N+1,np.size(y0)))\n",
        "  tout[0] = t; yout[0] = y\n",
        "  for n in range(1,N+1):\n",
        "    k1 = f(t,y,params)\n",
        "    k2 = f(t+h,y+h*k1,params)\n",
        "    t += h\n",
        "    y += h*(k1+k2)/2.0\n",
        "    tout[n] = t; yout[n] = y\n",
        "  return tout,yout\n"
      ],
      "metadata": {
        "id": "uq-lRMbaTTZE"
      },
      "execution_count": 33,
      "outputs": []
    },
    {
      "cell_type": "code",
      "source": [
        "def myeuler(f,tspan,y0,N,params):\n",
        "  h = float(tspan[1]-tspan[0])/N # time step\n",
        "  t = tspan[0]; y = y0\n",
        "  tout = [0]*(N+1); yout = [0]*(N+1) # reserve space for output\n",
        "  tout[0] = t; yout[0] = y # set initial t and y\n",
        "  for n in range(1,N+1): # n=1..N\n",
        "    f1 = f(t,y,params) # y' @ current t\n",
        "    t += h # update t\n",
        "    y += h*f1 # update y\n",
        "    tout[n] = t; yout[n] = y\n",
        "  return tout,yout"
      ],
      "metadata": {
        "id": "rWe53F9R5tZ1"
      },
      "execution_count": 34,
      "outputs": []
    },
    {
      "cell_type": "code",
      "source": [
        "def rhs(t,y,params):\n",
        "  return params['a']*y*(1.-y)\n",
        "\n",
        "tspan = [0, 10]\n",
        "N = 10\n",
        "params = {'a':2}\n",
        "y0 = 0.2\n",
        "t,y = myimpeuler(rhs,tspan,y0,N,params)\n",
        "\n",
        "from matplotlib.pyplot import close, figure, plot, axis, grid, xlabel, ylabel, legend, savefig, show\n",
        "figure(1)\n",
        "t,y = myeuler(rhs,tspan,y0,N,params)\n",
        "timp,yimp = myimpeuler(rhs,tspan,y0,N,params)\n",
        "plot(t,y,'.-',markersize=20,color='r',label = 'Euler')\n",
        "plot(timp, yimp,'.-',markersize=20,color='b', label = 'Imporved Euler')\n",
        "axis(tspan+[-.2,1.2])\n",
        "grid()\n",
        "xlabel(r'time $t$',fontsize=16)\n",
        "ylabel(r'solution $y(t)$',fontsize=16)\n",
        "legend(loc='lower right')\n",
        "savefig('myode_a2.png', bbox_inches='tight', dpi=900)"
      ],
      "metadata": {
        "colab": {
          "base_uri": "https://localhost:8080/",
          "height": 288
        },
        "id": "445MKrRW3UYX",
        "outputId": "fb4a57c0-af51-4e64-faf0-9cc95be36b74"
      },
      "execution_count": 35,
      "outputs": [
        {
          "output_type": "display_data",
          "data": {
            "text/plain": [
              "<Figure size 432x288 with 1 Axes>"
            ],
            "image/png": "[encoded data removed]"
          },
          "metadata": {
            "needs_background": "light"
          }
        }
      ]
    },
    {
      "cell_type": "markdown",
      "source": [
        "P15.2.1"
      ],
      "metadata": {
        "id": "ZcSj_xHATT-P"
      }
    },
    {
      "cell_type": "code",
      "source": [
        ""
      ],
      "metadata": {
        "id": "XcIUbEOwTWUz"
      },
      "execution_count": 35,
      "outputs": []
    },
    {
      "cell_type": "markdown",
      "source": [
        "P16.2.1"
      ],
      "metadata": {
        "id": "u0NnjXeRTYnq"
      }
    },
    {
      "cell_type": "code",
      "source": [
        ""
      ],
      "metadata": {
        "id": "1HAY9ZY5TckA"
      },
      "execution_count": 35,
      "outputs": []
    }
  ]
}